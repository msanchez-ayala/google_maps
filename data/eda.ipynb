{
 "cells": [
  {
   "cell_type": "markdown",
   "metadata": {},
   "source": [
    "# EDA\n",
    "Here, we'll conduct all of the EDA for this project."
   ]
  },
  {
   "cell_type": "markdown",
   "metadata": {},
   "source": [
    "## Next steps\n",
    "1. Basic instructions visualizations\n",
    " - most common lines\n",
    " - dist of each lines' duration\n",
    " - compare number of steps \n",
    " - breakdown by time of day\n",
    "\n",
    "2. Breakdown by time of day for trip durations"
   ]
  },
  {
   "cell_type": "code",
   "execution_count": 295,
   "metadata": {},
   "outputs": [],
   "source": [
    "import mysql.connector \n",
    "import config\n",
    "from datetime import datetime\n",
    "import pandas as pd\n",
    "import numpy as np\n",
    "import plotly.graph_objects as go\n",
    "import helpers\n",
    "%load_ext autoreload\n",
    "%autoreload 2\n",
    "\n",
    "import matplotlib.pyplot as plt\n",
    "import seaborn as sns\n",
    "%matplotlib inline"
   ]
  },
  {
   "cell_type": "code",
   "execution_count": 209,
   "metadata": {},
   "outputs": [],
   "source": [
    "# Establish connection to MySQL db and connect to db `google_maps`\n",
    "cnx = mysql.connector.connect(\n",
    "    host = config.host,\n",
    "    user = config.user,\n",
    "    passwd = config.password\n",
    ")\n",
    "cursor = cnx.cursor()\n",
    "cursor.execute(\"USE google_maps\")"
   ]
  },
  {
   "cell_type": "markdown",
   "metadata": {},
   "source": [
    "# Trip Duration"
   ]
  },
  {
   "cell_type": "code",
   "execution_count": 296,
   "metadata": {},
   "outputs": [
    {
     "data": {
      "text/html": [
       "<div>\n",
       "<style scoped>\n",
       "    .dataframe tbody tr th:only-of-type {\n",
       "        vertical-align: middle;\n",
       "    }\n",
       "\n",
       "    .dataframe tbody tr th {\n",
       "        vertical-align: top;\n",
       "    }\n",
       "\n",
       "    .dataframe thead th {\n",
       "        text-align: right;\n",
       "    }\n",
       "</style>\n",
       "<table border=\"1\" class=\"dataframe\">\n",
       "  <thead>\n",
       "    <tr style=\"text-align: right;\">\n",
       "      <th></th>\n",
       "      <th>departure_time</th>\n",
       "      <th>trip_direction</th>\n",
       "      <th>trip_duration</th>\n",
       "    </tr>\n",
       "  </thead>\n",
       "  <tbody>\n",
       "    <tr>\n",
       "      <th>0</th>\n",
       "      <td>2020/02/22 10:05</td>\n",
       "      <td>0</td>\n",
       "      <td>66</td>\n",
       "    </tr>\n",
       "    <tr>\n",
       "      <th>1</th>\n",
       "      <td>2020/02/22 10:05</td>\n",
       "      <td>1</td>\n",
       "      <td>55</td>\n",
       "    </tr>\n",
       "    <tr>\n",
       "      <th>2</th>\n",
       "      <td>2020/02/22 10:10</td>\n",
       "      <td>0</td>\n",
       "      <td>66</td>\n",
       "    </tr>\n",
       "    <tr>\n",
       "      <th>3</th>\n",
       "      <td>2020/02/22 10:10</td>\n",
       "      <td>1</td>\n",
       "      <td>58</td>\n",
       "    </tr>\n",
       "    <tr>\n",
       "      <th>4</th>\n",
       "      <td>2020/02/22 10:15</td>\n",
       "      <td>0</td>\n",
       "      <td>55</td>\n",
       "    </tr>\n",
       "  </tbody>\n",
       "</table>\n",
       "</div>"
      ],
      "text/plain": [
       "     departure_time  trip_direction  trip_duration\n",
       "0  2020/02/22 10:05               0             66\n",
       "1  2020/02/22 10:05               1             55\n",
       "2  2020/02/22 10:10               0             66\n",
       "3  2020/02/22 10:10               1             58\n",
       "4  2020/02/22 10:15               0             55"
      ]
     },
     "execution_count": 296,
     "metadata": {},
     "output_type": "execute_result"
    }
   ],
   "source": [
    "# Get all data after 2/18 and store as a df\n",
    "cursor.execute(\"\"\"SELECT * FROM trips WHERE DAY(departure_time) > 18;\"\"\")\n",
    "df = pd.DataFrame(cursor.fetchall())\n",
    "df.columns = [x[0] for x in cursor.description]\n",
    "df.head()"
   ]
  },
  {
   "cell_type": "code",
   "execution_count": 211,
   "metadata": {
    "scrolled": true
   },
   "outputs": [
    {
     "name": "stdout",
     "output_type": "stream",
     "text": [
      "<class 'pandas.core.frame.DataFrame'>\n",
      "RangeIndex: 500 entries, 0 to 499\n",
      "Data columns (total 3 columns):\n",
      "departure_time    500 non-null object\n",
      "trip_direction    500 non-null int64\n",
      "trip_duration     500 non-null int64\n",
      "dtypes: int64(2), object(1)\n",
      "memory usage: 11.8+ KB\n"
     ]
    }
   ],
   "source": [
    "#inspect columns\n",
    "df.info()"
   ]
  },
  {
   "cell_type": "code",
   "execution_count": 307,
   "metadata": {},
   "outputs": [],
   "source": [
    "# Use helpers.py to engineer several features and convert departure_time to datetime\n",
    "trip_df, trips_dfs = helpers.create_features(df)"
   ]
  },
  {
   "cell_type": "code",
   "execution_count": 308,
   "metadata": {
    "scrolled": true
   },
   "outputs": [
    {
     "name": "stdout",
     "output_type": "stream",
     "text": [
      "<class 'pandas.core.frame.DataFrame'>\n",
      "RangeIndex: 500 entries, 0 to 499\n",
      "Data columns (total 7 columns):\n",
      "departure_time         500 non-null datetime64[ns]\n",
      "trip_direction         500 non-null int64\n",
      "trip_duration          500 non-null int64\n",
      "time_of_day            500 non-null object\n",
      "day_of_week            500 non-null int64\n",
      "weekday                500 non-null int64\n",
      "trip_direction_text    500 non-null object\n",
      "dtypes: datetime64[ns](1), int64(4), object(2)\n",
      "memory usage: 27.5+ KB\n"
     ]
    }
   ],
   "source": [
    "trip_df.info()"
   ]
  },
  {
   "cell_type": "code",
   "execution_count": 309,
   "metadata": {
    "scrolled": true
   },
   "outputs": [
    {
     "data": {
      "text/html": [
       "<div>\n",
       "<style scoped>\n",
       "    .dataframe tbody tr th:only-of-type {\n",
       "        vertical-align: middle;\n",
       "    }\n",
       "\n",
       "    .dataframe tbody tr th {\n",
       "        vertical-align: top;\n",
       "    }\n",
       "\n",
       "    .dataframe thead th {\n",
       "        text-align: right;\n",
       "    }\n",
       "</style>\n",
       "<table border=\"1\" class=\"dataframe\">\n",
       "  <thead>\n",
       "    <tr style=\"text-align: right;\">\n",
       "      <th></th>\n",
       "      <th>departure_time</th>\n",
       "      <th>trip_direction</th>\n",
       "      <th>trip_duration</th>\n",
       "      <th>time_of_day</th>\n",
       "      <th>day_of_week</th>\n",
       "      <th>weekday</th>\n",
       "      <th>trip_direction_text</th>\n",
       "    </tr>\n",
       "  </thead>\n",
       "  <tbody>\n",
       "    <tr>\n",
       "      <th>0</th>\n",
       "      <td>2020-02-22 10:05:00</td>\n",
       "      <td>0</td>\n",
       "      <td>66</td>\n",
       "      <td>Morning</td>\n",
       "      <td>5</td>\n",
       "      <td>0</td>\n",
       "      <td>Trip to gf</td>\n",
       "    </tr>\n",
       "    <tr>\n",
       "      <th>1</th>\n",
       "      <td>2020-02-22 10:05:00</td>\n",
       "      <td>1</td>\n",
       "      <td>55</td>\n",
       "      <td>Morning</td>\n",
       "      <td>5</td>\n",
       "      <td>0</td>\n",
       "      <td>Trip to me</td>\n",
       "    </tr>\n",
       "    <tr>\n",
       "      <th>2</th>\n",
       "      <td>2020-02-22 10:10:00</td>\n",
       "      <td>0</td>\n",
       "      <td>66</td>\n",
       "      <td>Morning</td>\n",
       "      <td>5</td>\n",
       "      <td>0</td>\n",
       "      <td>Trip to gf</td>\n",
       "    </tr>\n",
       "    <tr>\n",
       "      <th>3</th>\n",
       "      <td>2020-02-22 10:10:00</td>\n",
       "      <td>1</td>\n",
       "      <td>58</td>\n",
       "      <td>Morning</td>\n",
       "      <td>5</td>\n",
       "      <td>0</td>\n",
       "      <td>Trip to me</td>\n",
       "    </tr>\n",
       "    <tr>\n",
       "      <th>4</th>\n",
       "      <td>2020-02-22 10:15:00</td>\n",
       "      <td>0</td>\n",
       "      <td>55</td>\n",
       "      <td>Morning</td>\n",
       "      <td>5</td>\n",
       "      <td>0</td>\n",
       "      <td>Trip to gf</td>\n",
       "    </tr>\n",
       "  </tbody>\n",
       "</table>\n",
       "</div>"
      ],
      "text/plain": [
       "       departure_time  trip_direction  trip_duration time_of_day  day_of_week  \\\n",
       "0 2020-02-22 10:05:00               0             66     Morning            5   \n",
       "1 2020-02-22 10:05:00               1             55     Morning            5   \n",
       "2 2020-02-22 10:10:00               0             66     Morning            5   \n",
       "3 2020-02-22 10:10:00               1             58     Morning            5   \n",
       "4 2020-02-22 10:15:00               0             55     Morning            5   \n",
       "\n",
       "   weekday trip_direction_text  \n",
       "0        0          Trip to gf  \n",
       "1        0          Trip to me  \n",
       "2        0          Trip to gf  \n",
       "3        0          Trip to me  \n",
       "4        0          Trip to gf  "
      ]
     },
     "execution_count": 309,
     "metadata": {},
     "output_type": "execute_result"
    }
   ],
   "source": [
    "trip_df.head()"
   ]
  },
  {
   "cell_type": "markdown",
   "metadata": {},
   "source": [
    "## Visualizations"
   ]
  },
  {
   "cell_type": "code",
   "execution_count": 305,
   "metadata": {},
   "outputs": [
    {
     "data": {
      "application/vnd.plotly.v1+json": {
       "config": {
        "plotlyServerURL": "https://plot.ly"
       },
       "data": [
        {
         "boxpoints": "all",
         "jitter": 0.3,
         "name": "Trip to gf",
         "type": "box",
         "y": [
          66,
          66,
          55,
          58,
          58,
          65,
          54,
          66,
          58,
          53,
          57,
          54,
          54,
          58,
          65,
          58,
          64,
          64,
          58,
          66,
          53,
          54,
          58,
          60,
          60,
          63,
          63,
          63,
          62,
          64,
          52,
          66,
          52,
          55,
          60,
          60,
          53,
          64,
          64,
          64,
          62,
          64,
          64,
          56,
          53,
          54,
          63,
          56,
          58,
          63,
          63,
          64,
          64,
          64,
          66,
          66,
          52,
          58,
          58,
          60,
          60,
          55,
          60,
          64,
          64,
          66,
          66,
          53,
          55,
          70,
          63,
          64,
          58,
          58,
          62,
          64,
          65,
          56,
          60,
          61,
          53,
          55,
          62,
          58,
          54,
          51,
          51,
          54,
          65,
          50,
          65,
          52,
          52,
          53,
          50,
          60,
          55,
          56,
          67,
          63,
          52,
          68,
          51,
          52,
          62,
          53,
          56,
          53,
          55,
          54,
          53,
          55,
          53,
          68,
          66,
          56,
          51,
          53,
          51,
          51,
          51,
          50,
          52,
          56,
          50,
          82,
          50,
          49,
          49,
          51,
          57,
          64,
          51,
          50,
          57,
          60,
          50,
          50,
          61,
          72,
          56,
          51,
          56,
          61,
          61,
          66,
          50,
          51,
          44,
          71,
          61,
          61,
          58,
          47,
          47,
          58,
          63,
          63,
          64,
          57,
          58,
          65,
          72,
          70,
          58,
          57,
          114,
          70,
          48,
          57,
          70,
          61,
          61,
          55,
          75,
          85,
          54,
          65,
          83,
          72,
          65,
          66,
          72,
          49,
          49,
          49,
          63,
          64,
          45,
          66,
          66,
          49,
          49,
          66,
          66,
          58,
          57,
          57,
          57,
          57,
          57,
          67,
          63,
          65,
          65,
          50,
          51,
          64,
          61,
          67,
          68,
          69,
          59,
          67,
          65,
          70,
          48,
          48,
          53,
          56,
          63,
          63,
          63,
          64,
          64,
          65,
          67,
          58,
          52,
          52,
          58,
          58,
          63,
          63,
          50,
          50,
          50,
          50,
          68,
          65,
          67,
          70,
          51,
          54,
          66,
          71,
          62,
          65,
          63,
          62
         ]
        },
        {
         "boxpoints": "all",
         "jitter": 0.3,
         "name": "Trip to me",
         "type": "box",
         "y": [
          55,
          58,
          58,
          57,
          57,
          52,
          52,
          58,
          55,
          55,
          52,
          57,
          54,
          52,
          53,
          53,
          53,
          61,
          61,
          58,
          55,
          56,
          52,
          58,
          56,
          54,
          65,
          65,
          65,
          50,
          51,
          58,
          58,
          58,
          53,
          58,
          54,
          54,
          53,
          53,
          55,
          61,
          52,
          58,
          58,
          57,
          52,
          53,
          54,
          56,
          54,
          52,
          57,
          50,
          51,
          58,
          53,
          56,
          53,
          55,
          58,
          53,
          54,
          55,
          57,
          53,
          56,
          53,
          57,
          57,
          57,
          54,
          54,
          52,
          52,
          53,
          54,
          51,
          58,
          58,
          53,
          57,
          56,
          47,
          47,
          54,
          52,
          54,
          51,
          53,
          55,
          55,
          54,
          52,
          56,
          51,
          50,
          52,
          51,
          54,
          50,
          50,
          53,
          54,
          49,
          51,
          55,
          53,
          52,
          53,
          53,
          52,
          56,
          56,
          50,
          50,
          51,
          48,
          49,
          60,
          61,
          52,
          49,
          50,
          52,
          57,
          49,
          48,
          53,
          48,
          48,
          46,
          47,
          60,
          58,
          58,
          50,
          49,
          67,
          68,
          53,
          53,
          53,
          53,
          54,
          52,
          53,
          56,
          58,
          56,
          55,
          54,
          45,
          47,
          54,
          58,
          51,
          54,
          52,
          67,
          67,
          61,
          54,
          62,
          44,
          45,
          46,
          76,
          53,
          53,
          56,
          45,
          46,
          47,
          106,
          101,
          105,
          109,
          60,
          46,
          52,
          52,
          84,
          87,
          62,
          45,
          45,
          62,
          42,
          42,
          60,
          63,
          62,
          48,
          64,
          59,
          59,
          59,
          57,
          57,
          57,
          59,
          59,
          68,
          62,
          78,
          84,
          75,
          55,
          51,
          53,
          68,
          66,
          56,
          54,
          56,
          56,
          51,
          51,
          51,
          49,
          57,
          55,
          76,
          49,
          48,
          48,
          60,
          64,
          61,
          58,
          54,
          60,
          61,
          56,
          52,
          58,
          50,
          50,
          59,
          59,
          59,
          55,
          55,
          54,
          54,
          55,
          62,
          62,
          52
         ]
        }
       ],
       "layout": {
        "showlegend": false,
        "template": {
         "data": {
          "bar": [
           {
            "error_x": {
             "color": "#2a3f5f"
            },
            "error_y": {
             "color": "#2a3f5f"
            },
            "marker": {
             "line": {
              "color": "white",
              "width": 0.5
             }
            },
            "type": "bar"
           }
          ],
          "barpolar": [
           {
            "marker": {
             "line": {
              "color": "white",
              "width": 0.5
             }
            },
            "type": "barpolar"
           }
          ],
          "carpet": [
           {
            "aaxis": {
             "endlinecolor": "#2a3f5f",
             "gridcolor": "#C8D4E3",
             "linecolor": "#C8D4E3",
             "minorgridcolor": "#C8D4E3",
             "startlinecolor": "#2a3f5f"
            },
            "baxis": {
             "endlinecolor": "#2a3f5f",
             "gridcolor": "#C8D4E3",
             "linecolor": "#C8D4E3",
             "minorgridcolor": "#C8D4E3",
             "startlinecolor": "#2a3f5f"
            },
            "type": "carpet"
           }
          ],
          "choropleth": [
           {
            "colorbar": {
             "outlinewidth": 0,
             "ticks": ""
            },
            "type": "choropleth"
           }
          ],
          "contour": [
           {
            "colorbar": {
             "outlinewidth": 0,
             "ticks": ""
            },
            "colorscale": [
             [
              0,
              "#0d0887"
             ],
             [
              0.1111111111111111,
              "#46039f"
             ],
             [
              0.2222222222222222,
              "#7201a8"
             ],
             [
              0.3333333333333333,
              "#9c179e"
             ],
             [
              0.4444444444444444,
              "#bd3786"
             ],
             [
              0.5555555555555556,
              "#d8576b"
             ],
             [
              0.6666666666666666,
              "#ed7953"
             ],
             [
              0.7777777777777778,
              "#fb9f3a"
             ],
             [
              0.8888888888888888,
              "#fdca26"
             ],
             [
              1,
              "#f0f921"
             ]
            ],
            "type": "contour"
           }
          ],
          "contourcarpet": [
           {
            "colorbar": {
             "outlinewidth": 0,
             "ticks": ""
            },
            "type": "contourcarpet"
           }
          ],
          "heatmap": [
           {
            "colorbar": {
             "outlinewidth": 0,
             "ticks": ""
            },
            "colorscale": [
             [
              0,
              "#0d0887"
             ],
             [
              0.1111111111111111,
              "#46039f"
             ],
             [
              0.2222222222222222,
              "#7201a8"
             ],
             [
              0.3333333333333333,
              "#9c179e"
             ],
             [
              0.4444444444444444,
              "#bd3786"
             ],
             [
              0.5555555555555556,
              "#d8576b"
             ],
             [
              0.6666666666666666,
              "#ed7953"
             ],
             [
              0.7777777777777778,
              "#fb9f3a"
             ],
             [
              0.8888888888888888,
              "#fdca26"
             ],
             [
              1,
              "#f0f921"
             ]
            ],
            "type": "heatmap"
           }
          ],
          "heatmapgl": [
           {
            "colorbar": {
             "outlinewidth": 0,
             "ticks": ""
            },
            "colorscale": [
             [
              0,
              "#0d0887"
             ],
             [
              0.1111111111111111,
              "#46039f"
             ],
             [
              0.2222222222222222,
              "#7201a8"
             ],
             [
              0.3333333333333333,
              "#9c179e"
             ],
             [
              0.4444444444444444,
              "#bd3786"
             ],
             [
              0.5555555555555556,
              "#d8576b"
             ],
             [
              0.6666666666666666,
              "#ed7953"
             ],
             [
              0.7777777777777778,
              "#fb9f3a"
             ],
             [
              0.8888888888888888,
              "#fdca26"
             ],
             [
              1,
              "#f0f921"
             ]
            ],
            "type": "heatmapgl"
           }
          ],
          "histogram": [
           {
            "marker": {
             "colorbar": {
              "outlinewidth": 0,
              "ticks": ""
             }
            },
            "type": "histogram"
           }
          ],
          "histogram2d": [
           {
            "colorbar": {
             "outlinewidth": 0,
             "ticks": ""
            },
            "colorscale": [
             [
              0,
              "#0d0887"
             ],
             [
              0.1111111111111111,
              "#46039f"
             ],
             [
              0.2222222222222222,
              "#7201a8"
             ],
             [
              0.3333333333333333,
              "#9c179e"
             ],
             [
              0.4444444444444444,
              "#bd3786"
             ],
             [
              0.5555555555555556,
              "#d8576b"
             ],
             [
              0.6666666666666666,
              "#ed7953"
             ],
             [
              0.7777777777777778,
              "#fb9f3a"
             ],
             [
              0.8888888888888888,
              "#fdca26"
             ],
             [
              1,
              "#f0f921"
             ]
            ],
            "type": "histogram2d"
           }
          ],
          "histogram2dcontour": [
           {
            "colorbar": {
             "outlinewidth": 0,
             "ticks": ""
            },
            "colorscale": [
             [
              0,
              "#0d0887"
             ],
             [
              0.1111111111111111,
              "#46039f"
             ],
             [
              0.2222222222222222,
              "#7201a8"
             ],
             [
              0.3333333333333333,
              "#9c179e"
             ],
             [
              0.4444444444444444,
              "#bd3786"
             ],
             [
              0.5555555555555556,
              "#d8576b"
             ],
             [
              0.6666666666666666,
              "#ed7953"
             ],
             [
              0.7777777777777778,
              "#fb9f3a"
             ],
             [
              0.8888888888888888,
              "#fdca26"
             ],
             [
              1,
              "#f0f921"
             ]
            ],
            "type": "histogram2dcontour"
           }
          ],
          "mesh3d": [
           {
            "colorbar": {
             "outlinewidth": 0,
             "ticks": ""
            },
            "type": "mesh3d"
           }
          ],
          "parcoords": [
           {
            "line": {
             "colorbar": {
              "outlinewidth": 0,
              "ticks": ""
             }
            },
            "type": "parcoords"
           }
          ],
          "pie": [
           {
            "automargin": true,
            "type": "pie"
           }
          ],
          "scatter": [
           {
            "marker": {
             "colorbar": {
              "outlinewidth": 0,
              "ticks": ""
             }
            },
            "type": "scatter"
           }
          ],
          "scatter3d": [
           {
            "line": {
             "colorbar": {
              "outlinewidth": 0,
              "ticks": ""
             }
            },
            "marker": {
             "colorbar": {
              "outlinewidth": 0,
              "ticks": ""
             }
            },
            "type": "scatter3d"
           }
          ],
          "scattercarpet": [
           {
            "marker": {
             "colorbar": {
              "outlinewidth": 0,
              "ticks": ""
             }
            },
            "type": "scattercarpet"
           }
          ],
          "scattergeo": [
           {
            "marker": {
             "colorbar": {
              "outlinewidth": 0,
              "ticks": ""
             }
            },
            "type": "scattergeo"
           }
          ],
          "scattergl": [
           {
            "marker": {
             "colorbar": {
              "outlinewidth": 0,
              "ticks": ""
             }
            },
            "type": "scattergl"
           }
          ],
          "scattermapbox": [
           {
            "marker": {
             "colorbar": {
              "outlinewidth": 0,
              "ticks": ""
             }
            },
            "type": "scattermapbox"
           }
          ],
          "scatterpolar": [
           {
            "marker": {
             "colorbar": {
              "outlinewidth": 0,
              "ticks": ""
             }
            },
            "type": "scatterpolar"
           }
          ],
          "scatterpolargl": [
           {
            "marker": {
             "colorbar": {
              "outlinewidth": 0,
              "ticks": ""
             }
            },
            "type": "scatterpolargl"
           }
          ],
          "scatterternary": [
           {
            "marker": {
             "colorbar": {
              "outlinewidth": 0,
              "ticks": ""
             }
            },
            "type": "scatterternary"
           }
          ],
          "surface": [
           {
            "colorbar": {
             "outlinewidth": 0,
             "ticks": ""
            },
            "colorscale": [
             [
              0,
              "#0d0887"
             ],
             [
              0.1111111111111111,
              "#46039f"
             ],
             [
              0.2222222222222222,
              "#7201a8"
             ],
             [
              0.3333333333333333,
              "#9c179e"
             ],
             [
              0.4444444444444444,
              "#bd3786"
             ],
             [
              0.5555555555555556,
              "#d8576b"
             ],
             [
              0.6666666666666666,
              "#ed7953"
             ],
             [
              0.7777777777777778,
              "#fb9f3a"
             ],
             [
              0.8888888888888888,
              "#fdca26"
             ],
             [
              1,
              "#f0f921"
             ]
            ],
            "type": "surface"
           }
          ],
          "table": [
           {
            "cells": {
             "fill": {
              "color": "#EBF0F8"
             },
             "line": {
              "color": "white"
             }
            },
            "header": {
             "fill": {
              "color": "#C8D4E3"
             },
             "line": {
              "color": "white"
             }
            },
            "type": "table"
           }
          ]
         },
         "layout": {
          "annotationdefaults": {
           "arrowcolor": "#2a3f5f",
           "arrowhead": 0,
           "arrowwidth": 1
          },
          "coloraxis": {
           "colorbar": {
            "outlinewidth": 0,
            "ticks": ""
           }
          },
          "colorscale": {
           "diverging": [
            [
             0,
             "#8e0152"
            ],
            [
             0.1,
             "#c51b7d"
            ],
            [
             0.2,
             "#de77ae"
            ],
            [
             0.3,
             "#f1b6da"
            ],
            [
             0.4,
             "#fde0ef"
            ],
            [
             0.5,
             "#f7f7f7"
            ],
            [
             0.6,
             "#e6f5d0"
            ],
            [
             0.7,
             "#b8e186"
            ],
            [
             0.8,
             "#7fbc41"
            ],
            [
             0.9,
             "#4d9221"
            ],
            [
             1,
             "#276419"
            ]
           ],
           "sequential": [
            [
             0,
             "#0d0887"
            ],
            [
             0.1111111111111111,
             "#46039f"
            ],
            [
             0.2222222222222222,
             "#7201a8"
            ],
            [
             0.3333333333333333,
             "#9c179e"
            ],
            [
             0.4444444444444444,
             "#bd3786"
            ],
            [
             0.5555555555555556,
             "#d8576b"
            ],
            [
             0.6666666666666666,
             "#ed7953"
            ],
            [
             0.7777777777777778,
             "#fb9f3a"
            ],
            [
             0.8888888888888888,
             "#fdca26"
            ],
            [
             1,
             "#f0f921"
            ]
           ],
           "sequentialminus": [
            [
             0,
             "#0d0887"
            ],
            [
             0.1111111111111111,
             "#46039f"
            ],
            [
             0.2222222222222222,
             "#7201a8"
            ],
            [
             0.3333333333333333,
             "#9c179e"
            ],
            [
             0.4444444444444444,
             "#bd3786"
            ],
            [
             0.5555555555555556,
             "#d8576b"
            ],
            [
             0.6666666666666666,
             "#ed7953"
            ],
            [
             0.7777777777777778,
             "#fb9f3a"
            ],
            [
             0.8888888888888888,
             "#fdca26"
            ],
            [
             1,
             "#f0f921"
            ]
           ]
          },
          "colorway": [
           "#636efa",
           "#EF553B",
           "#00cc96",
           "#ab63fa",
           "#FFA15A",
           "#19d3f3",
           "#FF6692",
           "#B6E880",
           "#FF97FF",
           "#FECB52"
          ],
          "font": {
           "color": "#2a3f5f"
          },
          "geo": {
           "bgcolor": "white",
           "lakecolor": "white",
           "landcolor": "white",
           "showlakes": true,
           "showland": true,
           "subunitcolor": "#C8D4E3"
          },
          "hoverlabel": {
           "align": "left"
          },
          "hovermode": "closest",
          "mapbox": {
           "style": "light"
          },
          "paper_bgcolor": "white",
          "plot_bgcolor": "white",
          "polar": {
           "angularaxis": {
            "gridcolor": "#EBF0F8",
            "linecolor": "#EBF0F8",
            "ticks": ""
           },
           "bgcolor": "white",
           "radialaxis": {
            "gridcolor": "#EBF0F8",
            "linecolor": "#EBF0F8",
            "ticks": ""
           }
          },
          "scene": {
           "xaxis": {
            "backgroundcolor": "white",
            "gridcolor": "#DFE8F3",
            "gridwidth": 2,
            "linecolor": "#EBF0F8",
            "showbackground": true,
            "ticks": "",
            "zerolinecolor": "#EBF0F8"
           },
           "yaxis": {
            "backgroundcolor": "white",
            "gridcolor": "#DFE8F3",
            "gridwidth": 2,
            "linecolor": "#EBF0F8",
            "showbackground": true,
            "ticks": "",
            "zerolinecolor": "#EBF0F8"
           },
           "zaxis": {
            "backgroundcolor": "white",
            "gridcolor": "#DFE8F3",
            "gridwidth": 2,
            "linecolor": "#EBF0F8",
            "showbackground": true,
            "ticks": "",
            "zerolinecolor": "#EBF0F8"
           }
          },
          "shapedefaults": {
           "line": {
            "color": "#2a3f5f"
           }
          },
          "ternary": {
           "aaxis": {
            "gridcolor": "#DFE8F3",
            "linecolor": "#A2B1C6",
            "ticks": ""
           },
           "baxis": {
            "gridcolor": "#DFE8F3",
            "linecolor": "#A2B1C6",
            "ticks": ""
           },
           "bgcolor": "white",
           "caxis": {
            "gridcolor": "#DFE8F3",
            "linecolor": "#A2B1C6",
            "ticks": ""
           }
          },
          "title": {
           "x": 0.05
          },
          "xaxis": {
           "automargin": true,
           "gridcolor": "#EBF0F8",
           "linecolor": "#EBF0F8",
           "ticks": "",
           "title": {
            "standoff": 15
           },
           "zerolinecolor": "#EBF0F8",
           "zerolinewidth": 2
          },
          "yaxis": {
           "automargin": true,
           "gridcolor": "#EBF0F8",
           "linecolor": "#EBF0F8",
           "ticks": "",
           "title": {
            "standoff": 15
           },
           "zerolinecolor": "#EBF0F8",
           "zerolinewidth": 2
          }
         }
        },
        "title": {
         "text": "Transit Trip Duration"
        },
        "yaxis": {
         "title": {
          "text": "Minutes"
         }
        }
       }
      },
      "text/html": [
       "<div>\n",
       "        \n",
       "        \n",
       "            <div id=\"6fa25846-be6f-4eaa-9204-fd977453dd58\" class=\"plotly-graph-div\" style=\"height:525px; width:100%;\"></div>\n",
       "            <script type=\"text/javascript\">\n",
       "                require([\"plotly\"], function(Plotly) {\n",
       "                    window.PLOTLYENV=window.PLOTLYENV || {};\n",
       "                    \n",
       "                if (document.getElementById(\"6fa25846-be6f-4eaa-9204-fd977453dd58\")) {\n",
       "                    Plotly.newPlot(\n",
       "                        '6fa25846-be6f-4eaa-9204-fd977453dd58',\n",
       "                        [{\"boxpoints\": \"all\", \"jitter\": 0.3, \"name\": \"Trip to gf\", \"type\": \"box\", \"y\": [66, 66, 55, 58, 58, 65, 54, 66, 58, 53, 57, 54, 54, 58, 65, 58, 64, 64, 58, 66, 53, 54, 58, 60, 60, 63, 63, 63, 62, 64, 52, 66, 52, 55, 60, 60, 53, 64, 64, 64, 62, 64, 64, 56, 53, 54, 63, 56, 58, 63, 63, 64, 64, 64, 66, 66, 52, 58, 58, 60, 60, 55, 60, 64, 64, 66, 66, 53, 55, 70, 63, 64, 58, 58, 62, 64, 65, 56, 60, 61, 53, 55, 62, 58, 54, 51, 51, 54, 65, 50, 65, 52, 52, 53, 50, 60, 55, 56, 67, 63, 52, 68, 51, 52, 62, 53, 56, 53, 55, 54, 53, 55, 53, 68, 66, 56, 51, 53, 51, 51, 51, 50, 52, 56, 50, 82, 50, 49, 49, 51, 57, 64, 51, 50, 57, 60, 50, 50, 61, 72, 56, 51, 56, 61, 61, 66, 50, 51, 44, 71, 61, 61, 58, 47, 47, 58, 63, 63, 64, 57, 58, 65, 72, 70, 58, 57, 114, 70, 48, 57, 70, 61, 61, 55, 75, 85, 54, 65, 83, 72, 65, 66, 72, 49, 49, 49, 63, 64, 45, 66, 66, 49, 49, 66, 66, 58, 57, 57, 57, 57, 57, 67, 63, 65, 65, 50, 51, 64, 61, 67, 68, 69, 59, 67, 65, 70, 48, 48, 53, 56, 63, 63, 63, 64, 64, 65, 67, 58, 52, 52, 58, 58, 63, 63, 50, 50, 50, 50, 68, 65, 67, 70, 51, 54, 66, 71, 62, 65, 63, 62]}, {\"boxpoints\": \"all\", \"jitter\": 0.3, \"name\": \"Trip to me\", \"type\": \"box\", \"y\": [55, 58, 58, 57, 57, 52, 52, 58, 55, 55, 52, 57, 54, 52, 53, 53, 53, 61, 61, 58, 55, 56, 52, 58, 56, 54, 65, 65, 65, 50, 51, 58, 58, 58, 53, 58, 54, 54, 53, 53, 55, 61, 52, 58, 58, 57, 52, 53, 54, 56, 54, 52, 57, 50, 51, 58, 53, 56, 53, 55, 58, 53, 54, 55, 57, 53, 56, 53, 57, 57, 57, 54, 54, 52, 52, 53, 54, 51, 58, 58, 53, 57, 56, 47, 47, 54, 52, 54, 51, 53, 55, 55, 54, 52, 56, 51, 50, 52, 51, 54, 50, 50, 53, 54, 49, 51, 55, 53, 52, 53, 53, 52, 56, 56, 50, 50, 51, 48, 49, 60, 61, 52, 49, 50, 52, 57, 49, 48, 53, 48, 48, 46, 47, 60, 58, 58, 50, 49, 67, 68, 53, 53, 53, 53, 54, 52, 53, 56, 58, 56, 55, 54, 45, 47, 54, 58, 51, 54, 52, 67, 67, 61, 54, 62, 44, 45, 46, 76, 53, 53, 56, 45, 46, 47, 106, 101, 105, 109, 60, 46, 52, 52, 84, 87, 62, 45, 45, 62, 42, 42, 60, 63, 62, 48, 64, 59, 59, 59, 57, 57, 57, 59, 59, 68, 62, 78, 84, 75, 55, 51, 53, 68, 66, 56, 54, 56, 56, 51, 51, 51, 49, 57, 55, 76, 49, 48, 48, 60, 64, 61, 58, 54, 60, 61, 56, 52, 58, 50, 50, 59, 59, 59, 55, 55, 54, 54, 55, 62, 62, 52]}],\n",
       "                        {\"showlegend\": false, \"template\": {\"data\": {\"bar\": [{\"error_x\": {\"color\": \"#2a3f5f\"}, \"error_y\": {\"color\": \"#2a3f5f\"}, \"marker\": {\"line\": {\"color\": \"white\", \"width\": 0.5}}, \"type\": \"bar\"}], \"barpolar\": [{\"marker\": {\"line\": {\"color\": \"white\", \"width\": 0.5}}, \"type\": \"barpolar\"}], \"carpet\": [{\"aaxis\": {\"endlinecolor\": \"#2a3f5f\", \"gridcolor\": \"#C8D4E3\", \"linecolor\": \"#C8D4E3\", \"minorgridcolor\": \"#C8D4E3\", \"startlinecolor\": \"#2a3f5f\"}, \"baxis\": {\"endlinecolor\": \"#2a3f5f\", \"gridcolor\": \"#C8D4E3\", \"linecolor\": \"#C8D4E3\", \"minorgridcolor\": \"#C8D4E3\", \"startlinecolor\": \"#2a3f5f\"}, \"type\": \"carpet\"}], \"choropleth\": [{\"colorbar\": {\"outlinewidth\": 0, \"ticks\": \"\"}, \"type\": \"choropleth\"}], \"contour\": [{\"colorbar\": {\"outlinewidth\": 0, \"ticks\": \"\"}, \"colorscale\": [[0.0, \"#0d0887\"], [0.1111111111111111, \"#46039f\"], [0.2222222222222222, \"#7201a8\"], [0.3333333333333333, \"#9c179e\"], [0.4444444444444444, \"#bd3786\"], [0.5555555555555556, \"#d8576b\"], [0.6666666666666666, \"#ed7953\"], [0.7777777777777778, \"#fb9f3a\"], [0.8888888888888888, \"#fdca26\"], [1.0, \"#f0f921\"]], \"type\": \"contour\"}], \"contourcarpet\": [{\"colorbar\": {\"outlinewidth\": 0, \"ticks\": \"\"}, \"type\": \"contourcarpet\"}], \"heatmap\": [{\"colorbar\": {\"outlinewidth\": 0, \"ticks\": \"\"}, \"colorscale\": [[0.0, \"#0d0887\"], [0.1111111111111111, \"#46039f\"], [0.2222222222222222, \"#7201a8\"], [0.3333333333333333, \"#9c179e\"], [0.4444444444444444, \"#bd3786\"], [0.5555555555555556, \"#d8576b\"], [0.6666666666666666, \"#ed7953\"], [0.7777777777777778, \"#fb9f3a\"], [0.8888888888888888, \"#fdca26\"], [1.0, \"#f0f921\"]], \"type\": \"heatmap\"}], \"heatmapgl\": [{\"colorbar\": {\"outlinewidth\": 0, \"ticks\": \"\"}, \"colorscale\": [[0.0, \"#0d0887\"], [0.1111111111111111, \"#46039f\"], [0.2222222222222222, \"#7201a8\"], [0.3333333333333333, \"#9c179e\"], [0.4444444444444444, \"#bd3786\"], [0.5555555555555556, \"#d8576b\"], [0.6666666666666666, \"#ed7953\"], [0.7777777777777778, \"#fb9f3a\"], [0.8888888888888888, \"#fdca26\"], [1.0, \"#f0f921\"]], \"type\": \"heatmapgl\"}], \"histogram\": [{\"marker\": {\"colorbar\": {\"outlinewidth\": 0, \"ticks\": \"\"}}, \"type\": \"histogram\"}], \"histogram2d\": [{\"colorbar\": {\"outlinewidth\": 0, \"ticks\": \"\"}, \"colorscale\": [[0.0, \"#0d0887\"], [0.1111111111111111, \"#46039f\"], [0.2222222222222222, \"#7201a8\"], [0.3333333333333333, \"#9c179e\"], [0.4444444444444444, \"#bd3786\"], [0.5555555555555556, \"#d8576b\"], [0.6666666666666666, \"#ed7953\"], [0.7777777777777778, \"#fb9f3a\"], [0.8888888888888888, \"#fdca26\"], [1.0, \"#f0f921\"]], \"type\": \"histogram2d\"}], \"histogram2dcontour\": [{\"colorbar\": {\"outlinewidth\": 0, \"ticks\": \"\"}, \"colorscale\": [[0.0, \"#0d0887\"], [0.1111111111111111, \"#46039f\"], [0.2222222222222222, \"#7201a8\"], [0.3333333333333333, \"#9c179e\"], [0.4444444444444444, \"#bd3786\"], [0.5555555555555556, \"#d8576b\"], [0.6666666666666666, \"#ed7953\"], [0.7777777777777778, \"#fb9f3a\"], [0.8888888888888888, \"#fdca26\"], [1.0, \"#f0f921\"]], \"type\": \"histogram2dcontour\"}], \"mesh3d\": [{\"colorbar\": {\"outlinewidth\": 0, \"ticks\": \"\"}, \"type\": \"mesh3d\"}], \"parcoords\": [{\"line\": {\"colorbar\": {\"outlinewidth\": 0, \"ticks\": \"\"}}, \"type\": \"parcoords\"}], \"pie\": [{\"automargin\": true, \"type\": \"pie\"}], \"scatter\": [{\"marker\": {\"colorbar\": {\"outlinewidth\": 0, \"ticks\": \"\"}}, \"type\": \"scatter\"}], \"scatter3d\": [{\"line\": {\"colorbar\": {\"outlinewidth\": 0, \"ticks\": \"\"}}, \"marker\": {\"colorbar\": {\"outlinewidth\": 0, \"ticks\": \"\"}}, \"type\": \"scatter3d\"}], \"scattercarpet\": [{\"marker\": {\"colorbar\": {\"outlinewidth\": 0, \"ticks\": \"\"}}, \"type\": \"scattercarpet\"}], \"scattergeo\": [{\"marker\": {\"colorbar\": {\"outlinewidth\": 0, \"ticks\": \"\"}}, \"type\": \"scattergeo\"}], \"scattergl\": [{\"marker\": {\"colorbar\": {\"outlinewidth\": 0, \"ticks\": \"\"}}, \"type\": \"scattergl\"}], \"scattermapbox\": [{\"marker\": {\"colorbar\": {\"outlinewidth\": 0, \"ticks\": \"\"}}, \"type\": \"scattermapbox\"}], \"scatterpolar\": [{\"marker\": {\"colorbar\": {\"outlinewidth\": 0, \"ticks\": \"\"}}, \"type\": \"scatterpolar\"}], \"scatterpolargl\": [{\"marker\": {\"colorbar\": {\"outlinewidth\": 0, \"ticks\": \"\"}}, \"type\": \"scatterpolargl\"}], \"scatterternary\": [{\"marker\": {\"colorbar\": {\"outlinewidth\": 0, \"ticks\": \"\"}}, \"type\": \"scatterternary\"}], \"surface\": [{\"colorbar\": {\"outlinewidth\": 0, \"ticks\": \"\"}, \"colorscale\": [[0.0, \"#0d0887\"], [0.1111111111111111, \"#46039f\"], [0.2222222222222222, \"#7201a8\"], [0.3333333333333333, \"#9c179e\"], [0.4444444444444444, \"#bd3786\"], [0.5555555555555556, \"#d8576b\"], [0.6666666666666666, \"#ed7953\"], [0.7777777777777778, \"#fb9f3a\"], [0.8888888888888888, \"#fdca26\"], [1.0, \"#f0f921\"]], \"type\": \"surface\"}], \"table\": [{\"cells\": {\"fill\": {\"color\": \"#EBF0F8\"}, \"line\": {\"color\": \"white\"}}, \"header\": {\"fill\": {\"color\": \"#C8D4E3\"}, \"line\": {\"color\": \"white\"}}, \"type\": \"table\"}]}, \"layout\": {\"annotationdefaults\": {\"arrowcolor\": \"#2a3f5f\", \"arrowhead\": 0, \"arrowwidth\": 1}, \"coloraxis\": {\"colorbar\": {\"outlinewidth\": 0, \"ticks\": \"\"}}, \"colorscale\": {\"diverging\": [[0, \"#8e0152\"], [0.1, \"#c51b7d\"], [0.2, \"#de77ae\"], [0.3, \"#f1b6da\"], [0.4, \"#fde0ef\"], [0.5, \"#f7f7f7\"], [0.6, \"#e6f5d0\"], [0.7, \"#b8e186\"], [0.8, \"#7fbc41\"], [0.9, \"#4d9221\"], [1, \"#276419\"]], \"sequential\": [[0.0, \"#0d0887\"], [0.1111111111111111, \"#46039f\"], [0.2222222222222222, \"#7201a8\"], [0.3333333333333333, \"#9c179e\"], [0.4444444444444444, \"#bd3786\"], [0.5555555555555556, \"#d8576b\"], [0.6666666666666666, \"#ed7953\"], [0.7777777777777778, \"#fb9f3a\"], [0.8888888888888888, \"#fdca26\"], [1.0, \"#f0f921\"]], \"sequentialminus\": [[0.0, \"#0d0887\"], [0.1111111111111111, \"#46039f\"], [0.2222222222222222, \"#7201a8\"], [0.3333333333333333, \"#9c179e\"], [0.4444444444444444, \"#bd3786\"], [0.5555555555555556, \"#d8576b\"], [0.6666666666666666, \"#ed7953\"], [0.7777777777777778, \"#fb9f3a\"], [0.8888888888888888, \"#fdca26\"], [1.0, \"#f0f921\"]]}, \"colorway\": [\"#636efa\", \"#EF553B\", \"#00cc96\", \"#ab63fa\", \"#FFA15A\", \"#19d3f3\", \"#FF6692\", \"#B6E880\", \"#FF97FF\", \"#FECB52\"], \"font\": {\"color\": \"#2a3f5f\"}, \"geo\": {\"bgcolor\": \"white\", \"lakecolor\": \"white\", \"landcolor\": \"white\", \"showlakes\": true, \"showland\": true, \"subunitcolor\": \"#C8D4E3\"}, \"hoverlabel\": {\"align\": \"left\"}, \"hovermode\": \"closest\", \"mapbox\": {\"style\": \"light\"}, \"paper_bgcolor\": \"white\", \"plot_bgcolor\": \"white\", \"polar\": {\"angularaxis\": {\"gridcolor\": \"#EBF0F8\", \"linecolor\": \"#EBF0F8\", \"ticks\": \"\"}, \"bgcolor\": \"white\", \"radialaxis\": {\"gridcolor\": \"#EBF0F8\", \"linecolor\": \"#EBF0F8\", \"ticks\": \"\"}}, \"scene\": {\"xaxis\": {\"backgroundcolor\": \"white\", \"gridcolor\": \"#DFE8F3\", \"gridwidth\": 2, \"linecolor\": \"#EBF0F8\", \"showbackground\": true, \"ticks\": \"\", \"zerolinecolor\": \"#EBF0F8\"}, \"yaxis\": {\"backgroundcolor\": \"white\", \"gridcolor\": \"#DFE8F3\", \"gridwidth\": 2, \"linecolor\": \"#EBF0F8\", \"showbackground\": true, \"ticks\": \"\", \"zerolinecolor\": \"#EBF0F8\"}, \"zaxis\": {\"backgroundcolor\": \"white\", \"gridcolor\": \"#DFE8F3\", \"gridwidth\": 2, \"linecolor\": \"#EBF0F8\", \"showbackground\": true, \"ticks\": \"\", \"zerolinecolor\": \"#EBF0F8\"}}, \"shapedefaults\": {\"line\": {\"color\": \"#2a3f5f\"}}, \"ternary\": {\"aaxis\": {\"gridcolor\": \"#DFE8F3\", \"linecolor\": \"#A2B1C6\", \"ticks\": \"\"}, \"baxis\": {\"gridcolor\": \"#DFE8F3\", \"linecolor\": \"#A2B1C6\", \"ticks\": \"\"}, \"bgcolor\": \"white\", \"caxis\": {\"gridcolor\": \"#DFE8F3\", \"linecolor\": \"#A2B1C6\", \"ticks\": \"\"}}, \"title\": {\"x\": 0.05}, \"xaxis\": {\"automargin\": true, \"gridcolor\": \"#EBF0F8\", \"linecolor\": \"#EBF0F8\", \"ticks\": \"\", \"title\": {\"standoff\": 15}, \"zerolinecolor\": \"#EBF0F8\", \"zerolinewidth\": 2}, \"yaxis\": {\"automargin\": true, \"gridcolor\": \"#EBF0F8\", \"linecolor\": \"#EBF0F8\", \"ticks\": \"\", \"title\": {\"standoff\": 15}, \"zerolinecolor\": \"#EBF0F8\", \"zerolinewidth\": 2}}}, \"title\": {\"text\": \"Transit Trip Duration\"}, \"yaxis\": {\"title\": {\"text\": \"Minutes\"}}},\n",
       "                        {\"responsive\": true}\n",
       "                    ).then(function(){\n",
       "                            \n",
       "var gd = document.getElementById('6fa25846-be6f-4eaa-9204-fd977453dd58');\n",
       "var x = new MutationObserver(function (mutations, observer) {{\n",
       "        var display = window.getComputedStyle(gd).display;\n",
       "        if (!display || display === 'none') {{\n",
       "            console.log([gd, 'removed!']);\n",
       "            Plotly.purge(gd);\n",
       "            observer.disconnect();\n",
       "        }}\n",
       "}});\n",
       "\n",
       "// Listen for the removal of the full notebook cells\n",
       "var notebookContainer = gd.closest('#notebook-container');\n",
       "if (notebookContainer) {{\n",
       "    x.observe(notebookContainer, {childList: true});\n",
       "}}\n",
       "\n",
       "// Listen for the clearing of the current output cell\n",
       "var outputEl = gd.closest('.output');\n",
       "if (outputEl) {{\n",
       "    x.observe(outputEl, {childList: true});\n",
       "}}\n",
       "\n",
       "                        })\n",
       "                };\n",
       "                });\n",
       "            </script>\n",
       "        </div>"
      ]
     },
     "metadata": {},
     "output_type": "display_data"
    }
   ],
   "source": [
    "fig = go.Figure()\n",
    "\n",
    "for trip in trips_dfs:\n",
    "    \n",
    "    fig.add_trace(go.Box(\n",
    "        y = trip.trip_duration,\n",
    "        name = trip.trip_direction_text.values[0],\n",
    "        boxpoints = 'all',\n",
    "        jitter = 0.3\n",
    "    )\n",
    "    )\n",
    "\n",
    "fig.update_layout(\n",
    "    title = 'Transit Trip Duration',\n",
    "    yaxis_title = 'Minutes',\n",
    "    template = 'plotly_white',\n",
    "    showlegend = False\n",
    ")\n",
    "fig.show()"
   ]
  },
  {
   "cell_type": "markdown",
   "metadata": {},
   "source": [
    "We notice a couple things:\n",
    "1. Trips to gf are on average longer. The min and max are also longer!\n",
    "2. Trip times are discrete values from 47 - 70 minutes."
   ]
  },
  {
   "cell_type": "code",
   "execution_count": 306,
   "metadata": {},
   "outputs": [
    {
     "data": {
      "application/vnd.plotly.v1+json": {
       "config": {
        "plotlyServerURL": "https://plot.ly"
       },
       "data": [
        {
         "name": "Trip to gf",
         "type": "scatter",
         "x": [
          "2020-02-22T10:05:00",
          "2020-02-22T10:10:00",
          "2020-02-22T10:15:00",
          "2020-02-22T10:20:00",
          "2020-02-22T10:25:00",
          "2020-02-22T11:02:00",
          "2020-02-22T11:05:00",
          "2020-02-22T11:10:00",
          "2020-02-22T11:15:00",
          "2020-02-22T11:20:00",
          "2020-02-22T11:25:00",
          "2020-02-22T11:30:00",
          "2020-02-22T11:35:00",
          "2020-02-22T11:40:00",
          "2020-02-22T11:45:00",
          "2020-02-22T11:50:00",
          "2020-02-22T11:55:00",
          "2020-02-22T12:00:00",
          "2020-02-22T12:05:00",
          "2020-02-22T12:10:00",
          "2020-02-22T12:15:00",
          "2020-02-22T12:20:00",
          "2020-02-22T12:25:00",
          "2020-02-22T12:30:00",
          "2020-02-22T12:35:00",
          "2020-02-22T12:40:00",
          "2020-02-22T12:45:00",
          "2020-02-22T12:50:00",
          "2020-02-22T12:55:00",
          "2020-02-22T13:00:00",
          "2020-02-22T13:05:00",
          "2020-02-22T13:11:00",
          "2020-02-22T13:16:00",
          "2020-02-22T13:21:00",
          "2020-02-22T13:26:00",
          "2020-02-22T13:31:00",
          "2020-02-22T13:36:00",
          "2020-02-22T13:41:00",
          "2020-02-22T13:46:00",
          "2020-02-22T13:51:00",
          "2020-02-22T13:56:00",
          "2020-02-22T14:01:00",
          "2020-02-22T14:06:00",
          "2020-02-22T14:11:00",
          "2020-02-22T14:16:00",
          "2020-02-22T14:21:00",
          "2020-02-22T14:26:00",
          "2020-02-22T14:31:00",
          "2020-02-22T14:36:00",
          "2020-02-22T14:41:00",
          "2020-02-22T14:46:00",
          "2020-02-22T14:51:00",
          "2020-02-22T14:56:00",
          "2020-02-22T15:01:00",
          "2020-02-22T15:06:00",
          "2020-02-22T15:11:00",
          "2020-02-22T15:22:00",
          "2020-02-22T15:27:00",
          "2020-02-22T15:32:00",
          "2020-02-22T15:37:00",
          "2020-02-22T15:42:00",
          "2020-02-22T15:47:00",
          "2020-02-22T15:52:00",
          "2020-02-22T15:57:00",
          "2020-02-22T16:02:00",
          "2020-02-22T16:07:00",
          "2020-02-22T16:12:00",
          "2020-02-22T16:17:00",
          "2020-02-22T16:22:00",
          "2020-02-22T16:27:00",
          "2020-02-22T16:32:00",
          "2020-02-22T16:37:00",
          "2020-02-22T16:42:00",
          "2020-02-22T16:47:00",
          "2020-02-22T16:52:00",
          "2020-02-22T16:57:00",
          "2020-02-22T17:02:00",
          "2020-02-22T17:08:00",
          "2020-02-22T17:13:00",
          "2020-02-22T17:18:00",
          "2020-02-22T17:23:00",
          "2020-02-22T17:28:00",
          "2020-02-22T17:33:00",
          "2020-02-22T17:38:00",
          "2020-02-22T17:43:00",
          "2020-02-22T17:48:00",
          "2020-02-22T17:53:00",
          "2020-02-22T17:58:00",
          "2020-02-22T18:03:00",
          "2020-02-22T18:08:00",
          "2020-02-22T18:13:00",
          "2020-02-22T18:18:00",
          "2020-02-22T18:23:00",
          "2020-02-22T18:28:00",
          "2020-02-22T18:33:00",
          "2020-02-22T18:38:00",
          "2020-02-22T18:43:00",
          "2020-02-22T18:48:00",
          "2020-02-22T18:53:00",
          "2020-02-22T18:58:00",
          "2020-02-22T19:03:00",
          "2020-02-22T19:09:00",
          "2020-02-22T19:14:00",
          "2020-02-22T19:19:00",
          "2020-02-22T19:24:00",
          "2020-02-22T19:29:00",
          "2020-02-22T19:34:00",
          "2020-02-22T19:39:00",
          "2020-02-22T19:44:00",
          "2020-02-22T19:49:00",
          "2020-02-22T19:54:00",
          "2020-02-22T19:59:00",
          "2020-02-22T20:04:00",
          "2020-02-22T20:09:00",
          "2020-02-22T20:14:00",
          "2020-02-22T20:19:00",
          "2020-02-22T20:24:00",
          "2020-02-22T20:29:00",
          "2020-02-22T20:34:00",
          "2020-02-22T20:39:00",
          "2020-02-22T20:44:00",
          "2020-02-22T20:49:00",
          "2020-02-22T20:54:00",
          "2020-02-22T20:59:00",
          "2020-02-22T21:04:00",
          "2020-02-22T21:10:00",
          "2020-02-22T21:15:00",
          "2020-02-22T21:20:00",
          "2020-02-22T21:25:00",
          "2020-02-22T21:30:00",
          "2020-02-22T21:35:00",
          "2020-02-22T21:40:00",
          "2020-02-22T21:45:00",
          "2020-02-22T21:50:00",
          "2020-02-22T21:55:00",
          "2020-02-22T22:00:00",
          "2020-02-22T22:05:00",
          "2020-02-22T22:10:00",
          "2020-02-22T22:15:00",
          "2020-02-22T22:20:00",
          "2020-02-22T22:25:00",
          "2020-02-22T22:30:00",
          "2020-02-22T22:35:00",
          "2020-02-22T22:40:00",
          "2020-02-22T22:45:00",
          "2020-02-22T22:50:00",
          "2020-02-22T22:56:00",
          "2020-02-22T23:01:00",
          "2020-02-22T23:06:00",
          "2020-02-22T23:11:00",
          "2020-02-22T23:16:00",
          "2020-02-22T23:21:00",
          "2020-02-22T23:26:00",
          "2020-02-22T23:31:00",
          "2020-02-22T23:37:00",
          "2020-02-22T23:42:00",
          "2020-02-22T23:47:00",
          "2020-02-22T23:52:00",
          "2020-02-22T23:57:00",
          "2020-02-23T00:02:00",
          "2020-02-23T00:07:00",
          "2020-02-23T00:12:00",
          "2020-02-23T00:17:00",
          "2020-02-23T00:22:00",
          "2020-02-23T00:27:00",
          "2020-02-23T00:32:00",
          "2020-02-23T00:37:00",
          "2020-02-23T00:42:00",
          "2020-02-23T00:47:00",
          "2020-02-23T00:52:00",
          "2020-02-23T00:57:00",
          "2020-02-23T01:02:00",
          "2020-02-23T01:07:00",
          "2020-02-23T01:12:00",
          "2020-02-23T01:17:00",
          "2020-02-23T01:22:00",
          "2020-02-23T01:32:00",
          "2020-02-23T01:42:00",
          "2020-02-23T01:52:00",
          "2020-02-23T01:58:00",
          "2020-02-23T02:28:00",
          "2020-02-23T02:33:00",
          "2020-02-23T02:38:00",
          "2020-02-23T02:43:00",
          "2020-02-23T02:48:00",
          "2020-02-23T03:03:00",
          "2020-02-23T03:13:00",
          "2020-02-23T03:33:00",
          "2020-02-23T03:53:00",
          "2020-02-23T03:58:00",
          "2020-02-23T04:18:00",
          "2020-02-23T04:28:00",
          "2020-02-23T04:33:00",
          "2020-02-23T04:43:00",
          "2020-02-23T04:58:00",
          "2020-02-23T05:03:00",
          "2020-02-23T05:08:00",
          "2020-02-23T05:13:00",
          "2020-02-23T05:19:00",
          "2020-02-23T05:24:00",
          "2020-02-23T05:29:00",
          "2020-02-23T05:39:00",
          "2020-02-23T05:44:00",
          "2020-02-23T05:49:00",
          "2020-02-23T05:54:00",
          "2020-02-23T05:59:00",
          "2020-02-23T06:04:00",
          "2020-02-23T06:09:00",
          "2020-02-23T06:14:00",
          "2020-02-23T06:19:00",
          "2020-02-23T06:24:00",
          "2020-02-23T06:29:00",
          "2020-02-23T06:34:00",
          "2020-02-23T06:39:00",
          "2020-02-23T06:44:00",
          "2020-02-23T06:49:00",
          "2020-02-23T06:54:00",
          "2020-02-23T06:59:00",
          "2020-02-23T07:04:00",
          "2020-02-23T07:09:00",
          "2020-02-23T07:14:00",
          "2020-02-23T07:19:00",
          "2020-02-23T07:24:00",
          "2020-02-23T07:29:00",
          "2020-02-23T07:34:00",
          "2020-02-23T07:39:00",
          "2020-02-23T07:44:00",
          "2020-02-23T07:49:00",
          "2020-02-23T07:54:00",
          "2020-02-23T08:00:00",
          "2020-02-23T08:05:00",
          "2020-02-23T08:10:00",
          "2020-02-23T08:15:00",
          "2020-02-23T08:20:00",
          "2020-02-23T08:25:00",
          "2020-02-23T08:30:00",
          "2020-02-23T08:35:00",
          "2020-02-23T08:40:00",
          "2020-02-23T08:45:00",
          "2020-02-23T08:50:00",
          "2020-02-23T08:55:00",
          "2020-02-23T09:00:00",
          "2020-02-23T09:05:00",
          "2020-02-23T09:10:00",
          "2020-02-23T09:15:00",
          "2020-02-23T09:20:00",
          "2020-02-23T09:25:00",
          "2020-02-23T09:30:00",
          "2020-02-23T09:35:00",
          "2020-02-23T09:40:00"
         ],
         "y": [
          66,
          66,
          55,
          58,
          58,
          65,
          54,
          66,
          58,
          53,
          57,
          54,
          54,
          58,
          65,
          58,
          64,
          64,
          58,
          66,
          53,
          54,
          58,
          60,
          60,
          63,
          63,
          63,
          62,
          64,
          52,
          66,
          52,
          55,
          60,
          60,
          53,
          64,
          64,
          64,
          62,
          64,
          64,
          56,
          53,
          54,
          63,
          56,
          58,
          63,
          63,
          64,
          64,
          64,
          66,
          66,
          52,
          58,
          58,
          60,
          60,
          55,
          60,
          64,
          64,
          66,
          66,
          53,
          55,
          70,
          63,
          64,
          58,
          58,
          62,
          64,
          65,
          56,
          60,
          61,
          53,
          55,
          62,
          58,
          54,
          51,
          51,
          54,
          65,
          50,
          65,
          52,
          52,
          53,
          50,
          60,
          55,
          56,
          67,
          63,
          52,
          68,
          51,
          52,
          62,
          53,
          56,
          53,
          55,
          54,
          53,
          55,
          53,
          68,
          66,
          56,
          51,
          53,
          51,
          51,
          51,
          50,
          52,
          56,
          50,
          82,
          50,
          49,
          49,
          51,
          57,
          64,
          51,
          50,
          57,
          60,
          50,
          50,
          61,
          72,
          56,
          51,
          56,
          61,
          61,
          66,
          50,
          51,
          44,
          71,
          61,
          61,
          58,
          47,
          47,
          58,
          63,
          63,
          64,
          57,
          58,
          65,
          72,
          70,
          58,
          57,
          114,
          70,
          48,
          57,
          70,
          61,
          61,
          55,
          75,
          85,
          54,
          65,
          83,
          72,
          65,
          66,
          72,
          49,
          49,
          49,
          63,
          64,
          45,
          66,
          66,
          49,
          49,
          66,
          66,
          58,
          57,
          57,
          57,
          57,
          57,
          67,
          63,
          65,
          65,
          50,
          51,
          64,
          61,
          67,
          68,
          69,
          59,
          67,
          65,
          70,
          48,
          48,
          53,
          56,
          63,
          63,
          63,
          64,
          64,
          65,
          67,
          58,
          52,
          52,
          58,
          58,
          63,
          63,
          50,
          50,
          50,
          50,
          68,
          65,
          67,
          70,
          51,
          54,
          66,
          71,
          62,
          65,
          63,
          62
         ]
        },
        {
         "name": "Trip to me",
         "type": "scatter",
         "x": [
          "2020-02-22T10:05:00",
          "2020-02-22T10:10:00",
          "2020-02-22T10:15:00",
          "2020-02-22T10:20:00",
          "2020-02-22T10:25:00",
          "2020-02-22T11:02:00",
          "2020-02-22T11:05:00",
          "2020-02-22T11:10:00",
          "2020-02-22T11:15:00",
          "2020-02-22T11:20:00",
          "2020-02-22T11:25:00",
          "2020-02-22T11:30:00",
          "2020-02-22T11:35:00",
          "2020-02-22T11:40:00",
          "2020-02-22T11:45:00",
          "2020-02-22T11:50:00",
          "2020-02-22T11:55:00",
          "2020-02-22T12:00:00",
          "2020-02-22T12:05:00",
          "2020-02-22T12:10:00",
          "2020-02-22T12:15:00",
          "2020-02-22T12:20:00",
          "2020-02-22T12:25:00",
          "2020-02-22T12:30:00",
          "2020-02-22T12:35:00",
          "2020-02-22T12:40:00",
          "2020-02-22T12:45:00",
          "2020-02-22T12:50:00",
          "2020-02-22T12:55:00",
          "2020-02-22T13:00:00",
          "2020-02-22T13:05:00",
          "2020-02-22T13:11:00",
          "2020-02-22T13:16:00",
          "2020-02-22T13:21:00",
          "2020-02-22T13:26:00",
          "2020-02-22T13:31:00",
          "2020-02-22T13:36:00",
          "2020-02-22T13:41:00",
          "2020-02-22T13:46:00",
          "2020-02-22T13:51:00",
          "2020-02-22T13:56:00",
          "2020-02-22T14:01:00",
          "2020-02-22T14:06:00",
          "2020-02-22T14:11:00",
          "2020-02-22T14:16:00",
          "2020-02-22T14:21:00",
          "2020-02-22T14:26:00",
          "2020-02-22T14:31:00",
          "2020-02-22T14:36:00",
          "2020-02-22T14:41:00",
          "2020-02-22T14:46:00",
          "2020-02-22T14:51:00",
          "2020-02-22T14:56:00",
          "2020-02-22T15:01:00",
          "2020-02-22T15:06:00",
          "2020-02-22T15:11:00",
          "2020-02-22T15:22:00",
          "2020-02-22T15:27:00",
          "2020-02-22T15:32:00",
          "2020-02-22T15:37:00",
          "2020-02-22T15:42:00",
          "2020-02-22T15:47:00",
          "2020-02-22T15:52:00",
          "2020-02-22T15:57:00",
          "2020-02-22T16:02:00",
          "2020-02-22T16:07:00",
          "2020-02-22T16:12:00",
          "2020-02-22T16:17:00",
          "2020-02-22T16:22:00",
          "2020-02-22T16:27:00",
          "2020-02-22T16:32:00",
          "2020-02-22T16:37:00",
          "2020-02-22T16:42:00",
          "2020-02-22T16:47:00",
          "2020-02-22T16:52:00",
          "2020-02-22T16:57:00",
          "2020-02-22T17:02:00",
          "2020-02-22T17:08:00",
          "2020-02-22T17:13:00",
          "2020-02-22T17:18:00",
          "2020-02-22T17:23:00",
          "2020-02-22T17:28:00",
          "2020-02-22T17:33:00",
          "2020-02-22T17:38:00",
          "2020-02-22T17:43:00",
          "2020-02-22T17:48:00",
          "2020-02-22T17:53:00",
          "2020-02-22T17:58:00",
          "2020-02-22T18:03:00",
          "2020-02-22T18:08:00",
          "2020-02-22T18:13:00",
          "2020-02-22T18:18:00",
          "2020-02-22T18:23:00",
          "2020-02-22T18:28:00",
          "2020-02-22T18:33:00",
          "2020-02-22T18:38:00",
          "2020-02-22T18:43:00",
          "2020-02-22T18:48:00",
          "2020-02-22T18:53:00",
          "2020-02-22T18:58:00",
          "2020-02-22T19:03:00",
          "2020-02-22T19:09:00",
          "2020-02-22T19:14:00",
          "2020-02-22T19:19:00",
          "2020-02-22T19:24:00",
          "2020-02-22T19:29:00",
          "2020-02-22T19:34:00",
          "2020-02-22T19:39:00",
          "2020-02-22T19:44:00",
          "2020-02-22T19:49:00",
          "2020-02-22T19:54:00",
          "2020-02-22T19:59:00",
          "2020-02-22T20:04:00",
          "2020-02-22T20:09:00",
          "2020-02-22T20:14:00",
          "2020-02-22T20:19:00",
          "2020-02-22T20:24:00",
          "2020-02-22T20:29:00",
          "2020-02-22T20:34:00",
          "2020-02-22T20:39:00",
          "2020-02-22T20:44:00",
          "2020-02-22T20:49:00",
          "2020-02-22T20:54:00",
          "2020-02-22T20:59:00",
          "2020-02-22T21:04:00",
          "2020-02-22T21:10:00",
          "2020-02-22T21:15:00",
          "2020-02-22T21:20:00",
          "2020-02-22T21:25:00",
          "2020-02-22T21:30:00",
          "2020-02-22T21:35:00",
          "2020-02-22T21:40:00",
          "2020-02-22T21:45:00",
          "2020-02-22T21:50:00",
          "2020-02-22T21:55:00",
          "2020-02-22T22:00:00",
          "2020-02-22T22:05:00",
          "2020-02-22T22:10:00",
          "2020-02-22T22:15:00",
          "2020-02-22T22:20:00",
          "2020-02-22T22:25:00",
          "2020-02-22T22:30:00",
          "2020-02-22T22:35:00",
          "2020-02-22T22:40:00",
          "2020-02-22T22:45:00",
          "2020-02-22T22:50:00",
          "2020-02-22T22:56:00",
          "2020-02-22T23:01:00",
          "2020-02-22T23:06:00",
          "2020-02-22T23:11:00",
          "2020-02-22T23:16:00",
          "2020-02-22T23:21:00",
          "2020-02-22T23:26:00",
          "2020-02-22T23:31:00",
          "2020-02-22T23:37:00",
          "2020-02-22T23:42:00",
          "2020-02-22T23:47:00",
          "2020-02-22T23:52:00",
          "2020-02-22T23:57:00",
          "2020-02-23T00:02:00",
          "2020-02-23T00:07:00",
          "2020-02-23T00:12:00",
          "2020-02-23T00:17:00",
          "2020-02-23T00:22:00",
          "2020-02-23T00:27:00",
          "2020-02-23T00:32:00",
          "2020-02-23T00:37:00",
          "2020-02-23T00:42:00",
          "2020-02-23T00:47:00",
          "2020-02-23T00:52:00",
          "2020-02-23T00:57:00",
          "2020-02-23T01:02:00",
          "2020-02-23T01:07:00",
          "2020-02-23T01:12:00",
          "2020-02-23T01:17:00",
          "2020-02-23T01:22:00",
          "2020-02-23T01:32:00",
          "2020-02-23T01:42:00",
          "2020-02-23T01:52:00",
          "2020-02-23T01:58:00",
          "2020-02-23T02:28:00",
          "2020-02-23T02:33:00",
          "2020-02-23T02:38:00",
          "2020-02-23T02:43:00",
          "2020-02-23T02:48:00",
          "2020-02-23T03:03:00",
          "2020-02-23T03:13:00",
          "2020-02-23T03:33:00",
          "2020-02-23T03:53:00",
          "2020-02-23T03:58:00",
          "2020-02-23T04:18:00",
          "2020-02-23T04:28:00",
          "2020-02-23T04:33:00",
          "2020-02-23T04:43:00",
          "2020-02-23T04:58:00",
          "2020-02-23T05:03:00",
          "2020-02-23T05:08:00",
          "2020-02-23T05:13:00",
          "2020-02-23T05:19:00",
          "2020-02-23T05:24:00",
          "2020-02-23T05:29:00",
          "2020-02-23T05:39:00",
          "2020-02-23T05:44:00",
          "2020-02-23T05:49:00",
          "2020-02-23T05:54:00",
          "2020-02-23T05:59:00",
          "2020-02-23T06:04:00",
          "2020-02-23T06:09:00",
          "2020-02-23T06:14:00",
          "2020-02-23T06:19:00",
          "2020-02-23T06:24:00",
          "2020-02-23T06:29:00",
          "2020-02-23T06:34:00",
          "2020-02-23T06:39:00",
          "2020-02-23T06:44:00",
          "2020-02-23T06:49:00",
          "2020-02-23T06:54:00",
          "2020-02-23T06:59:00",
          "2020-02-23T07:04:00",
          "2020-02-23T07:09:00",
          "2020-02-23T07:14:00",
          "2020-02-23T07:19:00",
          "2020-02-23T07:24:00",
          "2020-02-23T07:29:00",
          "2020-02-23T07:34:00",
          "2020-02-23T07:39:00",
          "2020-02-23T07:44:00",
          "2020-02-23T07:49:00",
          "2020-02-23T07:54:00",
          "2020-02-23T08:00:00",
          "2020-02-23T08:05:00",
          "2020-02-23T08:10:00",
          "2020-02-23T08:15:00",
          "2020-02-23T08:20:00",
          "2020-02-23T08:25:00",
          "2020-02-23T08:30:00",
          "2020-02-23T08:35:00",
          "2020-02-23T08:40:00",
          "2020-02-23T08:45:00",
          "2020-02-23T08:50:00",
          "2020-02-23T08:55:00",
          "2020-02-23T09:00:00",
          "2020-02-23T09:05:00",
          "2020-02-23T09:10:00",
          "2020-02-23T09:15:00",
          "2020-02-23T09:20:00",
          "2020-02-23T09:25:00",
          "2020-02-23T09:30:00",
          "2020-02-23T09:35:00",
          "2020-02-23T09:40:00"
         ],
         "y": [
          55,
          58,
          58,
          57,
          57,
          52,
          52,
          58,
          55,
          55,
          52,
          57,
          54,
          52,
          53,
          53,
          53,
          61,
          61,
          58,
          55,
          56,
          52,
          58,
          56,
          54,
          65,
          65,
          65,
          50,
          51,
          58,
          58,
          58,
          53,
          58,
          54,
          54,
          53,
          53,
          55,
          61,
          52,
          58,
          58,
          57,
          52,
          53,
          54,
          56,
          54,
          52,
          57,
          50,
          51,
          58,
          53,
          56,
          53,
          55,
          58,
          53,
          54,
          55,
          57,
          53,
          56,
          53,
          57,
          57,
          57,
          54,
          54,
          52,
          52,
          53,
          54,
          51,
          58,
          58,
          53,
          57,
          56,
          47,
          47,
          54,
          52,
          54,
          51,
          53,
          55,
          55,
          54,
          52,
          56,
          51,
          50,
          52,
          51,
          54,
          50,
          50,
          53,
          54,
          49,
          51,
          55,
          53,
          52,
          53,
          53,
          52,
          56,
          56,
          50,
          50,
          51,
          48,
          49,
          60,
          61,
          52,
          49,
          50,
          52,
          57,
          49,
          48,
          53,
          48,
          48,
          46,
          47,
          60,
          58,
          58,
          50,
          49,
          67,
          68,
          53,
          53,
          53,
          53,
          54,
          52,
          53,
          56,
          58,
          56,
          55,
          54,
          45,
          47,
          54,
          58,
          51,
          54,
          52,
          67,
          67,
          61,
          54,
          62,
          44,
          45,
          46,
          76,
          53,
          53,
          56,
          45,
          46,
          47,
          106,
          101,
          105,
          109,
          60,
          46,
          52,
          52,
          84,
          87,
          62,
          45,
          45,
          62,
          42,
          42,
          60,
          63,
          62,
          48,
          64,
          59,
          59,
          59,
          57,
          57,
          57,
          59,
          59,
          68,
          62,
          78,
          84,
          75,
          55,
          51,
          53,
          68,
          66,
          56,
          54,
          56,
          56,
          51,
          51,
          51,
          49,
          57,
          55,
          76,
          49,
          48,
          48,
          60,
          64,
          61,
          58,
          54,
          60,
          61,
          56,
          52,
          58,
          50,
          50,
          59,
          59,
          59,
          55,
          55,
          54,
          54,
          55,
          62,
          62,
          52
         ]
        }
       ],
       "layout": {
        "template": {
         "data": {
          "bar": [
           {
            "error_x": {
             "color": "#2a3f5f"
            },
            "error_y": {
             "color": "#2a3f5f"
            },
            "marker": {
             "line": {
              "color": "white",
              "width": 0.5
             }
            },
            "type": "bar"
           }
          ],
          "barpolar": [
           {
            "marker": {
             "line": {
              "color": "white",
              "width": 0.5
             }
            },
            "type": "barpolar"
           }
          ],
          "carpet": [
           {
            "aaxis": {
             "endlinecolor": "#2a3f5f",
             "gridcolor": "#C8D4E3",
             "linecolor": "#C8D4E3",
             "minorgridcolor": "#C8D4E3",
             "startlinecolor": "#2a3f5f"
            },
            "baxis": {
             "endlinecolor": "#2a3f5f",
             "gridcolor": "#C8D4E3",
             "linecolor": "#C8D4E3",
             "minorgridcolor": "#C8D4E3",
             "startlinecolor": "#2a3f5f"
            },
            "type": "carpet"
           }
          ],
          "choropleth": [
           {
            "colorbar": {
             "outlinewidth": 0,
             "ticks": ""
            },
            "type": "choropleth"
           }
          ],
          "contour": [
           {
            "colorbar": {
             "outlinewidth": 0,
             "ticks": ""
            },
            "colorscale": [
             [
              0,
              "#0d0887"
             ],
             [
              0.1111111111111111,
              "#46039f"
             ],
             [
              0.2222222222222222,
              "#7201a8"
             ],
             [
              0.3333333333333333,
              "#9c179e"
             ],
             [
              0.4444444444444444,
              "#bd3786"
             ],
             [
              0.5555555555555556,
              "#d8576b"
             ],
             [
              0.6666666666666666,
              "#ed7953"
             ],
             [
              0.7777777777777778,
              "#fb9f3a"
             ],
             [
              0.8888888888888888,
              "#fdca26"
             ],
             [
              1,
              "#f0f921"
             ]
            ],
            "type": "contour"
           }
          ],
          "contourcarpet": [
           {
            "colorbar": {
             "outlinewidth": 0,
             "ticks": ""
            },
            "type": "contourcarpet"
           }
          ],
          "heatmap": [
           {
            "colorbar": {
             "outlinewidth": 0,
             "ticks": ""
            },
            "colorscale": [
             [
              0,
              "#0d0887"
             ],
             [
              0.1111111111111111,
              "#46039f"
             ],
             [
              0.2222222222222222,
              "#7201a8"
             ],
             [
              0.3333333333333333,
              "#9c179e"
             ],
             [
              0.4444444444444444,
              "#bd3786"
             ],
             [
              0.5555555555555556,
              "#d8576b"
             ],
             [
              0.6666666666666666,
              "#ed7953"
             ],
             [
              0.7777777777777778,
              "#fb9f3a"
             ],
             [
              0.8888888888888888,
              "#fdca26"
             ],
             [
              1,
              "#f0f921"
             ]
            ],
            "type": "heatmap"
           }
          ],
          "heatmapgl": [
           {
            "colorbar": {
             "outlinewidth": 0,
             "ticks": ""
            },
            "colorscale": [
             [
              0,
              "#0d0887"
             ],
             [
              0.1111111111111111,
              "#46039f"
             ],
             [
              0.2222222222222222,
              "#7201a8"
             ],
             [
              0.3333333333333333,
              "#9c179e"
             ],
             [
              0.4444444444444444,
              "#bd3786"
             ],
             [
              0.5555555555555556,
              "#d8576b"
             ],
             [
              0.6666666666666666,
              "#ed7953"
             ],
             [
              0.7777777777777778,
              "#fb9f3a"
             ],
             [
              0.8888888888888888,
              "#fdca26"
             ],
             [
              1,
              "#f0f921"
             ]
            ],
            "type": "heatmapgl"
           }
          ],
          "histogram": [
           {
            "marker": {
             "colorbar": {
              "outlinewidth": 0,
              "ticks": ""
             }
            },
            "type": "histogram"
           }
          ],
          "histogram2d": [
           {
            "colorbar": {
             "outlinewidth": 0,
             "ticks": ""
            },
            "colorscale": [
             [
              0,
              "#0d0887"
             ],
             [
              0.1111111111111111,
              "#46039f"
             ],
             [
              0.2222222222222222,
              "#7201a8"
             ],
             [
              0.3333333333333333,
              "#9c179e"
             ],
             [
              0.4444444444444444,
              "#bd3786"
             ],
             [
              0.5555555555555556,
              "#d8576b"
             ],
             [
              0.6666666666666666,
              "#ed7953"
             ],
             [
              0.7777777777777778,
              "#fb9f3a"
             ],
             [
              0.8888888888888888,
              "#fdca26"
             ],
             [
              1,
              "#f0f921"
             ]
            ],
            "type": "histogram2d"
           }
          ],
          "histogram2dcontour": [
           {
            "colorbar": {
             "outlinewidth": 0,
             "ticks": ""
            },
            "colorscale": [
             [
              0,
              "#0d0887"
             ],
             [
              0.1111111111111111,
              "#46039f"
             ],
             [
              0.2222222222222222,
              "#7201a8"
             ],
             [
              0.3333333333333333,
              "#9c179e"
             ],
             [
              0.4444444444444444,
              "#bd3786"
             ],
             [
              0.5555555555555556,
              "#d8576b"
             ],
             [
              0.6666666666666666,
              "#ed7953"
             ],
             [
              0.7777777777777778,
              "#fb9f3a"
             ],
             [
              0.8888888888888888,
              "#fdca26"
             ],
             [
              1,
              "#f0f921"
             ]
            ],
            "type": "histogram2dcontour"
           }
          ],
          "mesh3d": [
           {
            "colorbar": {
             "outlinewidth": 0,
             "ticks": ""
            },
            "type": "mesh3d"
           }
          ],
          "parcoords": [
           {
            "line": {
             "colorbar": {
              "outlinewidth": 0,
              "ticks": ""
             }
            },
            "type": "parcoords"
           }
          ],
          "pie": [
           {
            "automargin": true,
            "type": "pie"
           }
          ],
          "scatter": [
           {
            "marker": {
             "colorbar": {
              "outlinewidth": 0,
              "ticks": ""
             }
            },
            "type": "scatter"
           }
          ],
          "scatter3d": [
           {
            "line": {
             "colorbar": {
              "outlinewidth": 0,
              "ticks": ""
             }
            },
            "marker": {
             "colorbar": {
              "outlinewidth": 0,
              "ticks": ""
             }
            },
            "type": "scatter3d"
           }
          ],
          "scattercarpet": [
           {
            "marker": {
             "colorbar": {
              "outlinewidth": 0,
              "ticks": ""
             }
            },
            "type": "scattercarpet"
           }
          ],
          "scattergeo": [
           {
            "marker": {
             "colorbar": {
              "outlinewidth": 0,
              "ticks": ""
             }
            },
            "type": "scattergeo"
           }
          ],
          "scattergl": [
           {
            "marker": {
             "colorbar": {
              "outlinewidth": 0,
              "ticks": ""
             }
            },
            "type": "scattergl"
           }
          ],
          "scattermapbox": [
           {
            "marker": {
             "colorbar": {
              "outlinewidth": 0,
              "ticks": ""
             }
            },
            "type": "scattermapbox"
           }
          ],
          "scatterpolar": [
           {
            "marker": {
             "colorbar": {
              "outlinewidth": 0,
              "ticks": ""
             }
            },
            "type": "scatterpolar"
           }
          ],
          "scatterpolargl": [
           {
            "marker": {
             "colorbar": {
              "outlinewidth": 0,
              "ticks": ""
             }
            },
            "type": "scatterpolargl"
           }
          ],
          "scatterternary": [
           {
            "marker": {
             "colorbar": {
              "outlinewidth": 0,
              "ticks": ""
             }
            },
            "type": "scatterternary"
           }
          ],
          "surface": [
           {
            "colorbar": {
             "outlinewidth": 0,
             "ticks": ""
            },
            "colorscale": [
             [
              0,
              "#0d0887"
             ],
             [
              0.1111111111111111,
              "#46039f"
             ],
             [
              0.2222222222222222,
              "#7201a8"
             ],
             [
              0.3333333333333333,
              "#9c179e"
             ],
             [
              0.4444444444444444,
              "#bd3786"
             ],
             [
              0.5555555555555556,
              "#d8576b"
             ],
             [
              0.6666666666666666,
              "#ed7953"
             ],
             [
              0.7777777777777778,
              "#fb9f3a"
             ],
             [
              0.8888888888888888,
              "#fdca26"
             ],
             [
              1,
              "#f0f921"
             ]
            ],
            "type": "surface"
           }
          ],
          "table": [
           {
            "cells": {
             "fill": {
              "color": "#EBF0F8"
             },
             "line": {
              "color": "white"
             }
            },
            "header": {
             "fill": {
              "color": "#C8D4E3"
             },
             "line": {
              "color": "white"
             }
            },
            "type": "table"
           }
          ]
         },
         "layout": {
          "annotationdefaults": {
           "arrowcolor": "#2a3f5f",
           "arrowhead": 0,
           "arrowwidth": 1
          },
          "coloraxis": {
           "colorbar": {
            "outlinewidth": 0,
            "ticks": ""
           }
          },
          "colorscale": {
           "diverging": [
            [
             0,
             "#8e0152"
            ],
            [
             0.1,
             "#c51b7d"
            ],
            [
             0.2,
             "#de77ae"
            ],
            [
             0.3,
             "#f1b6da"
            ],
            [
             0.4,
             "#fde0ef"
            ],
            [
             0.5,
             "#f7f7f7"
            ],
            [
             0.6,
             "#e6f5d0"
            ],
            [
             0.7,
             "#b8e186"
            ],
            [
             0.8,
             "#7fbc41"
            ],
            [
             0.9,
             "#4d9221"
            ],
            [
             1,
             "#276419"
            ]
           ],
           "sequential": [
            [
             0,
             "#0d0887"
            ],
            [
             0.1111111111111111,
             "#46039f"
            ],
            [
             0.2222222222222222,
             "#7201a8"
            ],
            [
             0.3333333333333333,
             "#9c179e"
            ],
            [
             0.4444444444444444,
             "#bd3786"
            ],
            [
             0.5555555555555556,
             "#d8576b"
            ],
            [
             0.6666666666666666,
             "#ed7953"
            ],
            [
             0.7777777777777778,
             "#fb9f3a"
            ],
            [
             0.8888888888888888,
             "#fdca26"
            ],
            [
             1,
             "#f0f921"
            ]
           ],
           "sequentialminus": [
            [
             0,
             "#0d0887"
            ],
            [
             0.1111111111111111,
             "#46039f"
            ],
            [
             0.2222222222222222,
             "#7201a8"
            ],
            [
             0.3333333333333333,
             "#9c179e"
            ],
            [
             0.4444444444444444,
             "#bd3786"
            ],
            [
             0.5555555555555556,
             "#d8576b"
            ],
            [
             0.6666666666666666,
             "#ed7953"
            ],
            [
             0.7777777777777778,
             "#fb9f3a"
            ],
            [
             0.8888888888888888,
             "#fdca26"
            ],
            [
             1,
             "#f0f921"
            ]
           ]
          },
          "colorway": [
           "#636efa",
           "#EF553B",
           "#00cc96",
           "#ab63fa",
           "#FFA15A",
           "#19d3f3",
           "#FF6692",
           "#B6E880",
           "#FF97FF",
           "#FECB52"
          ],
          "font": {
           "color": "#2a3f5f"
          },
          "geo": {
           "bgcolor": "white",
           "lakecolor": "white",
           "landcolor": "white",
           "showlakes": true,
           "showland": true,
           "subunitcolor": "#C8D4E3"
          },
          "hoverlabel": {
           "align": "left"
          },
          "hovermode": "closest",
          "mapbox": {
           "style": "light"
          },
          "paper_bgcolor": "white",
          "plot_bgcolor": "white",
          "polar": {
           "angularaxis": {
            "gridcolor": "#EBF0F8",
            "linecolor": "#EBF0F8",
            "ticks": ""
           },
           "bgcolor": "white",
           "radialaxis": {
            "gridcolor": "#EBF0F8",
            "linecolor": "#EBF0F8",
            "ticks": ""
           }
          },
          "scene": {
           "xaxis": {
            "backgroundcolor": "white",
            "gridcolor": "#DFE8F3",
            "gridwidth": 2,
            "linecolor": "#EBF0F8",
            "showbackground": true,
            "ticks": "",
            "zerolinecolor": "#EBF0F8"
           },
           "yaxis": {
            "backgroundcolor": "white",
            "gridcolor": "#DFE8F3",
            "gridwidth": 2,
            "linecolor": "#EBF0F8",
            "showbackground": true,
            "ticks": "",
            "zerolinecolor": "#EBF0F8"
           },
           "zaxis": {
            "backgroundcolor": "white",
            "gridcolor": "#DFE8F3",
            "gridwidth": 2,
            "linecolor": "#EBF0F8",
            "showbackground": true,
            "ticks": "",
            "zerolinecolor": "#EBF0F8"
           }
          },
          "shapedefaults": {
           "line": {
            "color": "#2a3f5f"
           }
          },
          "ternary": {
           "aaxis": {
            "gridcolor": "#DFE8F3",
            "linecolor": "#A2B1C6",
            "ticks": ""
           },
           "baxis": {
            "gridcolor": "#DFE8F3",
            "linecolor": "#A2B1C6",
            "ticks": ""
           },
           "bgcolor": "white",
           "caxis": {
            "gridcolor": "#DFE8F3",
            "linecolor": "#A2B1C6",
            "ticks": ""
           }
          },
          "title": {
           "x": 0.05
          },
          "xaxis": {
           "automargin": true,
           "gridcolor": "#EBF0F8",
           "linecolor": "#EBF0F8",
           "ticks": "",
           "title": {
            "standoff": 15
           },
           "zerolinecolor": "#EBF0F8",
           "zerolinewidth": 2
          },
          "yaxis": {
           "automargin": true,
           "gridcolor": "#EBF0F8",
           "linecolor": "#EBF0F8",
           "ticks": "",
           "title": {
            "standoff": 15
           },
           "zerolinecolor": "#EBF0F8",
           "zerolinewidth": 2
          }
         }
        },
        "title": {
         "text": "Transit Trip Duration"
        },
        "xaxis": {
         "title": {
          "text": "Departure Time"
         }
        },
        "yaxis": {
         "title": {
          "text": "Minutes"
         }
        }
       }
      },
      "text/html": [
       "<div>\n",
       "        \n",
       "        \n",
       "            <div id=\"297f7f79-2f51-4930-b2c9-4eba537a7bff\" class=\"plotly-graph-div\" style=\"height:525px; width:100%;\"></div>\n",
       "            <script type=\"text/javascript\">\n",
       "                require([\"plotly\"], function(Plotly) {\n",
       "                    window.PLOTLYENV=window.PLOTLYENV || {};\n",
       "                    \n",
       "                if (document.getElementById(\"297f7f79-2f51-4930-b2c9-4eba537a7bff\")) {\n",
       "                    Plotly.newPlot(\n",
       "                        '297f7f79-2f51-4930-b2c9-4eba537a7bff',\n",
       "                        [{\"name\": \"Trip to gf\", \"type\": \"scatter\", \"x\": [\"2020-02-22T10:05:00\", \"2020-02-22T10:10:00\", \"2020-02-22T10:15:00\", \"2020-02-22T10:20:00\", \"2020-02-22T10:25:00\", \"2020-02-22T11:02:00\", \"2020-02-22T11:05:00\", \"2020-02-22T11:10:00\", \"2020-02-22T11:15:00\", \"2020-02-22T11:20:00\", \"2020-02-22T11:25:00\", \"2020-02-22T11:30:00\", \"2020-02-22T11:35:00\", \"2020-02-22T11:40:00\", \"2020-02-22T11:45:00\", \"2020-02-22T11:50:00\", \"2020-02-22T11:55:00\", \"2020-02-22T12:00:00\", \"2020-02-22T12:05:00\", \"2020-02-22T12:10:00\", \"2020-02-22T12:15:00\", \"2020-02-22T12:20:00\", \"2020-02-22T12:25:00\", \"2020-02-22T12:30:00\", \"2020-02-22T12:35:00\", \"2020-02-22T12:40:00\", \"2020-02-22T12:45:00\", \"2020-02-22T12:50:00\", \"2020-02-22T12:55:00\", \"2020-02-22T13:00:00\", \"2020-02-22T13:05:00\", \"2020-02-22T13:11:00\", \"2020-02-22T13:16:00\", \"2020-02-22T13:21:00\", \"2020-02-22T13:26:00\", \"2020-02-22T13:31:00\", \"2020-02-22T13:36:00\", \"2020-02-22T13:41:00\", \"2020-02-22T13:46:00\", \"2020-02-22T13:51:00\", \"2020-02-22T13:56:00\", \"2020-02-22T14:01:00\", \"2020-02-22T14:06:00\", \"2020-02-22T14:11:00\", \"2020-02-22T14:16:00\", \"2020-02-22T14:21:00\", \"2020-02-22T14:26:00\", \"2020-02-22T14:31:00\", \"2020-02-22T14:36:00\", \"2020-02-22T14:41:00\", \"2020-02-22T14:46:00\", \"2020-02-22T14:51:00\", \"2020-02-22T14:56:00\", \"2020-02-22T15:01:00\", \"2020-02-22T15:06:00\", \"2020-02-22T15:11:00\", \"2020-02-22T15:22:00\", \"2020-02-22T15:27:00\", \"2020-02-22T15:32:00\", \"2020-02-22T15:37:00\", \"2020-02-22T15:42:00\", \"2020-02-22T15:47:00\", \"2020-02-22T15:52:00\", \"2020-02-22T15:57:00\", \"2020-02-22T16:02:00\", \"2020-02-22T16:07:00\", \"2020-02-22T16:12:00\", \"2020-02-22T16:17:00\", \"2020-02-22T16:22:00\", \"2020-02-22T16:27:00\", \"2020-02-22T16:32:00\", \"2020-02-22T16:37:00\", \"2020-02-22T16:42:00\", \"2020-02-22T16:47:00\", \"2020-02-22T16:52:00\", \"2020-02-22T16:57:00\", \"2020-02-22T17:02:00\", \"2020-02-22T17:08:00\", \"2020-02-22T17:13:00\", \"2020-02-22T17:18:00\", \"2020-02-22T17:23:00\", \"2020-02-22T17:28:00\", \"2020-02-22T17:33:00\", \"2020-02-22T17:38:00\", \"2020-02-22T17:43:00\", \"2020-02-22T17:48:00\", \"2020-02-22T17:53:00\", \"2020-02-22T17:58:00\", \"2020-02-22T18:03:00\", \"2020-02-22T18:08:00\", \"2020-02-22T18:13:00\", \"2020-02-22T18:18:00\", \"2020-02-22T18:23:00\", \"2020-02-22T18:28:00\", \"2020-02-22T18:33:00\", \"2020-02-22T18:38:00\", \"2020-02-22T18:43:00\", \"2020-02-22T18:48:00\", \"2020-02-22T18:53:00\", \"2020-02-22T18:58:00\", \"2020-02-22T19:03:00\", \"2020-02-22T19:09:00\", \"2020-02-22T19:14:00\", \"2020-02-22T19:19:00\", \"2020-02-22T19:24:00\", \"2020-02-22T19:29:00\", \"2020-02-22T19:34:00\", \"2020-02-22T19:39:00\", \"2020-02-22T19:44:00\", \"2020-02-22T19:49:00\", \"2020-02-22T19:54:00\", \"2020-02-22T19:59:00\", \"2020-02-22T20:04:00\", \"2020-02-22T20:09:00\", \"2020-02-22T20:14:00\", \"2020-02-22T20:19:00\", \"2020-02-22T20:24:00\", \"2020-02-22T20:29:00\", \"2020-02-22T20:34:00\", \"2020-02-22T20:39:00\", \"2020-02-22T20:44:00\", \"2020-02-22T20:49:00\", \"2020-02-22T20:54:00\", \"2020-02-22T20:59:00\", \"2020-02-22T21:04:00\", \"2020-02-22T21:10:00\", \"2020-02-22T21:15:00\", \"2020-02-22T21:20:00\", \"2020-02-22T21:25:00\", \"2020-02-22T21:30:00\", \"2020-02-22T21:35:00\", \"2020-02-22T21:40:00\", \"2020-02-22T21:45:00\", \"2020-02-22T21:50:00\", \"2020-02-22T21:55:00\", \"2020-02-22T22:00:00\", \"2020-02-22T22:05:00\", \"2020-02-22T22:10:00\", \"2020-02-22T22:15:00\", \"2020-02-22T22:20:00\", \"2020-02-22T22:25:00\", \"2020-02-22T22:30:00\", \"2020-02-22T22:35:00\", \"2020-02-22T22:40:00\", \"2020-02-22T22:45:00\", \"2020-02-22T22:50:00\", \"2020-02-22T22:56:00\", \"2020-02-22T23:01:00\", \"2020-02-22T23:06:00\", \"2020-02-22T23:11:00\", \"2020-02-22T23:16:00\", \"2020-02-22T23:21:00\", \"2020-02-22T23:26:00\", \"2020-02-22T23:31:00\", \"2020-02-22T23:37:00\", \"2020-02-22T23:42:00\", \"2020-02-22T23:47:00\", \"2020-02-22T23:52:00\", \"2020-02-22T23:57:00\", \"2020-02-23T00:02:00\", \"2020-02-23T00:07:00\", \"2020-02-23T00:12:00\", \"2020-02-23T00:17:00\", \"2020-02-23T00:22:00\", \"2020-02-23T00:27:00\", \"2020-02-23T00:32:00\", \"2020-02-23T00:37:00\", \"2020-02-23T00:42:00\", \"2020-02-23T00:47:00\", \"2020-02-23T00:52:00\", \"2020-02-23T00:57:00\", \"2020-02-23T01:02:00\", \"2020-02-23T01:07:00\", \"2020-02-23T01:12:00\", \"2020-02-23T01:17:00\", \"2020-02-23T01:22:00\", \"2020-02-23T01:32:00\", \"2020-02-23T01:42:00\", \"2020-02-23T01:52:00\", \"2020-02-23T01:58:00\", \"2020-02-23T02:28:00\", \"2020-02-23T02:33:00\", \"2020-02-23T02:38:00\", \"2020-02-23T02:43:00\", \"2020-02-23T02:48:00\", \"2020-02-23T03:03:00\", \"2020-02-23T03:13:00\", \"2020-02-23T03:33:00\", \"2020-02-23T03:53:00\", \"2020-02-23T03:58:00\", \"2020-02-23T04:18:00\", \"2020-02-23T04:28:00\", \"2020-02-23T04:33:00\", \"2020-02-23T04:43:00\", \"2020-02-23T04:58:00\", \"2020-02-23T05:03:00\", \"2020-02-23T05:08:00\", \"2020-02-23T05:13:00\", \"2020-02-23T05:19:00\", \"2020-02-23T05:24:00\", \"2020-02-23T05:29:00\", \"2020-02-23T05:39:00\", \"2020-02-23T05:44:00\", \"2020-02-23T05:49:00\", \"2020-02-23T05:54:00\", \"2020-02-23T05:59:00\", \"2020-02-23T06:04:00\", \"2020-02-23T06:09:00\", \"2020-02-23T06:14:00\", \"2020-02-23T06:19:00\", \"2020-02-23T06:24:00\", \"2020-02-23T06:29:00\", \"2020-02-23T06:34:00\", \"2020-02-23T06:39:00\", \"2020-02-23T06:44:00\", \"2020-02-23T06:49:00\", \"2020-02-23T06:54:00\", \"2020-02-23T06:59:00\", \"2020-02-23T07:04:00\", \"2020-02-23T07:09:00\", \"2020-02-23T07:14:00\", \"2020-02-23T07:19:00\", \"2020-02-23T07:24:00\", \"2020-02-23T07:29:00\", \"2020-02-23T07:34:00\", \"2020-02-23T07:39:00\", \"2020-02-23T07:44:00\", \"2020-02-23T07:49:00\", \"2020-02-23T07:54:00\", \"2020-02-23T08:00:00\", \"2020-02-23T08:05:00\", \"2020-02-23T08:10:00\", \"2020-02-23T08:15:00\", \"2020-02-23T08:20:00\", \"2020-02-23T08:25:00\", \"2020-02-23T08:30:00\", \"2020-02-23T08:35:00\", \"2020-02-23T08:40:00\", \"2020-02-23T08:45:00\", \"2020-02-23T08:50:00\", \"2020-02-23T08:55:00\", \"2020-02-23T09:00:00\", \"2020-02-23T09:05:00\", \"2020-02-23T09:10:00\", \"2020-02-23T09:15:00\", \"2020-02-23T09:20:00\", \"2020-02-23T09:25:00\", \"2020-02-23T09:30:00\", \"2020-02-23T09:35:00\", \"2020-02-23T09:40:00\"], \"y\": [66, 66, 55, 58, 58, 65, 54, 66, 58, 53, 57, 54, 54, 58, 65, 58, 64, 64, 58, 66, 53, 54, 58, 60, 60, 63, 63, 63, 62, 64, 52, 66, 52, 55, 60, 60, 53, 64, 64, 64, 62, 64, 64, 56, 53, 54, 63, 56, 58, 63, 63, 64, 64, 64, 66, 66, 52, 58, 58, 60, 60, 55, 60, 64, 64, 66, 66, 53, 55, 70, 63, 64, 58, 58, 62, 64, 65, 56, 60, 61, 53, 55, 62, 58, 54, 51, 51, 54, 65, 50, 65, 52, 52, 53, 50, 60, 55, 56, 67, 63, 52, 68, 51, 52, 62, 53, 56, 53, 55, 54, 53, 55, 53, 68, 66, 56, 51, 53, 51, 51, 51, 50, 52, 56, 50, 82, 50, 49, 49, 51, 57, 64, 51, 50, 57, 60, 50, 50, 61, 72, 56, 51, 56, 61, 61, 66, 50, 51, 44, 71, 61, 61, 58, 47, 47, 58, 63, 63, 64, 57, 58, 65, 72, 70, 58, 57, 114, 70, 48, 57, 70, 61, 61, 55, 75, 85, 54, 65, 83, 72, 65, 66, 72, 49, 49, 49, 63, 64, 45, 66, 66, 49, 49, 66, 66, 58, 57, 57, 57, 57, 57, 67, 63, 65, 65, 50, 51, 64, 61, 67, 68, 69, 59, 67, 65, 70, 48, 48, 53, 56, 63, 63, 63, 64, 64, 65, 67, 58, 52, 52, 58, 58, 63, 63, 50, 50, 50, 50, 68, 65, 67, 70, 51, 54, 66, 71, 62, 65, 63, 62]}, {\"name\": \"Trip to me\", \"type\": \"scatter\", \"x\": [\"2020-02-22T10:05:00\", \"2020-02-22T10:10:00\", \"2020-02-22T10:15:00\", \"2020-02-22T10:20:00\", \"2020-02-22T10:25:00\", \"2020-02-22T11:02:00\", \"2020-02-22T11:05:00\", \"2020-02-22T11:10:00\", \"2020-02-22T11:15:00\", \"2020-02-22T11:20:00\", \"2020-02-22T11:25:00\", \"2020-02-22T11:30:00\", \"2020-02-22T11:35:00\", \"2020-02-22T11:40:00\", \"2020-02-22T11:45:00\", \"2020-02-22T11:50:00\", \"2020-02-22T11:55:00\", \"2020-02-22T12:00:00\", \"2020-02-22T12:05:00\", \"2020-02-22T12:10:00\", \"2020-02-22T12:15:00\", \"2020-02-22T12:20:00\", \"2020-02-22T12:25:00\", \"2020-02-22T12:30:00\", \"2020-02-22T12:35:00\", \"2020-02-22T12:40:00\", \"2020-02-22T12:45:00\", \"2020-02-22T12:50:00\", \"2020-02-22T12:55:00\", \"2020-02-22T13:00:00\", \"2020-02-22T13:05:00\", \"2020-02-22T13:11:00\", \"2020-02-22T13:16:00\", \"2020-02-22T13:21:00\", \"2020-02-22T13:26:00\", \"2020-02-22T13:31:00\", \"2020-02-22T13:36:00\", \"2020-02-22T13:41:00\", \"2020-02-22T13:46:00\", \"2020-02-22T13:51:00\", \"2020-02-22T13:56:00\", \"2020-02-22T14:01:00\", \"2020-02-22T14:06:00\", \"2020-02-22T14:11:00\", \"2020-02-22T14:16:00\", \"2020-02-22T14:21:00\", \"2020-02-22T14:26:00\", \"2020-02-22T14:31:00\", \"2020-02-22T14:36:00\", \"2020-02-22T14:41:00\", \"2020-02-22T14:46:00\", \"2020-02-22T14:51:00\", \"2020-02-22T14:56:00\", \"2020-02-22T15:01:00\", \"2020-02-22T15:06:00\", \"2020-02-22T15:11:00\", \"2020-02-22T15:22:00\", \"2020-02-22T15:27:00\", \"2020-02-22T15:32:00\", \"2020-02-22T15:37:00\", \"2020-02-22T15:42:00\", \"2020-02-22T15:47:00\", \"2020-02-22T15:52:00\", \"2020-02-22T15:57:00\", \"2020-02-22T16:02:00\", \"2020-02-22T16:07:00\", \"2020-02-22T16:12:00\", \"2020-02-22T16:17:00\", \"2020-02-22T16:22:00\", \"2020-02-22T16:27:00\", \"2020-02-22T16:32:00\", \"2020-02-22T16:37:00\", \"2020-02-22T16:42:00\", \"2020-02-22T16:47:00\", \"2020-02-22T16:52:00\", \"2020-02-22T16:57:00\", \"2020-02-22T17:02:00\", \"2020-02-22T17:08:00\", \"2020-02-22T17:13:00\", \"2020-02-22T17:18:00\", \"2020-02-22T17:23:00\", \"2020-02-22T17:28:00\", \"2020-02-22T17:33:00\", \"2020-02-22T17:38:00\", \"2020-02-22T17:43:00\", \"2020-02-22T17:48:00\", \"2020-02-22T17:53:00\", \"2020-02-22T17:58:00\", \"2020-02-22T18:03:00\", \"2020-02-22T18:08:00\", \"2020-02-22T18:13:00\", \"2020-02-22T18:18:00\", \"2020-02-22T18:23:00\", \"2020-02-22T18:28:00\", \"2020-02-22T18:33:00\", \"2020-02-22T18:38:00\", \"2020-02-22T18:43:00\", \"2020-02-22T18:48:00\", \"2020-02-22T18:53:00\", \"2020-02-22T18:58:00\", \"2020-02-22T19:03:00\", \"2020-02-22T19:09:00\", \"2020-02-22T19:14:00\", \"2020-02-22T19:19:00\", \"2020-02-22T19:24:00\", \"2020-02-22T19:29:00\", \"2020-02-22T19:34:00\", \"2020-02-22T19:39:00\", \"2020-02-22T19:44:00\", \"2020-02-22T19:49:00\", \"2020-02-22T19:54:00\", \"2020-02-22T19:59:00\", \"2020-02-22T20:04:00\", \"2020-02-22T20:09:00\", \"2020-02-22T20:14:00\", \"2020-02-22T20:19:00\", \"2020-02-22T20:24:00\", \"2020-02-22T20:29:00\", \"2020-02-22T20:34:00\", \"2020-02-22T20:39:00\", \"2020-02-22T20:44:00\", \"2020-02-22T20:49:00\", \"2020-02-22T20:54:00\", \"2020-02-22T20:59:00\", \"2020-02-22T21:04:00\", \"2020-02-22T21:10:00\", \"2020-02-22T21:15:00\", \"2020-02-22T21:20:00\", \"2020-02-22T21:25:00\", \"2020-02-22T21:30:00\", \"2020-02-22T21:35:00\", \"2020-02-22T21:40:00\", \"2020-02-22T21:45:00\", \"2020-02-22T21:50:00\", \"2020-02-22T21:55:00\", \"2020-02-22T22:00:00\", \"2020-02-22T22:05:00\", \"2020-02-22T22:10:00\", \"2020-02-22T22:15:00\", \"2020-02-22T22:20:00\", \"2020-02-22T22:25:00\", \"2020-02-22T22:30:00\", \"2020-02-22T22:35:00\", \"2020-02-22T22:40:00\", \"2020-02-22T22:45:00\", \"2020-02-22T22:50:00\", \"2020-02-22T22:56:00\", \"2020-02-22T23:01:00\", \"2020-02-22T23:06:00\", \"2020-02-22T23:11:00\", \"2020-02-22T23:16:00\", \"2020-02-22T23:21:00\", \"2020-02-22T23:26:00\", \"2020-02-22T23:31:00\", \"2020-02-22T23:37:00\", \"2020-02-22T23:42:00\", \"2020-02-22T23:47:00\", \"2020-02-22T23:52:00\", \"2020-02-22T23:57:00\", \"2020-02-23T00:02:00\", \"2020-02-23T00:07:00\", \"2020-02-23T00:12:00\", \"2020-02-23T00:17:00\", \"2020-02-23T00:22:00\", \"2020-02-23T00:27:00\", \"2020-02-23T00:32:00\", \"2020-02-23T00:37:00\", \"2020-02-23T00:42:00\", \"2020-02-23T00:47:00\", \"2020-02-23T00:52:00\", \"2020-02-23T00:57:00\", \"2020-02-23T01:02:00\", \"2020-02-23T01:07:00\", \"2020-02-23T01:12:00\", \"2020-02-23T01:17:00\", \"2020-02-23T01:22:00\", \"2020-02-23T01:32:00\", \"2020-02-23T01:42:00\", \"2020-02-23T01:52:00\", \"2020-02-23T01:58:00\", \"2020-02-23T02:28:00\", \"2020-02-23T02:33:00\", \"2020-02-23T02:38:00\", \"2020-02-23T02:43:00\", \"2020-02-23T02:48:00\", \"2020-02-23T03:03:00\", \"2020-02-23T03:13:00\", \"2020-02-23T03:33:00\", \"2020-02-23T03:53:00\", \"2020-02-23T03:58:00\", \"2020-02-23T04:18:00\", \"2020-02-23T04:28:00\", \"2020-02-23T04:33:00\", \"2020-02-23T04:43:00\", \"2020-02-23T04:58:00\", \"2020-02-23T05:03:00\", \"2020-02-23T05:08:00\", \"2020-02-23T05:13:00\", \"2020-02-23T05:19:00\", \"2020-02-23T05:24:00\", \"2020-02-23T05:29:00\", \"2020-02-23T05:39:00\", \"2020-02-23T05:44:00\", \"2020-02-23T05:49:00\", \"2020-02-23T05:54:00\", \"2020-02-23T05:59:00\", \"2020-02-23T06:04:00\", \"2020-02-23T06:09:00\", \"2020-02-23T06:14:00\", \"2020-02-23T06:19:00\", \"2020-02-23T06:24:00\", \"2020-02-23T06:29:00\", \"2020-02-23T06:34:00\", \"2020-02-23T06:39:00\", \"2020-02-23T06:44:00\", \"2020-02-23T06:49:00\", \"2020-02-23T06:54:00\", \"2020-02-23T06:59:00\", \"2020-02-23T07:04:00\", \"2020-02-23T07:09:00\", \"2020-02-23T07:14:00\", \"2020-02-23T07:19:00\", \"2020-02-23T07:24:00\", \"2020-02-23T07:29:00\", \"2020-02-23T07:34:00\", \"2020-02-23T07:39:00\", \"2020-02-23T07:44:00\", \"2020-02-23T07:49:00\", \"2020-02-23T07:54:00\", \"2020-02-23T08:00:00\", \"2020-02-23T08:05:00\", \"2020-02-23T08:10:00\", \"2020-02-23T08:15:00\", \"2020-02-23T08:20:00\", \"2020-02-23T08:25:00\", \"2020-02-23T08:30:00\", \"2020-02-23T08:35:00\", \"2020-02-23T08:40:00\", \"2020-02-23T08:45:00\", \"2020-02-23T08:50:00\", \"2020-02-23T08:55:00\", \"2020-02-23T09:00:00\", \"2020-02-23T09:05:00\", \"2020-02-23T09:10:00\", \"2020-02-23T09:15:00\", \"2020-02-23T09:20:00\", \"2020-02-23T09:25:00\", \"2020-02-23T09:30:00\", \"2020-02-23T09:35:00\", \"2020-02-23T09:40:00\"], \"y\": [55, 58, 58, 57, 57, 52, 52, 58, 55, 55, 52, 57, 54, 52, 53, 53, 53, 61, 61, 58, 55, 56, 52, 58, 56, 54, 65, 65, 65, 50, 51, 58, 58, 58, 53, 58, 54, 54, 53, 53, 55, 61, 52, 58, 58, 57, 52, 53, 54, 56, 54, 52, 57, 50, 51, 58, 53, 56, 53, 55, 58, 53, 54, 55, 57, 53, 56, 53, 57, 57, 57, 54, 54, 52, 52, 53, 54, 51, 58, 58, 53, 57, 56, 47, 47, 54, 52, 54, 51, 53, 55, 55, 54, 52, 56, 51, 50, 52, 51, 54, 50, 50, 53, 54, 49, 51, 55, 53, 52, 53, 53, 52, 56, 56, 50, 50, 51, 48, 49, 60, 61, 52, 49, 50, 52, 57, 49, 48, 53, 48, 48, 46, 47, 60, 58, 58, 50, 49, 67, 68, 53, 53, 53, 53, 54, 52, 53, 56, 58, 56, 55, 54, 45, 47, 54, 58, 51, 54, 52, 67, 67, 61, 54, 62, 44, 45, 46, 76, 53, 53, 56, 45, 46, 47, 106, 101, 105, 109, 60, 46, 52, 52, 84, 87, 62, 45, 45, 62, 42, 42, 60, 63, 62, 48, 64, 59, 59, 59, 57, 57, 57, 59, 59, 68, 62, 78, 84, 75, 55, 51, 53, 68, 66, 56, 54, 56, 56, 51, 51, 51, 49, 57, 55, 76, 49, 48, 48, 60, 64, 61, 58, 54, 60, 61, 56, 52, 58, 50, 50, 59, 59, 59, 55, 55, 54, 54, 55, 62, 62, 52]}],\n",
       "                        {\"template\": {\"data\": {\"bar\": [{\"error_x\": {\"color\": \"#2a3f5f\"}, \"error_y\": {\"color\": \"#2a3f5f\"}, \"marker\": {\"line\": {\"color\": \"white\", \"width\": 0.5}}, \"type\": \"bar\"}], \"barpolar\": [{\"marker\": {\"line\": {\"color\": \"white\", \"width\": 0.5}}, \"type\": \"barpolar\"}], \"carpet\": [{\"aaxis\": {\"endlinecolor\": \"#2a3f5f\", \"gridcolor\": \"#C8D4E3\", \"linecolor\": \"#C8D4E3\", \"minorgridcolor\": \"#C8D4E3\", \"startlinecolor\": \"#2a3f5f\"}, \"baxis\": {\"endlinecolor\": \"#2a3f5f\", \"gridcolor\": \"#C8D4E3\", \"linecolor\": \"#C8D4E3\", \"minorgridcolor\": \"#C8D4E3\", \"startlinecolor\": \"#2a3f5f\"}, \"type\": \"carpet\"}], \"choropleth\": [{\"colorbar\": {\"outlinewidth\": 0, \"ticks\": \"\"}, \"type\": \"choropleth\"}], \"contour\": [{\"colorbar\": {\"outlinewidth\": 0, \"ticks\": \"\"}, \"colorscale\": [[0.0, \"#0d0887\"], [0.1111111111111111, \"#46039f\"], [0.2222222222222222, \"#7201a8\"], [0.3333333333333333, \"#9c179e\"], [0.4444444444444444, \"#bd3786\"], [0.5555555555555556, \"#d8576b\"], [0.6666666666666666, \"#ed7953\"], [0.7777777777777778, \"#fb9f3a\"], [0.8888888888888888, \"#fdca26\"], [1.0, \"#f0f921\"]], \"type\": \"contour\"}], \"contourcarpet\": [{\"colorbar\": {\"outlinewidth\": 0, \"ticks\": \"\"}, \"type\": \"contourcarpet\"}], \"heatmap\": [{\"colorbar\": {\"outlinewidth\": 0, \"ticks\": \"\"}, \"colorscale\": [[0.0, \"#0d0887\"], [0.1111111111111111, \"#46039f\"], [0.2222222222222222, \"#7201a8\"], [0.3333333333333333, \"#9c179e\"], [0.4444444444444444, \"#bd3786\"], [0.5555555555555556, \"#d8576b\"], [0.6666666666666666, \"#ed7953\"], [0.7777777777777778, \"#fb9f3a\"], [0.8888888888888888, \"#fdca26\"], [1.0, \"#f0f921\"]], \"type\": \"heatmap\"}], \"heatmapgl\": [{\"colorbar\": {\"outlinewidth\": 0, \"ticks\": \"\"}, \"colorscale\": [[0.0, \"#0d0887\"], [0.1111111111111111, \"#46039f\"], [0.2222222222222222, \"#7201a8\"], [0.3333333333333333, \"#9c179e\"], [0.4444444444444444, \"#bd3786\"], [0.5555555555555556, \"#d8576b\"], [0.6666666666666666, \"#ed7953\"], [0.7777777777777778, \"#fb9f3a\"], [0.8888888888888888, \"#fdca26\"], [1.0, \"#f0f921\"]], \"type\": \"heatmapgl\"}], \"histogram\": [{\"marker\": {\"colorbar\": {\"outlinewidth\": 0, \"ticks\": \"\"}}, \"type\": \"histogram\"}], \"histogram2d\": [{\"colorbar\": {\"outlinewidth\": 0, \"ticks\": \"\"}, \"colorscale\": [[0.0, \"#0d0887\"], [0.1111111111111111, \"#46039f\"], [0.2222222222222222, \"#7201a8\"], [0.3333333333333333, \"#9c179e\"], [0.4444444444444444, \"#bd3786\"], [0.5555555555555556, \"#d8576b\"], [0.6666666666666666, \"#ed7953\"], [0.7777777777777778, \"#fb9f3a\"], [0.8888888888888888, \"#fdca26\"], [1.0, \"#f0f921\"]], \"type\": \"histogram2d\"}], \"histogram2dcontour\": [{\"colorbar\": {\"outlinewidth\": 0, \"ticks\": \"\"}, \"colorscale\": [[0.0, \"#0d0887\"], [0.1111111111111111, \"#46039f\"], [0.2222222222222222, \"#7201a8\"], [0.3333333333333333, \"#9c179e\"], [0.4444444444444444, \"#bd3786\"], [0.5555555555555556, \"#d8576b\"], [0.6666666666666666, \"#ed7953\"], [0.7777777777777778, \"#fb9f3a\"], [0.8888888888888888, \"#fdca26\"], [1.0, \"#f0f921\"]], \"type\": \"histogram2dcontour\"}], \"mesh3d\": [{\"colorbar\": {\"outlinewidth\": 0, \"ticks\": \"\"}, \"type\": \"mesh3d\"}], \"parcoords\": [{\"line\": {\"colorbar\": {\"outlinewidth\": 0, \"ticks\": \"\"}}, \"type\": \"parcoords\"}], \"pie\": [{\"automargin\": true, \"type\": \"pie\"}], \"scatter\": [{\"marker\": {\"colorbar\": {\"outlinewidth\": 0, \"ticks\": \"\"}}, \"type\": \"scatter\"}], \"scatter3d\": [{\"line\": {\"colorbar\": {\"outlinewidth\": 0, \"ticks\": \"\"}}, \"marker\": {\"colorbar\": {\"outlinewidth\": 0, \"ticks\": \"\"}}, \"type\": \"scatter3d\"}], \"scattercarpet\": [{\"marker\": {\"colorbar\": {\"outlinewidth\": 0, \"ticks\": \"\"}}, \"type\": \"scattercarpet\"}], \"scattergeo\": [{\"marker\": {\"colorbar\": {\"outlinewidth\": 0, \"ticks\": \"\"}}, \"type\": \"scattergeo\"}], \"scattergl\": [{\"marker\": {\"colorbar\": {\"outlinewidth\": 0, \"ticks\": \"\"}}, \"type\": \"scattergl\"}], \"scattermapbox\": [{\"marker\": {\"colorbar\": {\"outlinewidth\": 0, \"ticks\": \"\"}}, \"type\": \"scattermapbox\"}], \"scatterpolar\": [{\"marker\": {\"colorbar\": {\"outlinewidth\": 0, \"ticks\": \"\"}}, \"type\": \"scatterpolar\"}], \"scatterpolargl\": [{\"marker\": {\"colorbar\": {\"outlinewidth\": 0, \"ticks\": \"\"}}, \"type\": \"scatterpolargl\"}], \"scatterternary\": [{\"marker\": {\"colorbar\": {\"outlinewidth\": 0, \"ticks\": \"\"}}, \"type\": \"scatterternary\"}], \"surface\": [{\"colorbar\": {\"outlinewidth\": 0, \"ticks\": \"\"}, \"colorscale\": [[0.0, \"#0d0887\"], [0.1111111111111111, \"#46039f\"], [0.2222222222222222, \"#7201a8\"], [0.3333333333333333, \"#9c179e\"], [0.4444444444444444, \"#bd3786\"], [0.5555555555555556, \"#d8576b\"], [0.6666666666666666, \"#ed7953\"], [0.7777777777777778, \"#fb9f3a\"], [0.8888888888888888, \"#fdca26\"], [1.0, \"#f0f921\"]], \"type\": \"surface\"}], \"table\": [{\"cells\": {\"fill\": {\"color\": \"#EBF0F8\"}, \"line\": {\"color\": \"white\"}}, \"header\": {\"fill\": {\"color\": \"#C8D4E3\"}, \"line\": {\"color\": \"white\"}}, \"type\": \"table\"}]}, \"layout\": {\"annotationdefaults\": {\"arrowcolor\": \"#2a3f5f\", \"arrowhead\": 0, \"arrowwidth\": 1}, \"coloraxis\": {\"colorbar\": {\"outlinewidth\": 0, \"ticks\": \"\"}}, \"colorscale\": {\"diverging\": [[0, \"#8e0152\"], [0.1, \"#c51b7d\"], [0.2, \"#de77ae\"], [0.3, \"#f1b6da\"], [0.4, \"#fde0ef\"], [0.5, \"#f7f7f7\"], [0.6, \"#e6f5d0\"], [0.7, \"#b8e186\"], [0.8, \"#7fbc41\"], [0.9, \"#4d9221\"], [1, \"#276419\"]], \"sequential\": [[0.0, \"#0d0887\"], [0.1111111111111111, \"#46039f\"], [0.2222222222222222, \"#7201a8\"], [0.3333333333333333, \"#9c179e\"], [0.4444444444444444, \"#bd3786\"], [0.5555555555555556, \"#d8576b\"], [0.6666666666666666, \"#ed7953\"], [0.7777777777777778, \"#fb9f3a\"], [0.8888888888888888, \"#fdca26\"], [1.0, \"#f0f921\"]], \"sequentialminus\": [[0.0, \"#0d0887\"], [0.1111111111111111, \"#46039f\"], [0.2222222222222222, \"#7201a8\"], [0.3333333333333333, \"#9c179e\"], [0.4444444444444444, \"#bd3786\"], [0.5555555555555556, \"#d8576b\"], [0.6666666666666666, \"#ed7953\"], [0.7777777777777778, \"#fb9f3a\"], [0.8888888888888888, \"#fdca26\"], [1.0, \"#f0f921\"]]}, \"colorway\": [\"#636efa\", \"#EF553B\", \"#00cc96\", \"#ab63fa\", \"#FFA15A\", \"#19d3f3\", \"#FF6692\", \"#B6E880\", \"#FF97FF\", \"#FECB52\"], \"font\": {\"color\": \"#2a3f5f\"}, \"geo\": {\"bgcolor\": \"white\", \"lakecolor\": \"white\", \"landcolor\": \"white\", \"showlakes\": true, \"showland\": true, \"subunitcolor\": \"#C8D4E3\"}, \"hoverlabel\": {\"align\": \"left\"}, \"hovermode\": \"closest\", \"mapbox\": {\"style\": \"light\"}, \"paper_bgcolor\": \"white\", \"plot_bgcolor\": \"white\", \"polar\": {\"angularaxis\": {\"gridcolor\": \"#EBF0F8\", \"linecolor\": \"#EBF0F8\", \"ticks\": \"\"}, \"bgcolor\": \"white\", \"radialaxis\": {\"gridcolor\": \"#EBF0F8\", \"linecolor\": \"#EBF0F8\", \"ticks\": \"\"}}, \"scene\": {\"xaxis\": {\"backgroundcolor\": \"white\", \"gridcolor\": \"#DFE8F3\", \"gridwidth\": 2, \"linecolor\": \"#EBF0F8\", \"showbackground\": true, \"ticks\": \"\", \"zerolinecolor\": \"#EBF0F8\"}, \"yaxis\": {\"backgroundcolor\": \"white\", \"gridcolor\": \"#DFE8F3\", \"gridwidth\": 2, \"linecolor\": \"#EBF0F8\", \"showbackground\": true, \"ticks\": \"\", \"zerolinecolor\": \"#EBF0F8\"}, \"zaxis\": {\"backgroundcolor\": \"white\", \"gridcolor\": \"#DFE8F3\", \"gridwidth\": 2, \"linecolor\": \"#EBF0F8\", \"showbackground\": true, \"ticks\": \"\", \"zerolinecolor\": \"#EBF0F8\"}}, \"shapedefaults\": {\"line\": {\"color\": \"#2a3f5f\"}}, \"ternary\": {\"aaxis\": {\"gridcolor\": \"#DFE8F3\", \"linecolor\": \"#A2B1C6\", \"ticks\": \"\"}, \"baxis\": {\"gridcolor\": \"#DFE8F3\", \"linecolor\": \"#A2B1C6\", \"ticks\": \"\"}, \"bgcolor\": \"white\", \"caxis\": {\"gridcolor\": \"#DFE8F3\", \"linecolor\": \"#A2B1C6\", \"ticks\": \"\"}}, \"title\": {\"x\": 0.05}, \"xaxis\": {\"automargin\": true, \"gridcolor\": \"#EBF0F8\", \"linecolor\": \"#EBF0F8\", \"ticks\": \"\", \"title\": {\"standoff\": 15}, \"zerolinecolor\": \"#EBF0F8\", \"zerolinewidth\": 2}, \"yaxis\": {\"automargin\": true, \"gridcolor\": \"#EBF0F8\", \"linecolor\": \"#EBF0F8\", \"ticks\": \"\", \"title\": {\"standoff\": 15}, \"zerolinecolor\": \"#EBF0F8\", \"zerolinewidth\": 2}}}, \"title\": {\"text\": \"Transit Trip Duration\"}, \"xaxis\": {\"title\": {\"text\": \"Departure Time\"}}, \"yaxis\": {\"title\": {\"text\": \"Minutes\"}}},\n",
       "                        {\"responsive\": true}\n",
       "                    ).then(function(){\n",
       "                            \n",
       "var gd = document.getElementById('297f7f79-2f51-4930-b2c9-4eba537a7bff');\n",
       "var x = new MutationObserver(function (mutations, observer) {{\n",
       "        var display = window.getComputedStyle(gd).display;\n",
       "        if (!display || display === 'none') {{\n",
       "            console.log([gd, 'removed!']);\n",
       "            Plotly.purge(gd);\n",
       "            observer.disconnect();\n",
       "        }}\n",
       "}});\n",
       "\n",
       "// Listen for the removal of the full notebook cells\n",
       "var notebookContainer = gd.closest('#notebook-container');\n",
       "if (notebookContainer) {{\n",
       "    x.observe(notebookContainer, {childList: true});\n",
       "}}\n",
       "\n",
       "// Listen for the clearing of the current output cell\n",
       "var outputEl = gd.closest('.output');\n",
       "if (outputEl) {{\n",
       "    x.observe(outputEl, {childList: true});\n",
       "}}\n",
       "\n",
       "                        })\n",
       "                };\n",
       "                });\n",
       "            </script>\n",
       "        </div>"
      ]
     },
     "metadata": {},
     "output_type": "display_data"
    }
   ],
   "source": [
    "fig = go.Figure()\n",
    "\n",
    "for trip in trips_dfs:\n",
    "\n",
    "    fig.add_trace(go.Scatter(\n",
    "        x = trip.departure_time,\n",
    "        y = trip.trip_duration,\n",
    "        name = trip['trip_direction_text'].values[0],\n",
    "#         mode = 'markers'\n",
    "    ))\n",
    "    \n",
    "fig.update_layout(\n",
    "    title = 'Transit Trip Duration',\n",
    "    yaxis_title = 'Minutes',\n",
    "    xaxis_title = 'Departure Time',\n",
    "    template = 'plotly_white'\n",
    ")\n",
    "\n",
    "fig.show()"
   ]
  },
  {
   "cell_type": "markdown",
   "metadata": {},
   "source": [
    "# Trip Instructions"
   ]
  },
  {
   "cell_type": "code",
   "execution_count": 310,
   "metadata": {},
   "outputs": [
    {
     "data": {
      "text/html": [
       "<div>\n",
       "<style scoped>\n",
       "    .dataframe tbody tr th:only-of-type {\n",
       "        vertical-align: middle;\n",
       "    }\n",
       "\n",
       "    .dataframe tbody tr th {\n",
       "        vertical-align: top;\n",
       "    }\n",
       "\n",
       "    .dataframe thead th {\n",
       "        text-align: right;\n",
       "    }\n",
       "</style>\n",
       "<table border=\"1\" class=\"dataframe\">\n",
       "  <thead>\n",
       "    <tr style=\"text-align: right;\">\n",
       "      <th></th>\n",
       "      <th>departure_time</th>\n",
       "      <th>trip_direction</th>\n",
       "      <th>trip_step</th>\n",
       "      <th>transit_line</th>\n",
       "      <th>step_duration</th>\n",
       "    </tr>\n",
       "  </thead>\n",
       "  <tbody>\n",
       "    <tr>\n",
       "      <th>0</th>\n",
       "      <td>2020/02/22 10:05</td>\n",
       "      <td>0</td>\n",
       "      <td>1</td>\n",
       "      <td>L</td>\n",
       "      <td>4</td>\n",
       "    </tr>\n",
       "    <tr>\n",
       "      <th>1</th>\n",
       "      <td>2020/02/22 10:05</td>\n",
       "      <td>0</td>\n",
       "      <td>2</td>\n",
       "      <td>G</td>\n",
       "      <td>9</td>\n",
       "    </tr>\n",
       "    <tr>\n",
       "      <th>2</th>\n",
       "      <td>2020/02/22 10:05</td>\n",
       "      <td>0</td>\n",
       "      <td>3</td>\n",
       "      <td>E</td>\n",
       "      <td>23</td>\n",
       "    </tr>\n",
       "    <tr>\n",
       "      <th>3</th>\n",
       "      <td>2020/02/22 10:05</td>\n",
       "      <td>1</td>\n",
       "      <td>1</td>\n",
       "      <td>R</td>\n",
       "      <td>7</td>\n",
       "    </tr>\n",
       "    <tr>\n",
       "      <th>4</th>\n",
       "      <td>2020/02/22 10:05</td>\n",
       "      <td>1</td>\n",
       "      <td>2</td>\n",
       "      <td>Q59</td>\n",
       "      <td>22</td>\n",
       "    </tr>\n",
       "  </tbody>\n",
       "</table>\n",
       "</div>"
      ],
      "text/plain": [
       "     departure_time  trip_direction  trip_step transit_line  step_duration\n",
       "0  2020/02/22 10:05               0          1            L              4\n",
       "1  2020/02/22 10:05               0          2            G              9\n",
       "2  2020/02/22 10:05               0          3            E             23\n",
       "3  2020/02/22 10:05               1          1            R              7\n",
       "4  2020/02/22 10:05               1          2          Q59             22"
      ]
     },
     "execution_count": 310,
     "metadata": {},
     "output_type": "execute_result"
    }
   ],
   "source": [
    "# Get all data after 2/18 and store as a df\n",
    "cursor.execute(\"\"\"SELECT * FROM instructions WHERE DAY(departure_time) > 18;\"\"\")\n",
    "instr_df = pd.DataFrame(cursor.fetchall())\n",
    "instr_df.columns = [x[0] for x in cursor.description]\n",
    "instr_df.head()"
   ]
  },
  {
   "cell_type": "code",
   "execution_count": 311,
   "metadata": {},
   "outputs": [],
   "source": [
    "instr_df, instr_dfs = helpers.create_features(instr_df)"
   ]
  },
  {
   "cell_type": "code",
   "execution_count": 312,
   "metadata": {},
   "outputs": [
    {
     "name": "stdout",
     "output_type": "stream",
     "text": [
      "<class 'pandas.core.frame.DataFrame'>\n",
      "RangeIndex: 1150 entries, 0 to 1149\n",
      "Data columns (total 9 columns):\n",
      "departure_time         1150 non-null datetime64[ns]\n",
      "trip_direction         1150 non-null int64\n",
      "trip_step              1150 non-null int64\n",
      "transit_line           1150 non-null object\n",
      "step_duration          1150 non-null int64\n",
      "time_of_day            1150 non-null object\n",
      "day_of_week            1150 non-null int64\n",
      "weekday                1150 non-null int64\n",
      "trip_direction_text    1150 non-null object\n",
      "dtypes: datetime64[ns](1), int64(5), object(3)\n",
      "memory usage: 81.0+ KB\n"
     ]
    }
   ],
   "source": [
    "instr_df.info()"
   ]
  },
  {
   "cell_type": "code",
   "execution_count": 313,
   "metadata": {},
   "outputs": [
    {
     "data": {
      "text/html": [
       "<div>\n",
       "<style scoped>\n",
       "    .dataframe tbody tr th:only-of-type {\n",
       "        vertical-align: middle;\n",
       "    }\n",
       "\n",
       "    .dataframe tbody tr th {\n",
       "        vertical-align: top;\n",
       "    }\n",
       "\n",
       "    .dataframe thead th {\n",
       "        text-align: right;\n",
       "    }\n",
       "</style>\n",
       "<table border=\"1\" class=\"dataframe\">\n",
       "  <thead>\n",
       "    <tr style=\"text-align: right;\">\n",
       "      <th></th>\n",
       "      <th>departure_time</th>\n",
       "      <th>trip_direction</th>\n",
       "      <th>trip_step</th>\n",
       "      <th>transit_line</th>\n",
       "      <th>step_duration</th>\n",
       "      <th>time_of_day</th>\n",
       "      <th>day_of_week</th>\n",
       "      <th>weekday</th>\n",
       "      <th>trip_direction_text</th>\n",
       "    </tr>\n",
       "  </thead>\n",
       "  <tbody>\n",
       "    <tr>\n",
       "      <th>0</th>\n",
       "      <td>2020-02-22 10:05:00</td>\n",
       "      <td>0</td>\n",
       "      <td>1</td>\n",
       "      <td>L</td>\n",
       "      <td>4</td>\n",
       "      <td>Morning</td>\n",
       "      <td>5</td>\n",
       "      <td>0</td>\n",
       "      <td>Trip to gf</td>\n",
       "    </tr>\n",
       "    <tr>\n",
       "      <th>1</th>\n",
       "      <td>2020-02-22 10:05:00</td>\n",
       "      <td>0</td>\n",
       "      <td>2</td>\n",
       "      <td>G</td>\n",
       "      <td>9</td>\n",
       "      <td>Morning</td>\n",
       "      <td>5</td>\n",
       "      <td>0</td>\n",
       "      <td>Trip to gf</td>\n",
       "    </tr>\n",
       "    <tr>\n",
       "      <th>2</th>\n",
       "      <td>2020-02-22 10:05:00</td>\n",
       "      <td>0</td>\n",
       "      <td>3</td>\n",
       "      <td>E</td>\n",
       "      <td>23</td>\n",
       "      <td>Morning</td>\n",
       "      <td>5</td>\n",
       "      <td>0</td>\n",
       "      <td>Trip to gf</td>\n",
       "    </tr>\n",
       "    <tr>\n",
       "      <th>3</th>\n",
       "      <td>2020-02-22 10:05:00</td>\n",
       "      <td>1</td>\n",
       "      <td>1</td>\n",
       "      <td>R</td>\n",
       "      <td>7</td>\n",
       "      <td>Morning</td>\n",
       "      <td>5</td>\n",
       "      <td>0</td>\n",
       "      <td>Trip to me</td>\n",
       "    </tr>\n",
       "    <tr>\n",
       "      <th>4</th>\n",
       "      <td>2020-02-22 10:05:00</td>\n",
       "      <td>1</td>\n",
       "      <td>2</td>\n",
       "      <td>Q59</td>\n",
       "      <td>22</td>\n",
       "      <td>Morning</td>\n",
       "      <td>5</td>\n",
       "      <td>0</td>\n",
       "      <td>Trip to me</td>\n",
       "    </tr>\n",
       "  </tbody>\n",
       "</table>\n",
       "</div>"
      ],
      "text/plain": [
       "       departure_time  trip_direction  trip_step transit_line  step_duration  \\\n",
       "0 2020-02-22 10:05:00               0          1            L              4   \n",
       "1 2020-02-22 10:05:00               0          2            G              9   \n",
       "2 2020-02-22 10:05:00               0          3            E             23   \n",
       "3 2020-02-22 10:05:00               1          1            R              7   \n",
       "4 2020-02-22 10:05:00               1          2          Q59             22   \n",
       "\n",
       "  time_of_day  day_of_week  weekday trip_direction_text  \n",
       "0     Morning            5        0          Trip to gf  \n",
       "1     Morning            5        0          Trip to gf  \n",
       "2     Morning            5        0          Trip to gf  \n",
       "3     Morning            5        0          Trip to me  \n",
       "4     Morning            5        0          Trip to me  "
      ]
     },
     "execution_count": 313,
     "metadata": {},
     "output_type": "execute_result"
    }
   ],
   "source": [
    "instr_df.head()"
   ]
  },
  {
   "cell_type": "code",
   "execution_count": 269,
   "metadata": {
    "scrolled": true
   },
   "outputs": [
    {
     "data": {
      "text/html": [
       "<div>\n",
       "<style scoped>\n",
       "    .dataframe tbody tr th:only-of-type {\n",
       "        vertical-align: middle;\n",
       "    }\n",
       "\n",
       "    .dataframe tbody tr th {\n",
       "        vertical-align: top;\n",
       "    }\n",
       "\n",
       "    .dataframe thead th {\n",
       "        text-align: right;\n",
       "    }\n",
       "</style>\n",
       "<table border=\"1\" class=\"dataframe\">\n",
       "  <thead>\n",
       "    <tr style=\"text-align: right;\">\n",
       "      <th></th>\n",
       "      <th>trip_direction</th>\n",
       "      <th>trip_step</th>\n",
       "      <th>transit_line</th>\n",
       "      <th>step_duration</th>\n",
       "      <th>trip_direction_text</th>\n",
       "      <th>time_of_day</th>\n",
       "    </tr>\n",
       "    <tr>\n",
       "      <th>departure_time</th>\n",
       "      <th></th>\n",
       "      <th></th>\n",
       "      <th></th>\n",
       "      <th></th>\n",
       "      <th></th>\n",
       "      <th></th>\n",
       "    </tr>\n",
       "  </thead>\n",
       "  <tbody>\n",
       "    <tr>\n",
       "      <th>2020-02-22 10:05:00</th>\n",
       "      <td>3</td>\n",
       "      <td>3</td>\n",
       "      <td>3</td>\n",
       "      <td>3</td>\n",
       "      <td>3</td>\n",
       "      <td>3</td>\n",
       "    </tr>\n",
       "    <tr>\n",
       "      <th>2020-02-22 10:10:00</th>\n",
       "      <td>3</td>\n",
       "      <td>3</td>\n",
       "      <td>3</td>\n",
       "      <td>3</td>\n",
       "      <td>3</td>\n",
       "      <td>3</td>\n",
       "    </tr>\n",
       "    <tr>\n",
       "      <th>2020-02-22 10:15:00</th>\n",
       "      <td>2</td>\n",
       "      <td>2</td>\n",
       "      <td>2</td>\n",
       "      <td>2</td>\n",
       "      <td>2</td>\n",
       "      <td>2</td>\n",
       "    </tr>\n",
       "    <tr>\n",
       "      <th>2020-02-22 10:20:00</th>\n",
       "      <td>3</td>\n",
       "      <td>3</td>\n",
       "      <td>3</td>\n",
       "      <td>3</td>\n",
       "      <td>3</td>\n",
       "      <td>3</td>\n",
       "    </tr>\n",
       "    <tr>\n",
       "      <th>2020-02-22 10:25:00</th>\n",
       "      <td>3</td>\n",
       "      <td>3</td>\n",
       "      <td>3</td>\n",
       "      <td>3</td>\n",
       "      <td>3</td>\n",
       "      <td>3</td>\n",
       "    </tr>\n",
       "    <tr>\n",
       "      <th>...</th>\n",
       "      <td>...</td>\n",
       "      <td>...</td>\n",
       "      <td>...</td>\n",
       "      <td>...</td>\n",
       "      <td>...</td>\n",
       "      <td>...</td>\n",
       "    </tr>\n",
       "    <tr>\n",
       "      <th>2020-02-23 09:20:00</th>\n",
       "      <td>3</td>\n",
       "      <td>3</td>\n",
       "      <td>3</td>\n",
       "      <td>3</td>\n",
       "      <td>0</td>\n",
       "      <td>3</td>\n",
       "    </tr>\n",
       "    <tr>\n",
       "      <th>2020-02-23 09:25:00</th>\n",
       "      <td>3</td>\n",
       "      <td>3</td>\n",
       "      <td>3</td>\n",
       "      <td>3</td>\n",
       "      <td>0</td>\n",
       "      <td>3</td>\n",
       "    </tr>\n",
       "    <tr>\n",
       "      <th>2020-02-23 09:30:00</th>\n",
       "      <td>3</td>\n",
       "      <td>3</td>\n",
       "      <td>3</td>\n",
       "      <td>3</td>\n",
       "      <td>0</td>\n",
       "      <td>3</td>\n",
       "    </tr>\n",
       "    <tr>\n",
       "      <th>2020-02-23 09:35:00</th>\n",
       "      <td>3</td>\n",
       "      <td>3</td>\n",
       "      <td>3</td>\n",
       "      <td>3</td>\n",
       "      <td>0</td>\n",
       "      <td>3</td>\n",
       "    </tr>\n",
       "    <tr>\n",
       "      <th>2020-02-23 09:40:00</th>\n",
       "      <td>3</td>\n",
       "      <td>3</td>\n",
       "      <td>3</td>\n",
       "      <td>3</td>\n",
       "      <td>0</td>\n",
       "      <td>3</td>\n",
       "    </tr>\n",
       "  </tbody>\n",
       "</table>\n",
       "<p>246 rows × 6 columns</p>\n",
       "</div>"
      ],
      "text/plain": [
       "                     trip_direction  trip_step  transit_line  step_duration  \\\n",
       "departure_time                                                                \n",
       "2020-02-22 10:05:00               3          3             3              3   \n",
       "2020-02-22 10:10:00               3          3             3              3   \n",
       "2020-02-22 10:15:00               2          2             2              2   \n",
       "2020-02-22 10:20:00               3          3             3              3   \n",
       "2020-02-22 10:25:00               3          3             3              3   \n",
       "...                             ...        ...           ...            ...   \n",
       "2020-02-23 09:20:00               3          3             3              3   \n",
       "2020-02-23 09:25:00               3          3             3              3   \n",
       "2020-02-23 09:30:00               3          3             3              3   \n",
       "2020-02-23 09:35:00               3          3             3              3   \n",
       "2020-02-23 09:40:00               3          3             3              3   \n",
       "\n",
       "                     trip_direction_text  time_of_day  \n",
       "departure_time                                         \n",
       "2020-02-22 10:05:00                    3            3  \n",
       "2020-02-22 10:10:00                    3            3  \n",
       "2020-02-22 10:15:00                    2            2  \n",
       "2020-02-22 10:20:00                    3            3  \n",
       "2020-02-22 10:25:00                    3            3  \n",
       "...                                  ...          ...  \n",
       "2020-02-23 09:20:00                    0            3  \n",
       "2020-02-23 09:25:00                    0            3  \n",
       "2020-02-23 09:30:00                    0            3  \n",
       "2020-02-23 09:35:00                    0            3  \n",
       "2020-02-23 09:40:00                    0            3  \n",
       "\n",
       "[246 rows x 6 columns]"
      ]
     },
     "execution_count": 269,
     "metadata": {},
     "output_type": "execute_result"
    }
   ],
   "source": [
    "# The no. of steps for each departure time\n",
    "instr_df_to_gf.groupby(by='departure_time').count()"
   ]
  },
  {
   "cell_type": "code",
   "execution_count": 208,
   "metadata": {},
   "outputs": [],
   "source": [
    "cursor.close()\n",
    "cnx.close()"
   ]
  }
 ],
 "metadata": {
  "kernelspec": {
   "display_name": "Python 3",
   "language": "python",
   "name": "python3"
  },
  "language_info": {
   "codemirror_mode": {
    "name": "ipython",
    "version": 3
   },
   "file_extension": ".py",
   "mimetype": "text/x-python",
   "name": "python",
   "nbconvert_exporter": "python",
   "pygments_lexer": "ipython3",
   "version": "3.7.4"
  },
  "varInspector": {
   "cols": {
    "lenName": 16,
    "lenType": 16,
    "lenVar": 40
   },
   "kernels_config": {
    "python": {
     "delete_cmd_postfix": "",
     "delete_cmd_prefix": "del ",
     "library": "var_list.py",
     "varRefreshCmd": "print(var_dic_list())"
    },
    "r": {
     "delete_cmd_postfix": ") ",
     "delete_cmd_prefix": "rm(",
     "library": "var_list.r",
     "varRefreshCmd": "cat(var_dic_list()) "
    }
   },
   "types_to_exclude": [
    "module",
    "function",
    "builtin_function_or_method",
    "instance",
    "_Feature"
   ],
   "window_display": false
  }
 },
 "nbformat": 4,
 "nbformat_minor": 2
}
