{
 "cells": [
  {
   "cell_type": "markdown",
   "metadata": {},
   "source": [
    "# Data Collection\n",
    "This notebook is dedicated to the collection and insertion of data into a MySQL database hosted on Google Cloud. The collection code will ultimately be transferred to a python module file that will be saved in the same subfolder as this document."
   ]
  },
  {
   "cell_type": "code",
   "execution_count": 1,
   "metadata": {},
   "outputs": [],
   "source": [
    "import requests\n",
    "import time\n",
    "import config\n",
    "import json\n",
    "import itertools\n",
    "%load_ext autoreload\n",
    "%autoreload 2"
   ]
  },
  {
   "cell_type": "markdown",
   "metadata": {},
   "source": [
    "## Google Maps Directions API\n",
    "\n",
    "API documentation available [here](https://developers.google.com/maps/documentation/directions/start?hl=en_US).\n",
    "\n",
    "Python client for maps API available [here](https://github.com/googlemaps/google-maps-services-python)"
   ]
  },
  {
   "cell_type": "code",
   "execution_count": 21,
   "metadata": {},
   "outputs": [],
   "source": [
    "import googlemaps\n",
    "from datetime import datetime\n",
    "\n",
    "gmaps = googlemaps.Client(key=config.api_key)\n",
    "\n",
    "# Geocoding my address\n",
    "geocode_my_result = gmaps.geocode(config.my_address)\n",
    "\n",
    "# Store just latitude and longitude\n",
    "my_geometry = geocode_my_result[0]['geometry']['location']\n",
    "\n",
    "# Geocoding my girlfriend's address\n",
    "geocode_gf_result = gmaps.geocode(config.gf_address)\n",
    "\n",
    "# Store just latitude and longitude\n",
    "gf_geometry = geocode_gf_result[0]['geometry']['location']"
   ]
  },
  {
   "cell_type": "code",
   "execution_count": 22,
   "metadata": {},
   "outputs": [
    {
     "name": "stdout",
     "output_type": "stream",
     "text": [
      "{'lat': 40.708711, 'lng': -73.941571} {'lat': 40.721251, 'lng': -73.839142}\n"
     ]
    }
   ],
   "source": [
    "print(my_geometry, gf_geometry)"
   ]
  },
  {
   "cell_type": "code",
   "execution_count": 115,
   "metadata": {},
   "outputs": [],
   "source": [
    "class GDirections:\n",
    "    \"\"\"\n",
    "    A class to keep track of and display to the user only necessary parts of the Google maps searches.\n",
    "    \"\"\"\n",
    "    \n",
    "    def __init__(self, start_geometry, end_geometry):\n",
    "        self._directions_json = self._retrieve_google_directions_json(start_geometry, end_geometry)\n",
    "        self._trip_duration = self._calculate_trip_duration()\n",
    "        \n",
    "    def _retrieve_google_directions_json(self,start_geometry, end_geometry):\n",
    "        \n",
    "        \"\"\"\n",
    "        Call Google Maps API to retrieve a json with directions information\n",
    "        \"\"\"\n",
    "        \n",
    "        # Call API to \n",
    "        now = datetime.now()\n",
    "        directions = gmaps.directions(\n",
    "            origin = start_geometry,\n",
    "            destination = end_geometry,\n",
    "            mode = 'transit',\n",
    "            departure_time = now\n",
    "        )\n",
    "        return directions\n",
    "    \n",
    "    def _calculate_trip_duration(self):\n",
    "        \n",
    "        \"\"\"\n",
    "        Calculate and return trip duration in minutes.\n",
    "        \n",
    "        Returns\n",
    "        -------\n",
    "        \n",
    "        Trip duration as a string in minutes.\n",
    "        \n",
    "        e.g. '50 minutes'\n",
    "        \"\"\"\n",
    "        \n",
    "        # Store arrival time and convert to datetime\n",
    "        arrival_time = self._directions_json[0]['legs'][0]['arrival_time']['text']\n",
    "        arrival_datetime = datetime.strptime(arrival_time, '%H:%M%p')\n",
    "\n",
    "        # Store arrival time and convert to datetime\n",
    "        departure_time = self._directions_json[0]['legs'][0]['departure_time']['text']\n",
    "        departure_datetime = datetime.strptime(departure_time, '%H:%M%p')\n",
    "\n",
    "        # Calculate difference in seconds, convert to minutes\n",
    "        trip_duration = int( (arrival_datetime - departure_datetime).seconds/60 )\n",
    "        \n",
    "        return str(trip_duration) + ' minutes'\n",
    "    \n",
    "    def get_trip_duration(self):\n",
    "        \n",
    "        \"\"\"\n",
    "        Getter method for trip_duration\n",
    "        \"\"\"\n",
    "        \n",
    "        return self._trip_duration\n",
    "    \n",
    "    def get_written_instructions(self):\n",
    "        \"\"\"\n",
    "        Displays written details for the trip\n",
    "        \"\"\"\n",
    "        trips = self._directions_json[0]['legs'][0]['steps']\n",
    "        for trip in self.trips:\n",
    "            line = ''\n",
    "            if trip.get('transit_details'):\n",
    "                line = '  |  Take the ' + trip['transit_details']['line']['short_name'] + ' train\\n'\n",
    "            print(trip['html_instructions'],line)"
   ]
  },
  {
   "cell_type": "code",
   "execution_count": 117,
   "metadata": {},
   "outputs": [],
   "source": [
    "current_trip = GDirections(my_geometry, gf_geometry)"
   ]
  },
  {
   "cell_type": "code",
   "execution_count": 113,
   "metadata": {},
   "outputs": [
    {
     "data": {
      "text/plain": [
       "'64 minutes'"
      ]
     },
     "execution_count": 113,
     "metadata": {},
     "output_type": "execute_result"
    }
   ],
   "source": [
    "current_trip.get_trip_duration()"
   ]
  },
  {
   "cell_type": "code",
   "execution_count": 118,
   "metadata": {},
   "outputs": [
    {
     "data": {
      "text/plain": [
       "<bound method GDirections.get_written_instructions of <__main__.GDirections object at 0x11736df50>>"
      ]
     },
     "execution_count": 118,
     "metadata": {},
     "output_type": "execute_result"
    }
   ],
   "source": [
    "# Need to fix this bug where it won't display print items\n",
    "current_trip.get_written_instructions"
   ]
  },
  {
   "cell_type": "code",
   "execution_count": 40,
   "metadata": {},
   "outputs": [],
   "source": [
    "trips = directions[0]['legs'][0]['steps']"
   ]
  },
  {
   "cell_type": "code",
   "execution_count": null,
   "metadata": {},
   "outputs": [],
   "source": []
  }
 ],
 "metadata": {
  "kernelspec": {
   "display_name": "Python 3",
   "language": "python",
   "name": "python3"
  },
  "language_info": {
   "codemirror_mode": {
    "name": "ipython",
    "version": 3
   },
   "file_extension": ".py",
   "mimetype": "text/x-python",
   "name": "python",
   "nbconvert_exporter": "python",
   "pygments_lexer": "ipython3",
   "version": "3.7.4"
  },
  "varInspector": {
   "cols": {
    "lenName": 16,
    "lenType": 16,
    "lenVar": 40
   },
   "kernels_config": {
    "python": {
     "delete_cmd_postfix": "",
     "delete_cmd_prefix": "del ",
     "library": "var_list.py",
     "varRefreshCmd": "print(var_dic_list())"
    },
    "r": {
     "delete_cmd_postfix": ") ",
     "delete_cmd_prefix": "rm(",
     "library": "var_list.r",
     "varRefreshCmd": "cat(var_dic_list()) "
    }
   },
   "types_to_exclude": [
    "module",
    "function",
    "builtin_function_or_method",
    "instance",
    "_Feature"
   ],
   "window_display": false
  }
 },
 "nbformat": 4,
 "nbformat_minor": 2
}
