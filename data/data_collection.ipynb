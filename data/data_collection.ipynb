{
 "cells": [
  {
   "cell_type": "markdown",
   "metadata": {},
   "source": [
    "# Data Collection\n",
    "This notebook is dedicated to the collection and insertion of data into a MySQL database hosted on Google Cloud. The collection code will ultimately be transferred to a python module file that will be saved in the same subfolder as this document."
   ]
  },
  {
   "cell_type": "code",
   "execution_count": 1,
   "metadata": {},
   "outputs": [],
   "source": [
    "import requests\n",
    "import time\n",
    "import config\n",
    "import json\n",
    "import itertools\n",
    "%load_ext autoreload\n",
    "%autoreload 2"
   ]
  },
  {
   "cell_type": "markdown",
   "metadata": {},
   "source": [
    "## Google Maps Directions API\n",
    "\n",
    "API documentation available [here](https://developers.google.com/maps/documentation/directions/start?hl=en_US).\n",
    "\n",
    "Python client for maps API available [here](https://github.com/googlemaps/google-maps-services-python)"
   ]
  },
  {
   "cell_type": "code",
   "execution_count": 21,
   "metadata": {},
   "outputs": [],
   "source": [
    "import googlemaps\n",
    "from datetime import datetime\n",
    "\n",
    "gmaps = googlemaps.Client(key=config.api_key)\n",
    "\n",
    "# Geocoding my address\n",
    "geocode_my_result = gmaps.geocode(config.my_address)\n",
    "\n",
    "# Store just latitude and longitude\n",
    "my_geometry = geocode_my_result[0]['geometry']['location']\n",
    "\n",
    "# Geocoding my girlfriend's address\n",
    "geocode_gf_result = gmaps.geocode(config.gf_address)\n",
    "\n",
    "# Store just latitude and longitude\n",
    "gf_geometry = geocode_gf_result[0]['geometry']['location']"
   ]
  },
  {
   "cell_type": "code",
   "execution_count": 146,
   "metadata": {},
   "outputs": [
    {
     "name": "stdout",
     "output_type": "stream",
     "text": [
      "{'lat': 40.7555707, 'lng': -73.883179}\n"
     ]
    }
   ],
   "source": [
    "piopio_geometry = gmaps.geocode('pio pio northern blvd')[0]['geometry']['location']\n",
    "print(piopio_geometry)"
   ]
  },
  {
   "cell_type": "code",
   "execution_count": 147,
   "metadata": {},
   "outputs": [],
   "source": [
    "piopio_trip = GDirections(gf_geometry, piopio_geometry)"
   ]
  },
  {
   "cell_type": "code",
   "execution_count": 148,
   "metadata": {},
   "outputs": [
    {
     "data": {
      "text/plain": [
       "'40 minutes'"
      ]
     },
     "execution_count": 148,
     "metadata": {},
     "output_type": "execute_result"
    }
   ],
   "source": [
    "piopio_trip.get_trip_duration()"
   ]
  },
  {
   "cell_type": "code",
   "execution_count": 151,
   "metadata": {},
   "outputs": [
    {
     "name": "stdout",
     "output_type": "stream",
     "text": [
      "['Walk to Forest Hills - 71 Av', 'Subway towards World Trade Center  |  Take the E train\\n', 'Walk to Northern Blvd/54 St', 'Bus towards FLUSHING MAIN ST STA via NORTHERN BL  |  Take the Q66 train\\n', 'Walk to 84-02 Northern Blvd, Jackson Heights, NY 11372, USA']\n"
     ]
    },
    {
     "ename": "TypeError",
     "evalue": "'NoneType' object is not iterable",
     "output_type": "error",
     "traceback": [
      "\u001b[0;31m---------------------------------------------------------------------------\u001b[0m",
      "\u001b[0;31mTypeError\u001b[0m                                 Traceback (most recent call last)",
      "\u001b[0;32m<ipython-input-151-5b594838aef6>\u001b[0m in \u001b[0;36m<module>\u001b[0;34m\u001b[0m\n\u001b[1;32m      1\u001b[0m \u001b[0mlines\u001b[0m \u001b[0;34m=\u001b[0m \u001b[0mpiopio_trip\u001b[0m\u001b[0;34m.\u001b[0m\u001b[0mget_written_instructions\u001b[0m\u001b[0;34m(\u001b[0m\u001b[0;34m)\u001b[0m\u001b[0;34m\u001b[0m\u001b[0;34m\u001b[0m\u001b[0m\n\u001b[0;32m----> 2\u001b[0;31m \u001b[0;32mfor\u001b[0m \u001b[0mline\u001b[0m \u001b[0;32min\u001b[0m \u001b[0mlines\u001b[0m\u001b[0;34m:\u001b[0m\u001b[0;34m\u001b[0m\u001b[0;34m\u001b[0m\u001b[0m\n\u001b[0m\u001b[1;32m      3\u001b[0m     \u001b[0mprint\u001b[0m\u001b[0;34m(\u001b[0m\u001b[0mline\u001b[0m\u001b[0;34m)\u001b[0m\u001b[0;34m\u001b[0m\u001b[0;34m\u001b[0m\u001b[0m\n",
      "\u001b[0;31mTypeError\u001b[0m: 'NoneType' object is not iterable"
     ]
    }
   ],
   "source": [
    "lines = piopio_trip.get_written_instructions()\n",
    "for line in lines:\n",
    "    print(line)"
   ]
  },
  {
   "cell_type": "code",
   "execution_count": 128,
   "metadata": {},
   "outputs": [],
   "source": [
    "class GDirections:\n",
    "    \"\"\"\n",
    "    A class to keep track of and display to the user only necessary parts of the Google maps searches.\n",
    "    \"\"\"\n",
    "    \n",
    "    def __init__(self, start_geometry, end_geometry):\n",
    "        self._directions_json = self._retrieve_google_directions_json(start_geometry, end_geometry)\n",
    "        self._trip_duration = self._calculate_trip_duration()\n",
    "        \n",
    "    def _retrieve_google_directions_json(self,start_geometry, end_geometry):\n",
    "        \n",
    "        \"\"\"\n",
    "        Call Google Maps API to retrieve a json with directions information\n",
    "        \"\"\"\n",
    "        \n",
    "        # Call API to \n",
    "        now = datetime.now()\n",
    "        directions = gmaps.directions(\n",
    "            origin = start_geometry,\n",
    "            destination = end_geometry,\n",
    "            mode = 'transit',\n",
    "            departure_time = now\n",
    "        )\n",
    "        return directions\n",
    "    \n",
    "    def _calculate_trip_duration(self):\n",
    "        \n",
    "        \"\"\"\n",
    "        Calculate and return trip duration in minutes.\n",
    "        \n",
    "        Returns\n",
    "        -------\n",
    "        \n",
    "        Trip duration as a string in minutes.\n",
    "        \n",
    "        e.g. '50 minutes'\n",
    "        \"\"\"\n",
    "        \n",
    "        # Store arrival time and convert to datetime\n",
    "        arrival_time = self._directions_json[0]['legs'][0]['arrival_time']['text']\n",
    "        arrival_datetime = datetime.strptime(arrival_time, '%H:%M%p')\n",
    "\n",
    "        # Store arrival time and convert to datetime\n",
    "        departure_time = self._directions_json[0]['legs'][0]['departure_time']['text']\n",
    "        departure_datetime = datetime.strptime(departure_time, '%H:%M%p')\n",
    "\n",
    "        # Calculate difference in seconds, convert to minutes\n",
    "        trip_duration = int( (arrival_datetime - departure_datetime).seconds/60 )\n",
    "        \n",
    "        return str(trip_duration) + ' minutes'\n",
    "    \n",
    "    def get_trip_duration(self):\n",
    "        \n",
    "        \"\"\"\n",
    "        Getter method for trip_duration\n",
    "        \"\"\"\n",
    "        \n",
    "        return self._trip_duration\n",
    "    \n",
    "    def get_written_instructions(self):\n",
    "        \"\"\"\n",
    "        Displays written details for the trip\n",
    "        \"\"\"\n",
    "        result = []\n",
    "        trips = self._directions_json[0]['legs'][0]['steps']\n",
    "        for trip in trips:\n",
    "            line = ''\n",
    "            if trip.get('transit_details'):\n",
    "                line = '  |  Take the ' + trip['transit_details']['line']['short_name'] + ' \\n'\n",
    "            result.append(trip['html_instructions'] + line)\n",
    "        return print(result)"
   ]
  },
  {
   "cell_type": "code",
   "execution_count": 136,
   "metadata": {},
   "outputs": [],
   "source": [
    "class test:\n",
    "    \"\"\"\n",
    "    A class to keep track of and display to the user only necessary parts of the Google maps searches.\n",
    "    \"\"\"\n",
    "    \n",
    "    def __init__(self, directions_json):\n",
    "        self._directions_json = directions_json\n",
    "        self._trip_duration = self._calculate_trip_duration()\n",
    "        \n",
    "    def _retrieve_google_directions_json(self,start_geometry, end_geometry):\n",
    "        \n",
    "        \"\"\"\n",
    "        Call Google Maps API to retrieve a json with directions information\n",
    "        \"\"\"\n",
    "        \n",
    "        # Call API to \n",
    "        now = datetime.now()\n",
    "        directions = gmaps.directions(\n",
    "            origin = start_geometry,\n",
    "            destination = end_geometry,\n",
    "            mode = 'transit',\n",
    "            departure_time = now\n",
    "        )\n",
    "        return directions\n",
    "    \n",
    "    def _calculate_trip_duration(self):\n",
    "        \n",
    "        \"\"\"\n",
    "        Calculate and return trip duration in minutes.\n",
    "        \n",
    "        Returns\n",
    "        -------\n",
    "        \n",
    "        Trip duration as a string in minutes.\n",
    "        \n",
    "        e.g. '50 minutes'\n",
    "        \"\"\"\n",
    "        \n",
    "        # Store arrival time and convert to datetime\n",
    "        arrival_time = self._directions_json[0]['legs'][0]['arrival_time']['text']\n",
    "        arrival_datetime = datetime.strptime(arrival_time, '%H:%M%p')\n",
    "\n",
    "        # Store arrival time and convert to datetime\n",
    "        departure_time = self._directions_json[0]['legs'][0]['departure_time']['text']\n",
    "        departure_datetime = datetime.strptime(departure_time, '%H:%M%p')\n",
    "\n",
    "        # Calculate difference in seconds, convert to minutes\n",
    "        trip_duration = int( (arrival_datetime - departure_datetime).seconds/60 )\n",
    "        \n",
    "        return str(trip_duration) + ' minutes'\n",
    "    \n",
    "    def get_trip_duration(self):\n",
    "        \n",
    "        \"\"\"\n",
    "        Getter method for trip_duration\n",
    "        \"\"\"\n",
    "        \n",
    "        return self._trip_duration\n",
    "    \n",
    "    def get_written_instructions(self):\n",
    "        \"\"\"\n",
    "        Displays written details for the trip\n",
    "        \"\"\"\n",
    "        trips = self._directions_json[0]['legs'][0]['steps']\n",
    "        for trip in trips:\n",
    "            line = ''\n",
    "            if trip.get('transit_details'):\n",
    "                line = '  |  Take the ' + trip['transit_details']['line']['short_name'] + ' '\n",
    "            print(trip['html_instructions'], line)"
   ]
  },
  {
   "cell_type": "code",
   "execution_count": 129,
   "metadata": {},
   "outputs": [],
   "source": [
    "current_trip = GDirections(my_geometry, gf_geometry)"
   ]
  },
  {
   "cell_type": "code",
   "execution_count": 139,
   "metadata": {},
   "outputs": [],
   "source": [
    "test_ = test(current_trip._directions_json)"
   ]
  },
  {
   "cell_type": "code",
   "execution_count": 131,
   "metadata": {
    "scrolled": true
   },
   "outputs": [
    {
     "name": "stdout",
     "output_type": "stream",
     "text": [
      "['Walk to Grand St/Graham Av', 'Bus towards QUEENS BLVD 62 DRIVE via GRAND  |  Take the Q59 train\\n', 'Walk to Grand Av - Newtown', 'Subway towards Forest Hills - 71 Av  |  Take the R train\\n', 'Walk to 110-48 72nd Ave, Flushing, NY 11375, USA']\n"
     ]
    }
   ],
   "source": [
    "# Need to fix this bug where it won't display print items\n",
    "current_trip.get_written_instructions()"
   ]
  },
  {
   "cell_type": "code",
   "execution_count": 141,
   "metadata": {},
   "outputs": [
    {
     "data": {
      "text/plain": [
       "'50 minutes'"
      ]
     },
     "execution_count": 141,
     "metadata": {},
     "output_type": "execute_result"
    }
   ],
   "source": [
    "test_.get_trip_duration()"
   ]
  },
  {
   "cell_type": "code",
   "execution_count": 140,
   "metadata": {},
   "outputs": [
    {
     "name": "stdout",
     "output_type": "stream",
     "text": [
      "Walk to Grand St/Graham Av \n",
      "Bus towards QUEENS BLVD 62 DRIVE via GRAND   |  Take the Q59 train\n",
      "Walk to Grand Av - Newtown \n",
      "Subway towards Forest Hills - 71 Av   |  Take the R train\n",
      "Walk to 110-48 72nd Ave, Flushing, NY 11375, USA \n"
     ]
    }
   ],
   "source": [
    "test_.get_written_instructions()"
   ]
  },
  {
   "cell_type": "code",
   "execution_count": null,
   "metadata": {},
   "outputs": [],
   "source": []
  }
 ],
 "metadata": {
  "kernelspec": {
   "display_name": "Python 3",
   "language": "python",
   "name": "python3"
  },
  "language_info": {
   "codemirror_mode": {
    "name": "ipython",
    "version": 3
   },
   "file_extension": ".py",
   "mimetype": "text/x-python",
   "name": "python",
   "nbconvert_exporter": "python",
   "pygments_lexer": "ipython3",
   "version": "3.7.4"
  },
  "varInspector": {
   "cols": {
    "lenName": 16,
    "lenType": 16,
    "lenVar": 40
   },
   "kernels_config": {
    "python": {
     "delete_cmd_postfix": "",
     "delete_cmd_prefix": "del ",
     "library": "var_list.py",
     "varRefreshCmd": "print(var_dic_list())"
    },
    "r": {
     "delete_cmd_postfix": ") ",
     "delete_cmd_prefix": "rm(",
     "library": "var_list.r",
     "varRefreshCmd": "cat(var_dic_list()) "
    }
   },
   "types_to_exclude": [
    "module",
    "function",
    "builtin_function_or_method",
    "instance",
    "_Feature"
   ],
   "window_display": false
  }
 },
 "nbformat": 4,
 "nbformat_minor": 2
}
