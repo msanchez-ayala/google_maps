{
 "cells": [
  {
   "cell_type": "markdown",
   "metadata": {},
   "source": [
    "# Data Collection\n",
    "This notebook is dedicated to the collection and insertion of data into a MySQL database hosted on Google Cloud. The collection code will ultimately be transferred to a python module file that will be saved in the same subfolder as this document."
   ]
  },
  {
   "cell_type": "code",
   "execution_count": 1,
   "metadata": {},
   "outputs": [],
   "source": [
    "import config\n",
    "import mysql.connector \n",
    "import googlemaps\n",
    "from datetime import datetime\n",
    "from mysql.connector import errorcode\n",
    "\n",
    "%load_ext autoreload\n",
    "%autoreload 2"
   ]
  },
  {
   "cell_type": "markdown",
   "metadata": {},
   "source": [
    "## Google Maps Directions API\n",
    "\n",
    "API documentation available [here](https://developers.google.com/maps/documentation/directions/start?hl=en_US).\n",
    "\n",
    "Python client for maps API available [here](https://github.com/googlemaps/google-maps-services-python)"
   ]
  },
  {
   "cell_type": "code",
   "execution_count": 2,
   "metadata": {},
   "outputs": [],
   "source": [
    "gmaps = googlemaps.Client(key=config.api_key)\n",
    "\n",
    "# Geocoding my address\n",
    "geocode_my_result = gmaps.geocode(config.my_address)\n",
    "\n",
    "# Store just latitude and longitude\n",
    "my_geometry = geocode_my_result[0]['geometry']['location']\n",
    "\n",
    "# Geocoding my girlfriend's address\n",
    "geocode_gf_result = gmaps.geocode(config.gf_address)\n",
    "\n",
    "# Store just latitude and longitude\n",
    "gf_geometry = geocode_gf_result[0]['geometry']['location']"
   ]
  },
  {
   "cell_type": "code",
   "execution_count": 57,
   "metadata": {},
   "outputs": [],
   "source": [
    "class GDirections:\n",
    "    \"\"\"\n",
    "    A class to keep track of and display to the user only necessary parts of the Google maps searches.\n",
    "    \"\"\"\n",
    "\n",
    "    \n",
    "    def __init__(self, start_geometry, end_geometry, mode):\n",
    "        \n",
    "        \"\"\"\n",
    "        Parameters\n",
    "        -----------\n",
    "    \n",
    "        start_geometry: latitude and longitude of start location\n",
    "        end_geometry: latitude and longitude of end location\n",
    "        mode: One of \"driving\", \"walking\", \"bicycling\" or \"transit\"\n",
    "        \"\"\"\n",
    "        \n",
    "        self._trip_start = datetime.now()\n",
    "        self._directions_json = self._retrieve_google_directions_json(start_geometry, end_geometry, mode)\n",
    "        self._trip_duration = self._calculate_trip_duration()\n",
    "        \n",
    "        \n",
    "    def _retrieve_google_directions_json(self,start_geometry, end_geometry, mode):\n",
    "        \n",
    "        \"\"\"\n",
    "        Call Google Maps API to retrieve a json with directions information\n",
    "        \"\"\"\n",
    "        \n",
    "        # Call API\n",
    "        directions = gmaps.directions(\n",
    "            origin = start_geometry,\n",
    "            destination = end_geometry,\n",
    "            mode = mode,\n",
    "            departure_time = self._trip_start\n",
    "        )\n",
    "        return directions\n",
    "    \n",
    "    def _calculate_trip_duration(self):\n",
    "        \n",
    "        \"\"\"\n",
    "        Calculate and return trip duration in minutes.\n",
    "        \n",
    "        Returns\n",
    "        -------\n",
    "        \n",
    "        Trip duration as a string in minutes.\n",
    "        \n",
    "        e.g. '50 minutes'\n",
    "        \"\"\"\n",
    "        \n",
    "        # Store arrival time and convert to datetime\n",
    "        arrival_time = self._directions_json[0]['legs'][0]['arrival_time']['text']\n",
    "        arrival_datetime = datetime.strptime(arrival_time, '%H:%M%p')\n",
    "    \n",
    "        # Store arrival time and convert to datetime\n",
    "        departure_time = self._directions_json[0]['legs'][0]['departure_time']['text']\n",
    "        departure_datetime = datetime.strptime(departure_time, '%H:%M%p')\n",
    "        \n",
    "        # When we go from 12 am/pm -> 1am/pm, we don't want to say the difference is 11 hours\n",
    "        # Thus, account for when departure hour is greater than arrival hour\n",
    "        if departure_datetime.hour > arrival_datetime.hour:\n",
    "            departure_datetime = departure_datetime.replace(hour=0)\n",
    "        \n",
    "        # Calculate difference in seconds, convert to minutes\n",
    "        trip_duration = int( (arrival_datetime - departure_datetime).seconds/60 )\n",
    "        \n",
    "        return trip_duration\n",
    "    \n",
    "    def get_trip_duration(self):\n",
    "        \"\"\"\n",
    "        Getter method for trip_duration in minutes as int\n",
    "        \"\"\"\n",
    "        \n",
    "        return self._trip_duration\n",
    "    \n",
    "    def get_trip_instructions(self):\n",
    "        \"\"\"\n",
    "        RETURNS\n",
    "        -------\n",
    "        A dictionary with which trains/buses to take in this trip and how long each one will take.\n",
    "\n",
    "        PARAMETERS\n",
    "        ----------\n",
    "\n",
    "        directions: [JSON] raw directions contained within self._directions_json\n",
    "        \"\"\"\n",
    "        # Empty container for results\n",
    "        directions_list = []\n",
    "    \n",
    "        # Isolate just the specific trip directions\n",
    "        directions = self._directions_json[0]['legs'][0]['steps']\n",
    "\n",
    "        for direction in directions:\n",
    "            \n",
    "            # Ignore any walking instructions\n",
    "            if direction.get('transit_details'):\n",
    "                \n",
    "                # Store name of bus or train line\n",
    "                travel_mode = direction['transit_details']['line']['short_name']\n",
    "                \n",
    "                # Store time on that bus or train line in minutes as int\n",
    "                direction_len = int(direction['duration']['text'].split()[0])\n",
    "                \n",
    "                # Append dict to the results container\n",
    "                directions_list.append({\n",
    "                    'travel_mode' : travel_mode,\n",
    "                    'length' : direction_len\n",
    "                })\n",
    "\n",
    "        return directions_list\n",
    "    \n",
    "    def get_trip_start(self):\n",
    "        return self._trip_start.strftime(\"%Y/%m/%d %H:%M\")"
   ]
  },
  {
   "cell_type": "code",
   "execution_count": 58,
   "metadata": {},
   "outputs": [],
   "source": [
    "# Trips to gf's home\n",
    "transit_to_gf = GDirections(my_geometry, gf_geometry, 'transit')\n",
    "\n",
    "# Trips to my home\n",
    "transit_to_me = GDirections(gf_geometry, my_geometry, 'transit')\n",
    "\n",
    "# Store these together in a list\n",
    "trip_objects = [transit_to_gf, transit_to_me]"
   ]
  },
  {
   "cell_type": "code",
   "execution_count": 59,
   "metadata": {},
   "outputs": [
    {
     "data": {
      "text/plain": [
       "'2020/02/16 14:29'"
      ]
     },
     "execution_count": 59,
     "metadata": {},
     "output_type": "execute_result"
    }
   ],
   "source": [
    "trip_objects[0].get_trip_start()"
   ]
  },
  {
   "cell_type": "code",
   "execution_count": 62,
   "metadata": {},
   "outputs": [
    {
     "data": {
      "text/plain": [
       "58"
      ]
     },
     "execution_count": 62,
     "metadata": {},
     "output_type": "execute_result"
    }
   ],
   "source": [
    "trip_objects[0].get_trip_duration()"
   ]
  },
  {
   "cell_type": "code",
   "execution_count": 63,
   "metadata": {},
   "outputs": [
    {
     "data": {
      "text/plain": [
       "[{'travel_mode': 'B24', 'length': 11},\n",
       " {'travel_mode': '7', 'length': 7},\n",
       " {'travel_mode': 'E', 'length': 7}]"
      ]
     },
     "execution_count": 63,
     "metadata": {},
     "output_type": "execute_result"
    }
   ],
   "source": [
    "trip_objects[0].get_trip_instructions()"
   ]
  },
  {
   "cell_type": "code",
   "execution_count": 27,
   "metadata": {
    "scrolled": true
   },
   "outputs": [],
   "source": [
    "# #Convert date string back to datetime\n",
    "# #This will be used to convert the string back to datetime object after we pull back down from db\n",
    "\n",
    "# datetime.strptime(db_time, \"%Y/%m/%d %H:%M\")"
   ]
  },
  {
   "cell_type": "markdown",
   "metadata": {},
   "source": [
    "# Set up MySQL database\n",
    "Automate data collection to add trip information every 5 mins or so."
   ]
  },
  {
   "cell_type": "code",
   "execution_count": 12,
   "metadata": {},
   "outputs": [],
   "source": [
    "cnx = mysql.connector.connect(\n",
    "    host = config.host,\n",
    "    user = config.user,\n",
    "    passwd = config.password\n",
    ")\n",
    "cursor = cnx.cursor()"
   ]
  },
  {
   "cell_type": "markdown",
   "metadata": {},
   "source": [
    "cursor.close()\n",
    "cnx.close()"
   ]
  },
  {
   "cell_type": "code",
   "execution_count": 18,
   "metadata": {},
   "outputs": [
    {
     "name": "stdout",
     "output_type": "stream",
     "text": [
      "Database google_maps does not exists.\n",
      "Database google_maps created successfully.\n"
     ]
    }
   ],
   "source": [
    "## Create new DB \n",
    "db_name = 'google_maps'\n",
    "\n",
    "def create_database(cursor, db_name):\n",
    "    \"\"\"\n",
    "    Creates a MySQL database.\n",
    "    \n",
    "    PARAMETERS\n",
    "    ----------\n",
    "    \n",
    "    cursor: cursor for a given mysql connection object\n",
    "    db_name: [str] name of the new database\n",
    "    \"\"\"\n",
    "    try:\n",
    "        cursor.execute(\n",
    "            \"CREATE DATABASE {} DEFAULT CHARACTER SET 'utf8'\".format(db_name))\n",
    "    except mysql.connector.Error as err:\n",
    "        print(\"Failed creating database: {}\".format(err))\n",
    "\n",
    "\n",
    "try:\n",
    "    # Check to see if db exists\n",
    "    cursor.execute(\"USE {}\".format(db_name))\n",
    "    \n",
    "except mysql.connector.Error as err:\n",
    "    \n",
    "    print(\"Database {} does not exists.\".format(db_name))\n",
    "    \n",
    "    # If db doesn't exist, create it\n",
    "    if err.errno == errorcode.ER_BAD_DB_ERROR:\n",
    "        \n",
    "        create_database(cursor, db_name)\n",
    "        \n",
    "        print(\"Database {} created successfully.\".format(db_name))\n",
    "        \n",
    "        cnx.database = db_name\n",
    "    \n",
    "    # If another error, print it\n",
    "    else:\n",
    "        print(err)"
   ]
  },
  {
   "cell_type": "code",
   "execution_count": 61,
   "metadata": {},
   "outputs": [],
   "source": [
    "# Create a table for the data\n",
    "\n",
    "create_query = \"\"\"\n",
    "CREATE TABLE trips (\n",
    "    departure_time varchar(20) NOT NULL,\n",
    "    trip_direction int(5) NOT NULL,\n",
    "    trip_duration int(10) NOT NULL,\n",
    "    trip_instructions varchar(150) NOT NULL,\n",
    "    PRIMARY KEY (departure_time, trip_direction)\n",
    "    );\n",
    "\n",
    "\"\"\"\n",
    "cursor.execute(create_query)"
   ]
  },
  {
   "cell_type": "code",
   "execution_count": 60,
   "metadata": {},
   "outputs": [],
   "source": [
    "# write a function to insert data into the reviews table\n",
    "def insert_data(trip_objects):\n",
    "    \"\"\"\n",
    "    Inserts data into google_maps MySQL db.\n",
    "    \n",
    "    PARAMETERS\n",
    "    ----------\n",
    "    \n",
    "    trip_object: List of 2 GDirections trip objects containing information \n",
    "                 to be inserted into the MySQL table. First object contains\n",
    "                 info from my house to gf and second object is the other trip.\n",
    "    \"\"\"\n",
    "    # Create list of tuples for the objects in trip_objects\n",
    "    trip_tuples = [\n",
    "        (\n",
    "        trip_object.get_trip_start(),         # departure_time\n",
    "        i,                                    # trip_direction (either 0 or 1)\n",
    "        trip_object.get_trip_duration(),      # trip_duration\n",
    "        str(trip_object.get_trip_instructions())   # trip_instructinos\n",
    "        )\n",
    "        for i, trip_object in enumerate(trip_objects)\n",
    "    ]\n",
    "       \n",
    "    insert_statement = \"\"\"\n",
    "                       INSERT INTO \n",
    "                         trips (departure_time, trip_direction, trip_duration, trip_instructions) \n",
    "                       VALUES \n",
    "                         (%s, %s, %s, %s)\n",
    "                       ;\"\"\"\n",
    "    cursor.executemany(insert_statement,trip_tuples)\n",
    "    cnx.commit()"
   ]
  },
  {
   "cell_type": "code",
   "execution_count": 59,
   "metadata": {},
   "outputs": [
    {
     "name": "stdout",
     "output_type": "stream",
     "text": [
      "[('2020/02/15 22:38', 0, 49, \"[{'travel_mode': 'Q59', 'length': 23}, {'travel_mode': 'R', 'length': 5}]\"), ('2020/02/15 22:38', 1, 62, \"[{'travel_mode': 'Q23', 'length': 10}, {'travel_mode': 'Q54', 'length': 21}]\")]\n"
     ]
    }
   ],
   "source": [
    "insert_data(trip_objects)"
   ]
  },
  {
   "cell_type": "code",
   "execution_count": null,
   "metadata": {},
   "outputs": [],
   "source": []
  }
 ],
 "metadata": {
  "kernelspec": {
   "display_name": "Python 3",
   "language": "python",
   "name": "python3"
  },
  "language_info": {
   "codemirror_mode": {
    "name": "ipython",
    "version": 3
   },
   "file_extension": ".py",
   "mimetype": "text/x-python",
   "name": "python",
   "nbconvert_exporter": "python",
   "pygments_lexer": "ipython3",
   "version": "3.7.4"
  },
  "varInspector": {
   "cols": {
    "lenName": 16,
    "lenType": 16,
    "lenVar": 40
   },
   "kernels_config": {
    "python": {
     "delete_cmd_postfix": "",
     "delete_cmd_prefix": "del ",
     "library": "var_list.py",
     "varRefreshCmd": "print(var_dic_list())"
    },
    "r": {
     "delete_cmd_postfix": ") ",
     "delete_cmd_prefix": "rm(",
     "library": "var_list.r",
     "varRefreshCmd": "cat(var_dic_list()) "
    }
   },
   "position": {
    "height": "502px",
    "left": "927px",
    "right": "20px",
    "top": "120px",
    "width": "333px"
   },
   "types_to_exclude": [
    "module",
    "function",
    "builtin_function_or_method",
    "instance",
    "_Feature"
   ],
   "window_display": false
  }
 },
 "nbformat": 4,
 "nbformat_minor": 2
}
