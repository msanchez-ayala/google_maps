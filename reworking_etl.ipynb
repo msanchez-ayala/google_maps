{
 "cells": [
  {
   "cell_type": "code",
   "execution_count": 281,
   "metadata": {},
   "outputs": [],
   "source": [
    "from datetime import datetime\n",
    "import googlemaps\n",
    "import config\n",
    "import json\n",
    "import psycopg2\n",
    "from directions import Directions\n",
    "%load_ext autoreload\n",
    "%autoreload 2"
   ]
  },
  {
   "cell_type": "markdown",
   "metadata": {},
   "source": [
    "## 0.1 Connecting to the Docker Container"
   ]
  },
  {
   "cell_type": "code",
   "execution_count": 274,
   "metadata": {},
   "outputs": [],
   "source": [
    "conn = psycopg2.connect(\n",
    "        host = '127.0.0.1',\n",
    "        dbname = 'google_maps',\n",
    "        user = 'google_user',\n",
    "        password = 'googleuser',\n",
    "    )\n",
    "cur = conn.cursor()\n",
    "\n",
    "conn.set_session(autocommit=True)"
   ]
  },
  {
   "cell_type": "code",
   "execution_count": 278,
   "metadata": {},
   "outputs": [],
   "source": [
    "conn.close()\n",
    "cur.close()"
   ]
  },
  {
   "cell_type": "markdown",
   "metadata": {},
   "source": [
    "## Flow of Information\n",
    "\n",
    "1. Calling gmaps.directions() gives back a JSON array with the directions data `directions`.\n",
    "2. From `directions` we find the `legs`, which tells us information such as `arrival_time`, `departure_time`, `duration`, and the `steps` of the trip.\n",
    "3. Parsing all of this will give a JSON for that particular trip.\n",
    "4. Save JSON file to directory of directions files\n",
    "5. Do the same for the opposite direction"
   ]
  },
  {
   "cell_type": "markdown",
   "metadata": {},
   "source": [
    "## 1.1 Directions Class"
   ]
  },
  {
   "cell_type": "code",
   "execution_count": 275,
   "metadata": {},
   "outputs": [],
   "source": [
    "from datetime import datetime\n",
    "import googlemaps\n",
    "import config\n",
    "\n",
    "class Directions:\n",
    "    \"\"\"\n",
    "    Connects to the Google Maps API to retrieve directions for a transit trip \n",
    "    between the two given addresses.\n",
    "    \n",
    "    Parameters\n",
    "    -----------\n",
    "    location_1: [str] First address as you would input into Google Maps.\n",
    "    location_2: [str] Second address as you would input into Google Maps.\n",
    "\n",
    "    Instance Variables (All immutable)\n",
    "    ----------------------------------\n",
    "    trip_start: [datetime] datetime object of when the API call was made.\n",
    "    trip_duration: [int] total duration of the trip in minutes.\n",
    "    trip_instructions: [dict] with train/bus lines and time on each one.\n",
    "    \"\"\"\n",
    "\n",
    "\n",
    "    def __init__(self, location_1, location_2):\n",
    "\n",
    "        # Connect to Google Maps API\n",
    "        self.gmaps = self.gmaps_client(config.api_key)\n",
    "\n",
    "        # Convert locations to coordinates\n",
    "        self.coords = self.locations_to_coords(location_1, location_2)\n",
    "        \n",
    "        # Get full directions for trips between both locations\n",
    "        self.full_directions_A = self.get_full_directions(self.coords)\n",
    "        self.full_directions_B = self.get_full_directions(self.coords[::-1])\n",
    "        \n",
    "        # Get parsed directions for trips between both locations\n",
    "        self.directions_A = self.get_directions(self.full_directions_A)\n",
    "        self.directions_B = self.get_directions(self.full_directions_B)\n",
    "\n",
    "    def gmaps_client(self, api_key):\n",
    "        \"\"\"\n",
    "        Returns\n",
    "        -------\n",
    "        The gmaps client, given the key in the config file.\n",
    "        \n",
    "        Parameters\n",
    "        ----------\n",
    "        api_key: [str] A Google API key.\n",
    "        \"\"\"\n",
    "        return googlemaps.Client(config.api_key)\n",
    "\n",
    "\n",
    "    def locations_to_coords(self, location_1, location_2):\n",
    "        \"\"\"\n",
    "        Returns\n",
    "        -------\n",
    "        List of two original location addresses as coordinates.\n",
    "        \n",
    "        Parameters\n",
    "        -----------\n",
    "        location_1: [str] First address as you would input into Google Maps.\n",
    "        location_2: [str] Second address as you would input into Google Maps.\n",
    "       \n",
    "\n",
    "        Examples\n",
    "        --------\n",
    "        >>> self.locations_to_coords(\n",
    "                'One World Trade Center', \n",
    "                '476 5th Ave, New York, NY 10018'\n",
    "            )\n",
    "        [\n",
    "            {'lat': 40.7127431, 'lng': -74.0133795},\n",
    "            {'lat': 40.75318230000001, 'lng': -73.9822534}\n",
    "        ]\n",
    "        \"\"\"\n",
    "        # Convert each location to coordinates and store in list\n",
    "        coords = [\n",
    "            gmaps.geocode(location)[0]['geometry']['location']\n",
    "            for location in [location_1, location_2]\n",
    "        ]\n",
    "        return coords\n",
    "\n",
    "\n",
    "    def get_full_directions(self, coords):\n",
    "        \"\"\"\n",
    "        Returns\n",
    "        --------\n",
    "        A dict with full trip direction information straight from Google Maps API.\n",
    "\n",
    "        Parameters\n",
    "        ----------\n",
    "        coords: List of two original location addresses as coordinates.\n",
    "        \"\"\"\n",
    "\n",
    "        # Call API\n",
    "        directions = gmaps.directions(\n",
    "            origin = coords[0],\n",
    "            destination = coords[1],\n",
    "            mode = 'transit',\n",
    "            departure_time = datetime.now()\n",
    "        )[0]\n",
    "        return directions\n",
    "    \n",
    "    \n",
    "    def parse_steps(self, steps):\n",
    "        \"\"\"\n",
    "        Returns\n",
    "        -------\n",
    "        A list of dictionaries with parsed information on transit steps of the trip.\n",
    "        \n",
    "        Parameters\n",
    "        ----------\n",
    "        steps: A list of dictinoaries with the full information on each individual step of the trip.\n",
    "        \"\"\"\n",
    "        step_directions = []\n",
    "        step_num = 1\n",
    "        for step in steps:\n",
    "\n",
    "            # We'll only consider steps that involve bus or train.\n",
    "            # Entries for walking don't habe key 'transit_details'\n",
    "            if step.get('transit_details'):\n",
    "                distance = step['distance']['value'] # Meters\n",
    "                instrs = step['html_instructions']\n",
    "                line_name = step['transit_details']['line']['short_name']\n",
    "                step_directions.append({\n",
    "                    'step': step_num,\n",
    "                    'distance': distance,\n",
    "                    'html_instructions': instrs,\n",
    "                    'line_name': line_name\n",
    "                })\n",
    "                step_num += 1\n",
    "        \n",
    "        return step_directions\n",
    "    \n",
    "    \n",
    "    def get_directions(self, full_directions):\n",
    "        \"\"\"\n",
    "        Returns\n",
    "        -------\n",
    "        A parsed `full_directions` dictionary.\n",
    "        \n",
    "        Parameters\n",
    "        ----------\n",
    "        full_directions: dict with full trip direction information straight from Google Maps API.\n",
    "        \"\"\"\n",
    "        trip_directions = {}\n",
    "\n",
    "        # Abbreviate the path\n",
    "        legs = full_directions['legs'][0]\n",
    "        start_location = legs['start_location']          # Coordinates\n",
    "        end_location = legs['end_location']              # Coordinates\n",
    "        arrival_time = legs['arrival_time']['value']     # Timestamp\n",
    "        departure_time = legs['departure_time']['value'] # Timestamp\n",
    "        duration = int(legs['duration']['value']/60)     # Minutes\n",
    "\n",
    "\n",
    "        # Abbreviate the next path and parse\n",
    "        steps = legs['steps']\n",
    "        step_directions = self.parse_steps(steps)\n",
    "\n",
    "        trip_directions = {\n",
    "            'start_location': start_location,\n",
    "            'end_location': end_location,\n",
    "            'departure_time': departure_time,\n",
    "            'arrival_time': arrival_time,\n",
    "            'duration': duration,\n",
    "            'steps': step_directions\n",
    "        }\n",
    "        \n",
    "        return trip_directions\n",
    "    \n",
    "    \n",
    "    def to_json(self, trip_directions, which_trip):\n",
    "        \"\"\"\n",
    "        Saves `trip_directions` as JSON in a local folder denoted by `which_trip`. File path is\n",
    "        data/A/ or data/B/\n",
    "        \n",
    "        Parameters\n",
    "        ----------\n",
    "        trip_directions: the parsed directions dictionary derived from get_directions() method.\n",
    "        \n",
    "        which_trip: [str] Either 'A' or 'B' for trip A or trip B (location 1 -> location 2 \n",
    "        or location 2 -> location1) to help designate where to save this data.\n",
    "        \"\"\"\n",
    "        # Convert departure time timestamp to string for JSON naming\n",
    "        date = datetime.fromtimestamp(trip_directions['departure_time'])\n",
    "        date_str = datetime.strftime(date, '%Y-%m-%d_%H-%M-%S')\n",
    "\n",
    "        # Export to a JSON\n",
    "        with open(f'data/{which_trip}/{date_str}.json', 'w') as f:\n",
    "            json.dump(trip_directions, f)"
   ]
  },
  {
   "cell_type": "markdown",
   "metadata": {},
   "source": [
    "## 1.2 Testing Directions Class"
   ]
  },
  {
   "cell_type": "code",
   "execution_count": null,
   "metadata": {},
   "outputs": [],
   "source": []
  },
  {
   "cell_type": "code",
   "execution_count": 276,
   "metadata": {},
   "outputs": [],
   "source": [
    "location_A = '186 Scholes St, Brooklyn NY'\n",
    "location_B = '110-48 72nd Ave, Flushing NY'"
   ]
  },
  {
   "cell_type": "code",
   "execution_count": 288,
   "metadata": {},
   "outputs": [],
   "source": [
    "directions = Directions(location_A, location_B)"
   ]
  },
  {
   "cell_type": "code",
   "execution_count": 289,
   "metadata": {
    "scrolled": true
   },
   "outputs": [
    {
     "data": {
      "text/plain": [
       "[{'lat': 40.708711, 'lng': -73.941571}, {'lat': 40.721251, 'lng': -73.839142}]"
      ]
     },
     "execution_count": 289,
     "metadata": {},
     "output_type": "execute_result"
    }
   ],
   "source": [
    "directions.coords"
   ]
  },
  {
   "cell_type": "code",
   "execution_count": 290,
   "metadata": {},
   "outputs": [],
   "source": [
    "directions.to_json(directions.directions_A, 'data/A/')\n",
    "directions.to_json(directions.directions_B, 'data/B/')"
   ]
  },
  {
   "cell_type": "code",
   "execution_count": 311,
   "metadata": {},
   "outputs": [],
   "source": [
    "import os\n",
    "import glob"
   ]
  },
  {
   "cell_type": "code",
   "execution_count": 309,
   "metadata": {},
   "outputs": [],
   "source": [
    "def process_data(filepath):\n",
    "    \"\"\"\n",
    "    Performs ETL for either the song data or log data.\n",
    "\n",
    "    Parameters\n",
    "    ----------\n",
    "    cur, conn: cursor and connection to sparkifydb\n",
    "    \n",
    "    filepath: string containing the filepath to either the song_data or log_data\n",
    "        directory.\n",
    "        \n",
    "    func: function that performs ETL on the given set of files (either song or\n",
    "        log data).\n",
    "    \"\"\"\n",
    "    # get all files matching extension from directory\n",
    "    all_files = []\n",
    "    for root, dirs, files in os.walk(filepath):\n",
    "        files = glob.glob(os.path.join(root,'*.json'))\n",
    "        for f in files :\n",
    "            all_files.append(os.path.abspath(f))\n",
    "\n",
    "    # get total number of files found\n",
    "    num_files = len(all_files)\n",
    "    print('{} files found in {}'.format(num_files, filepath))\n",
    "\n",
    "#     # iterate over files and perform ETL\n",
    "#     for i, datafile in enumerate(all_files, 1):\n",
    "#         func(cur, datafile)\n",
    "#         conn.commit()\n",
    "#         print('{}/{} files processed.'.format(i, num_files))"
   ]
  },
  {
   "cell_type": "code",
   "execution_count": 312,
   "metadata": {},
   "outputs": [
    {
     "name": "stdout",
     "output_type": "stream",
     "text": [
      "6 files found in data\n"
     ]
    }
   ],
   "source": [
    "process_data('data')"
   ]
  },
  {
   "cell_type": "code",
   "execution_count": 314,
   "metadata": {},
   "outputs": [],
   "source": [
    "dirs = directions.directions_A"
   ]
  },
  {
   "cell_type": "code",
   "execution_count": 315,
   "metadata": {},
   "outputs": [
    {
     "data": {
      "text/plain": [
       "dict_keys(['start_location', 'end_location', 'departure_time', 'arrival_time', 'duration', 'steps'])"
      ]
     },
     "execution_count": 315,
     "metadata": {},
     "output_type": "execute_result"
    }
   ],
   "source": [
    "dirs.keys()"
   ]
  },
  {
   "cell_type": "code",
   "execution_count": 321,
   "metadata": {},
   "outputs": [
    {
     "data": {
      "text/plain": [
       "{'step': 1,\n",
       " 'distance': 1490,\n",
       " 'html_instructions': 'Subway towards 8 Av',\n",
       " 'line_name': 'L'}"
      ]
     },
     "execution_count": 321,
     "metadata": {},
     "output_type": "execute_result"
    }
   ],
   "source": [
    "dirs['steps'][0]"
   ]
  },
  {
   "cell_type": "code",
   "execution_count": 319,
   "metadata": {},
   "outputs": [
    {
     "data": {
      "text/plain": [
       "[{'lat': 40.708711, 'lng': -73.941571}, {'lat': 40.721251, 'lng': -73.839142}]"
      ]
     },
     "execution_count": 319,
     "metadata": {},
     "output_type": "execute_result"
    }
   ],
   "source": [
    "directions.coords"
   ]
  },
  {
   "cell_type": "markdown",
   "metadata": {},
   "source": [
    "Tables could be:\n",
    "\n",
    "`locations`\n",
    "location_id CHAR(1) NOT NULL, \n",
    "latitude NUMERIC NOT NULL, \n",
    "longitude NUMERIC NOT NULL\n",
    "\n",
    "`time`\n",
    "trip_id INT REFERENCES duration(trip_id)\n",
    "departure_time TIMESTAMP NOT NULL,\n",
    "minute INT,\n",
    "hour INT,\n",
    "day INT,\n",
    "week_of_year INT,\n",
    "month INT,\n",
    "year INT,\n",
    "is_weekday BOOLEAN,\n",
    "PRIMARY KEY(departure_time, trip_id)\n",
    "\n",
    "`duration`\n",
    "trip_id INT SERIAL\n",
    "starting_loc_id CHAR(1) NOT NULL\n",
    "\n",
    "`steps`\n",
    "trip_id INT REFERENCES duration(trip_id)\n",
    "step_num SMALLINT\n",
    "distance BIGINT\n",
    "line_name VARCHAR(5)\n",
    "duration INT (might be interesting - time on trains vs time walking or waiting)\n"
   ]
  }
 ],
 "metadata": {
  "kernelspec": {
   "display_name": "Python 3",
   "language": "python",
   "name": "python3"
  },
  "language_info": {
   "codemirror_mode": {
    "name": "ipython",
    "version": 3
   },
   "file_extension": ".py",
   "mimetype": "text/x-python",
   "name": "python",
   "nbconvert_exporter": "python",
   "pygments_lexer": "ipython3",
   "version": "3.7.4"
  },
  "varInspector": {
   "cols": {
    "lenName": 16,
    "lenType": 16,
    "lenVar": 40
   },
   "kernels_config": {
    "python": {
     "delete_cmd_postfix": "",
     "delete_cmd_prefix": "del ",
     "library": "var_list.py",
     "varRefreshCmd": "print(var_dic_list())"
    },
    "r": {
     "delete_cmd_postfix": ") ",
     "delete_cmd_prefix": "rm(",
     "library": "var_list.r",
     "varRefreshCmd": "cat(var_dic_list()) "
    }
   },
   "position": {
    "height": "375px",
    "left": "943px",
    "right": "20px",
    "top": "120px",
    "width": "317px"
   },
   "types_to_exclude": [
    "module",
    "function",
    "builtin_function_or_method",
    "instance",
    "_Feature"
   ],
   "window_display": false
  }
 },
 "nbformat": 4,
 "nbformat_minor": 2
}
