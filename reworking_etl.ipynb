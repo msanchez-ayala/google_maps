{
 "cells": [
  {
   "cell_type": "code",
   "execution_count": 73,
   "metadata": {},
   "outputs": [],
   "source": [
    "from datetime import datetime\n",
    "import googlemaps\n",
    "import config\n",
    "import json"
   ]
  },
  {
   "cell_type": "code",
   "execution_count": 4,
   "metadata": {},
   "outputs": [],
   "source": [
    "def _extract_directions(self, start_coords, end_coords, mode):\n",
    "        \"\"\"\n",
    "        Extraction of Google Maps API data.\n",
    "\n",
    "        Returns\n",
    "        --------\n",
    "        A json with trip direction information\n",
    "        \"\"\"\n",
    "\n",
    "        # Call API\n",
    "        directions = self._gmaps.directions(\n",
    "            origin = start_coords,\n",
    "            destination = end_coords,\n",
    "            mode = mode,\n",
    "            departure_time = self._trip_start\n",
    "        )\n",
    "        return directions"
   ]
  },
  {
   "cell_type": "code",
   "execution_count": 5,
   "metadata": {},
   "outputs": [],
   "source": [
    "def get_coordinates(address, gmaps):\n",
    "    \"\"\"\n",
    "    Returns\n",
    "    -------\n",
    "    Lat/Long corresponding to the supplied address.\n",
    "\n",
    "    Parameters\n",
    "    ----------\n",
    "    address: [str] An address as you would enter it into Google Maps.\n",
    "    gmaps: [googlemaps.Client object] Client object for current session.\n",
    "\n",
    "    Examples\n",
    "    --------\n",
    "    >>> get_coordinates('One World Trade Center')\n",
    "    {'lat': 40.7127431, 'lng': -74.0133795}\n",
    "\n",
    "    >>> get_coordinates('476 5th Ave, New York, NY 10018')\n",
    "    {'lat': 40.75318230000001, 'lng': -73.9822534}\n",
    "    \"\"\"\n",
    "    geocoded_address = gmaps.geocode(address)\n",
    "    geometry = geocoded_address[0]['geometry']['location']\n",
    "    return geometry"
   ]
  },
  {
   "cell_type": "code",
   "execution_count": null,
   "metadata": {},
   "outputs": [],
   "source": [
    "def extract_transform_directions(location_1, location_2, key):\n",
    "    \"\"\"\n",
    "    Extracts and transforms data from the Google Maps API trip information\n",
    "    between location_1 and location_2.\n",
    "\n",
    "    Returns\n",
    "    -------\n",
    "    List of two Directions objects. One for a trip in each direction:\n",
    "\n",
    "    location_1 -> location 2 AND\n",
    "    location_2 -> location 1\n",
    "\n",
    "    Parameters\n",
    "    ----------\n",
    "    location_1: [str] First location of this transit trip. An address as you\n",
    "        would enter it into Google Maps.\n",
    "    location_2: [str] Second location of this transit trip. An address as you\n",
    "        would enter it into Google Maps.\n",
    "    key: [str] Google API key.\n",
    "    \"\"\"\n",
    "    gmaps = googlemaps.Client(key)\n",
    "    gmaps = googlemaps.Client(config.api_key)\n",
    "\n",
    "    # Get coordinates for two locations\n",
    "    location_1_coords = get_coordinates(location_1, gmaps)\n",
    "    location_2_coords = get_coordinates(location_2, gmaps)\n",
    "\n",
    "    # Instantiate Direction objects for each trip (class handles extraction\n",
    "    # and transformation of the data in the __init__ method)\n",
    "    trip_1 = Directions(\n",
    "        location_1_coords, location_2_coords, 'transit', gmaps\n",
    "    )\n",
    "    trip_2 = Directions(\n",
    "        location_2_coords, location_1_coords, 'transit', gmaps\n",
    "    )\n",
    "\n",
    "    return [trip_1, trip_2]"
   ]
  },
  {
   "cell_type": "code",
   "execution_count": 8,
   "metadata": {},
   "outputs": [],
   "source": [
    "# Insantiate gmaps client\n",
    "gmaps = googlemaps.Client(config.api_key)\n",
    "\n",
    "# Get coordinates for two locations\n",
    "location_1_coords = get_coordinates('186 Scholes St, Brooklyn NY', gmaps)\n",
    "location_2_coords = get_coordinates('110-48 72nd Ave, Flushing NY', gmaps)"
   ]
  },
  {
   "cell_type": "code",
   "execution_count": 48,
   "metadata": {},
   "outputs": [],
   "source": [
    "# Call API\n",
    "directions = gmaps.directions(\n",
    "    origin = location_1_coords,\n",
    "    destination = location_2_coords,\n",
    "    mode = 'transit',\n",
    "    departure_time = datetime.now()\n",
    ")[0]"
   ]
  },
  {
   "cell_type": "markdown",
   "metadata": {},
   "source": [
    "## Flow of Information\n",
    "\n",
    "1. Calling gmaps.directions() gives back a JSON array with the directions data `directions`.\n",
    "2. From `directions` we find the `legs`, which tells us information such as `arrival_time`, `departure_time`, `duration`, and the `steps` of the trip.\n",
    "3. Parsing all of this will give a JSON for that particular trip.\n",
    "4. Save JSON file to directory of directions files\n",
    "5. Do the same for the opposite direction"
   ]
  },
  {
   "cell_type": "code",
   "execution_count": null,
   "metadata": {},
   "outputs": [],
   "source": []
  },
  {
   "cell_type": "code",
   "execution_count": null,
   "metadata": {},
   "outputs": [],
   "source": [
    "directions.keys() # Legs is the only useful one. Others are blank or gibberish"
   ]
  },
  {
   "cell_type": "code",
   "execution_count": null,
   "metadata": {},
   "outputs": [],
   "source": [
    "directions['legs'][0].keys()"
   ]
  },
  {
   "cell_type": "code",
   "execution_count": 16,
   "metadata": {},
   "outputs": [
    {
     "data": {
      "text/plain": [
       "dict_keys(['bounds', 'copyrights', 'legs', 'overview_polyline', 'summary', 'warnings', 'waypoint_order'])"
      ]
     },
     "execution_count": 16,
     "metadata": {},
     "output_type": "execute_result"
    }
   ],
   "source": [
    "legs = directions['legs'][0]"
   ]
  },
  {
   "cell_type": "code",
   "execution_count": 85,
   "metadata": {},
   "outputs": [],
   "source": [
    "trip_directions = {}\n",
    "\n",
    "# Abbreviate the path\n",
    "legs = directions['legs'][0]\n",
    "arrival_time = legs['arrival_time']['value']     # Timestamp\n",
    "departure_time = legs['departure_time']['value'] # Timestamp\n",
    "duration = int(legs['duration']['value']/60)     # Minutes\n",
    "\n",
    "\n",
    "# Abbreviate the next path\n",
    "steps = legs['steps']\n",
    "step_directions = []\n",
    "for step in steps:\n",
    "    \n",
    "    # We'll only consider steps that involve bus or train.\n",
    "    # Entries for walking don't habe key 'transit_details'\n",
    "    if step.get('transit_details'):\n",
    "        distance = step['distance']['value'] # Meters\n",
    "        instrs = step['html_instructions']\n",
    "        line_name = step['transit_details']['line']['short_name']\n",
    "        step_directions.append({\n",
    "            'distance': distance,\n",
    "            'html_instructions': instrs,\n",
    "            'line_name': line_name\n",
    "        })\n",
    "\n",
    "trip_directions = {\n",
    "    'departure_time': departure_time,\n",
    "    'arrival_time': arrival_time,\n",
    "    'duration': duration,\n",
    "    'steps': step_directions\n",
    "}"
   ]
  },
  {
   "cell_type": "code",
   "execution_count": 86,
   "metadata": {},
   "outputs": [
    {
     "data": {
      "text/plain": [
       "{'departure_time': 1586492983,\n",
       " 'arrival_time': 1586496469,\n",
       " 'duration': 58,\n",
       " 'steps': [{'distance': 11418,\n",
       "   'html_instructions': 'Bus towards Jamaica 170 St',\n",
       "   'line_name': 'Q54'},\n",
       "  {'distance': 2564,\n",
       "   'html_instructions': 'Subway towards World Trade Center',\n",
       "   'line_name': 'E'}]}"
      ]
     },
     "execution_count": 86,
     "metadata": {},
     "output_type": "execute_result"
    }
   ],
   "source": [
    "trip_directions"
   ]
  },
  {
   "cell_type": "code",
   "execution_count": 90,
   "metadata": {},
   "outputs": [],
   "source": [
    "# Export to a JSON\n",
    "with open('directions.json', 'w') as f:\n",
    "    json.dump(trip_directions, f)"
   ]
  },
  {
   "cell_type": "code",
   "execution_count": null,
   "metadata": {},
   "outputs": [],
   "source": []
  }
 ],
 "metadata": {
  "kernelspec": {
   "display_name": "Python 3",
   "language": "python",
   "name": "python3"
  },
  "language_info": {
   "codemirror_mode": {
    "name": "ipython",
    "version": 3
   },
   "file_extension": ".py",
   "mimetype": "text/x-python",
   "name": "python",
   "nbconvert_exporter": "python",
   "pygments_lexer": "ipython3",
   "version": "3.7.4"
  },
  "varInspector": {
   "cols": {
    "lenName": 16,
    "lenType": 16,
    "lenVar": 40
   },
   "kernels_config": {
    "python": {
     "delete_cmd_postfix": "",
     "delete_cmd_prefix": "del ",
     "library": "var_list.py",
     "varRefreshCmd": "print(var_dic_list())"
    },
    "r": {
     "delete_cmd_postfix": ") ",
     "delete_cmd_prefix": "rm(",
     "library": "var_list.r",
     "varRefreshCmd": "cat(var_dic_list()) "
    }
   },
   "types_to_exclude": [
    "module",
    "function",
    "builtin_function_or_method",
    "instance",
    "_Feature"
   ],
   "window_display": false
  }
 },
 "nbformat": 4,
 "nbformat_minor": 2
}
